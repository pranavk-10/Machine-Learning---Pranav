{
 "cells": [
  {
   "cell_type": "code",
   "execution_count": 1,
   "metadata": {},
   "outputs": [
    {
     "name": "stdout",
     "output_type": "stream",
     "text": [
      "Your eligible to vote\n"
     ]
    }
   ],
   "source": [
    "#if statement\n",
    "\n",
    "age = 18\n",
    "\n",
    "if age >=18:\n",
    "    print(\"Your eligible to vote\")\n",
    "    "
   ]
  },
  {
   "cell_type": "code",
   "execution_count": 2,
   "metadata": {},
   "outputs": [
    {
     "name": "stdout",
     "output_type": "stream",
     "text": [
      "You cant vote\n"
     ]
    }
   ],
   "source": [
    "# else\n",
    "age =16\n",
    "\n",
    "if age >= 18:\n",
    "    print(\"You can vote\")\n",
    "\n",
    "else:\n",
    "    print(\"You cant vote\")"
   ]
  },
  {
   "cell_type": "code",
   "execution_count": 3,
   "metadata": {},
   "outputs": [
    {
     "name": "stdout",
     "output_type": "stream",
     "text": [
      "Adult\n"
     ]
    }
   ],
   "source": [
    "#elif statement\n",
    "\n",
    "age = 20\n",
    "if age <= 13:\n",
    "    print(\"child\")\n",
    "\n",
    "elif age<18:\n",
    "    print(\"teen\")\n",
    "\n",
    "else:\n",
    "    print(\"Adult\")"
   ]
  },
  {
   "cell_type": "code",
   "execution_count": 4,
   "metadata": {},
   "outputs": [
    {
     "name": "stdout",
     "output_type": "stream",
     "text": [
      "the number is positive\n",
      "This number is even\n"
     ]
    }
   ],
   "source": [
    "#nested conditional statements\n",
    "\n",
    "num = int(input(\"Enter the Number\"))\n",
    "\n",
    "if num> 0:\n",
    "    print(\"the number is positive\")\n",
    "    if num%2==0:\n",
    "        print(\"This number is even\")\n",
    "    else:\n",
    "        print(\"This number is odd\")\n",
    "\n",
    "else:\n",
    "    (\"The number may be negative or zero\")"
   ]
  },
  {
   "cell_type": "code",
   "execution_count": 8,
   "metadata": {},
   "outputs": [
    {
     "name": "stdout",
     "output_type": "stream",
     "text": [
      "A Leap Year\n"
     ]
    }
   ],
   "source": [
    "#usecases\n",
    "\n",
    "#determine if a year is a leap year\n",
    "\n",
    "year = int(input(\"Enter the Required Year\"))\n",
    "\n",
    "if year%4 == 0:\n",
    "    if year%100==0:\n",
    "        if year%400 == 0:\n",
    "            print(\"The Year is a Leap Year\")\n",
    "        else:\n",
    "            print(\"Not a Leap Year\")\n",
    "    else:\n",
    "        print(\"A Leap Year\")\n",
    "else:\n",
    "    print(\"Non Leap Year\")"
   ]
  },
  {
   "cell_type": "code",
   "execution_count": 10,
   "metadata": {},
   "outputs": [
    {
     "name": "stdout",
     "output_type": "stream",
     "text": [
      "The Result is:  1600.0\n"
     ]
    }
   ],
   "source": [
    "#calculator program\n",
    "\n",
    "num1 = float(input(\"Enter the First Number\"))\n",
    "num2 = float(input(\"Enter the Second Number\"))\n",
    "operation = input(\"Enter the Operation to be performed (+,-,*,/): \")\n",
    "\n",
    "if operation == '+':\n",
    "    print(\"The Result is: \",num1+num2)\n",
    "elif operation == '-':\n",
    "    print(\"The Result is: \",num1-num2)\n",
    "elif operation == '*':\n",
    "    print(\"The Result is: \",num1*num2)\n",
    "elif operation == '/':\n",
    "    if num2 != 0:\n",
    "        print(\"The Result is: \",num1/num2)\n",
    "    else:\n",
    "        print(\"Invalid\")\n",
    "\n",
    "else:\n",
    "    print(\"No operation to be performed\")\n",
    "\n"
   ]
  },
  {
   "cell_type": "code",
   "execution_count": 16,
   "metadata": {},
   "outputs": [
    {
     "name": "stdout",
     "output_type": "stream",
     "text": [
      "Please Pay - rupees 30\n"
     ]
    }
   ],
   "source": [
    "#determine the ticket price based o age and whether the person is a student\n",
    "age = int(input(\"Enter the Valid Age\"))\n",
    "student = input(\"Are You a student: \")\n",
    "\n",
    "if age <= 10:\n",
    "    print(\"Please Pay - rupees 20\")\n",
    "elif age >= 11 and student == \"yes\":\n",
    "    print(\"Please Pay - rupees 30\")\n",
    "elif age >= 11:\n",
    "    print(\"Please Pay - rupees 40\")\n",
    "else:\n",
    "    print(\"not a valid age bro\")\n",
    "\n"
   ]
  },
  {
   "cell_type": "code",
   "execution_count": null,
   "metadata": {},
   "outputs": [],
   "source": []
  }
 ],
 "metadata": {
  "kernelspec": {
   "display_name": "venv",
   "language": "python",
   "name": "python3"
  },
  "language_info": {
   "codemirror_mode": {
    "name": "ipython",
    "version": 3
   },
   "file_extension": ".py",
   "mimetype": "text/x-python",
   "name": "python",
   "nbconvert_exporter": "python",
   "pygments_lexer": "ipython3",
   "version": "3.12.0"
  }
 },
 "nbformat": 4,
 "nbformat_minor": 2
}
