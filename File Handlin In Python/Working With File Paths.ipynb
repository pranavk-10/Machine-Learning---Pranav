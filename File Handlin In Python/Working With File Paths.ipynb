{
 "cells": [
  {
   "cell_type": "code",
   "execution_count": 3,
   "metadata": {},
   "outputs": [
    {
     "name": "stdout",
     "output_type": "stream",
     "text": [
      "The New Directory packages is successfully created\n"
     ]
    }
   ],
   "source": [
    "import os\n",
    "\n",
    "new_directory = \"packages\"\n",
    "\n",
    "os.mkdir(new_directory)\n",
    "print(f\"The New Directory {new_directory} is successfully created\")"
   ]
  },
  {
   "cell_type": "code",
   "execution_count": 4,
   "metadata": {},
   "outputs": [
    {
     "name": "stdout",
     "output_type": "stream",
     "text": [
      "['destination.txt', 'example.txt', 'File Operation In Python.ipynb', 'packages', 'Working With File Paths.ipynb']\n"
     ]
    }
   ],
   "source": [
    "listx = os.listdir('.')\n",
    "print(listx)"
   ]
  },
  {
   "cell_type": "code",
   "execution_count": 8,
   "metadata": {},
   "outputs": [
    {
     "name": "stdout",
     "output_type": "stream",
     "text": [
      "folders\\file.txt\n"
     ]
    }
   ],
   "source": [
    "import os\n",
    "dir_name = 'folders'\n",
    "file_name = 'file.txt'\n",
    "\n",
    "full_path = os.path.join(dir_name,file_name)\n",
    "print(full_path)"
   ]
  },
  {
   "cell_type": "code",
   "execution_count": 9,
   "metadata": {},
   "outputs": [
    {
     "name": "stdout",
     "output_type": "stream",
     "text": [
      "d:\\programming\\Machine Learning, Data Science by Krish Naik\\File Handlin In Python\\folders\\file.txt\n"
     ]
    }
   ],
   "source": [
    "import os\n",
    "dir_name = 'folders'\n",
    "file_name = 'file.txt'\n",
    "\n",
    "full_path = os.path.join(os.getcwd(),dir_name,file_name)\n",
    "print(full_path)"
   ]
  },
  {
   "cell_type": "code",
   "execution_count": 10,
   "metadata": {},
   "outputs": [
    {
     "name": "stdout",
     "output_type": "stream",
     "text": [
      "No the Path Does not Exist\n"
     ]
    }
   ],
   "source": [
    "path = 'example1.txt'\n",
    "if os.path.exists(path):\n",
    "    print(\"Yes The Path Exists\")\n",
    "\n",
    "else:\n",
    "    print(\"No the Path Does not Exist\")"
   ]
  },
  {
   "cell_type": "markdown",
   "metadata": {},
   "source": [
    "This Python code snippet checks if a file or directory exists at the specified path (`'example1.txt'`) using the `os.path.exists()` function. Here's a breakdown of the code:\n",
    "\n",
    "### Code Explanation:\n",
    "\n",
    "1. **`path = 'example1.txt'`**:\n",
    "   - A variable named `path` is assigned the string `'example1.txt'`, representing the relative path to the file (or directory) you want to check.\n",
    "\n",
    "2. **`if os.path.exists(path):`**:\n",
    "   - The `os.path.exists()` function is used to check whether the file or directory exists at the given `path`.\n",
    "   - This function returns `True` if the path exists and `False` otherwise.\n",
    "\n",
    "3. **`print(\"Yes The Path Exists\")`**:\n",
    "   - If `os.path.exists(path)` evaluates to `True` (i.e., the path exists), this line executes and prints the message: `Yes The Path Exists`.\n",
    "\n",
    "4. **`else:`**:\n",
    "   - If `os.path.exists(path)` evaluates to `False` (i.e., the path does not exist), the `else` block executes.\n",
    "\n",
    "5. **`print(\"No the Path Does not Exist\")`**:\n",
    "   - If the path does not exist, this line executes and prints the message: `No the Path Does not Exist`.\n",
    "\n",
    "---\n",
    "\n",
    "### Example Use Case:\n",
    "1. Suppose you have a file named `example1.txt` in the same directory as your script:\n",
    "   - The output will be:  \n",
    "     **`Yes The Path Exists`**\n",
    "\n",
    "2. If `example1.txt` does not exist in the directory:\n",
    "   - The output will be:  \n",
    "     **`No the Path Does not Exist`**\n",
    "\n",
    "---\n",
    "\n",
    "### Key Points:\n",
    "- **`os.path.exists()`** works for both files and directories.\n",
    "- It checks whether the specified path exists in the file system.\n",
    "- The path can be:\n",
    "  - **Relative** (e.g., `'example1.txt'`) relative to the current working directory.\n",
    "  - **Absolute** (e.g., `'/home/user/example1.txt'`).\n",
    "\n",
    "Make sure to **import the `os` module** at the top of the script to use the `os.path.exists()` function.\n",
    "\n",
    "\n",
    "\n",
    "The reason **`path`** is written again inside the parentheses in **`os.path.exists(path)`** is that the function **`os.path.exists()`** requires an argument to know which file or directory path it should check for existence.\n",
    "\n",
    "### Let's break it down:\n",
    "\n",
    "1. **`os.path.exists()`**:\n",
    "   - This is a **function** from Python's `os.path` module.\n",
    "   - It takes **one argument**, which is the path of the file or directory you want to check.\n",
    "   - The path must be passed inside the parentheses so the function can perform its operation.\n",
    "\n",
    "2. **`path`**:\n",
    "   - `path` is a **variable** that holds the value of the path you want to check.\n",
    "   - In this example, `path` has been assigned the value `'example1.txt'`.\n",
    "   - When you call `os.path.exists(path)`, you're essentially passing the value stored in the variable `path` (i.e., `'example1.txt'`) as an argument to the function.\n",
    "\n",
    "3. **Why write `path` again?**\n",
    "   - When defining a variable, you write it once:  \n",
    "     `path = 'example1.txt'`  \n",
    "   - But when **calling a function** like `os.path.exists()`, you need to provide the **actual input** (the file path in this case) for the function to process.\n",
    "   - The variable `path` is reused because it contains the path you want to check.\n",
    "\n",
    "### What's Happening Internally:\n",
    "When you call:\n",
    "```python\n",
    "os.path.exists(path)\n",
    "```\n",
    "Python does the following:\n",
    "- **Substitute the variable `path` with its value**:\n",
    "  ```python\n",
    "  os.path.exists('example1.txt')\n",
    "  ```\n",
    "- The `os.path.exists()` function processes the string `'example1.txt'` to see if the file or directory exists.\n",
    "\n",
    "### Why not skip the variable `path`?\n",
    "You could skip defining a variable and directly pass the string into the function, like this:\n",
    "```python\n",
    "if os.path.exists('example1.txt'):\n",
    "    print(\"Yes The Path Exists\")\n",
    "```\n",
    "This works fine but makes the code harder to maintain. Using a variable (`path`) is better when:\n",
    "- The path is reused multiple times in the code.\n",
    "- The path might change in the future (you can simply update the variable instead of searching and replacing the string everywhere).\n",
    "\n",
    "---\n",
    "\n",
    "### Example to Show the Importance of `path`:\n",
    "If you had a longer script with multiple paths to check, using a variable makes the code more readable and reusable:\n",
    "```python\n",
    "path1 = 'example1.txt'\n",
    "path2 = 'example2.txt'\n",
    "\n",
    "if os.path.exists(path1):\n",
    "    print(f\"{path1} exists\")\n",
    "\n",
    "if os.path.exists(path2):\n",
    "    print(f\"{path2} exists\")\n",
    "```\n",
    "\n",
    "Without variables, you'd repeat the strings:\n",
    "```python\n",
    "if os.path.exists('example1.txt'):\n",
    "    print(\"example1.txt exists\")\n",
    "\n",
    "if os.path.exists('example2.txt'):\n",
    "    print(\"example2.txt exists\")\n",
    "```\n",
    "This is harder to maintain and more error-prone."
   ]
  },
  {
   "cell_type": "code",
   "execution_count": 12,
   "metadata": {},
   "outputs": [
    {
     "name": "stdout",
     "output_type": "stream",
     "text": [
      "A file\n"
     ]
    }
   ],
   "source": [
    "import os\n",
    "\n",
    "path = 'example.txt'\n",
    "\n",
    "if os.path.isfile(path):\n",
    "    print(\"A file\")\n",
    "\n",
    "elif os.path.isdir(path):\n",
    "    print(\" A Directory\")\n",
    "\n",
    "else:\n",
    "    print(\"Not a File Not A Directory\")"
   ]
  },
  {
   "cell_type": "code",
   "execution_count": 13,
   "metadata": {},
   "outputs": [
    {
     "name": "stdout",
     "output_type": "stream",
     "text": [
      "d:\\programming\\Machine Learning, Data Science by Krish Naik\\File Handlin In Python\\example.txt\n"
     ]
    }
   ],
   "source": [
    "relative_path = 'example.txt'\n",
    "\n",
    "absolute_path = os.path.abspath(relative_path)\n",
    "print(absolute_path)"
   ]
  },
  {
   "cell_type": "code",
   "execution_count": null,
   "metadata": {},
   "outputs": [],
   "source": []
  }
 ],
 "metadata": {
  "kernelspec": {
   "display_name": "venv",
   "language": "python",
   "name": "python3"
  },
  "language_info": {
   "codemirror_mode": {
    "name": "ipython",
    "version": 3
   },
   "file_extension": ".py",
   "mimetype": "text/x-python",
   "name": "python",
   "nbconvert_exporter": "python",
   "pygments_lexer": "ipython3",
   "version": "3.12.0"
  }
 },
 "nbformat": 4,
 "nbformat_minor": 2
}
