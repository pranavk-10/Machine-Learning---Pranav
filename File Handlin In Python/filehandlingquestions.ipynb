{
 "cells": [
  {
   "cell_type": "markdown",
   "metadata": {},
   "source": [
    "# Module: File Handling Assignments\n",
    "## Lesson: File Handling and Operations\n",
    "### Assignment 1: Reading a File\n",
    "\n",
    "Write a function that reads the contents of a file named `sample.txt` and prints each line.\n",
    "\n",
    "### Assignment 2: Writing to a File\n",
    "\n",
    "Write a function that writes a list of strings to a file named `output.txt`, with each string on a new line.\n",
    "\n",
    "### Assignment 3: Copying a File\n",
    "\n",
    "Write a function that copies the contents of a file named `source.txt` to a new file named `destination.txt`.\n",
    "\n",
    "### Assignment 4: Appending to a File\n",
    "\n",
    "Write a function that appends a given string to the end of a file named `log.txt`.\n",
    "\n",
    "### Assignment 5: Counting Words in a File\n",
    "\n",
    "Write a function that reads the contents of a file named `document.txt` and returns the number of words in the file.\n",
    "\n",
    "### Assignment 6: Finding and Replacing Text\n",
    "\n",
    "Write a function that finds and replaces all occurrences of a given word in a file named `data.txt` with another word.\n",
    "\n",
    "### Assignment 7: Reading a File in Reverse\n",
    "\n",
    "Write a function that reads the contents of a file named `reverse.txt` and prints each line in reverse order.\n",
    "\n",
    "### Assignment 8: Counting Lines, Words, and Characters\n",
    "\n",
    "Write a function that reads the contents of a file named `stats.txt` and returns the number of lines, words, and characters in the file.\n",
    "\n",
    "### Assignment 9: Merging Multiple Files\n",
    "\n",
    "Write a function that merges the contents of multiple files into a single file named `merged.txt`.\n",
    "\n",
    "### Assignment 10: Splitting a Large File\n",
    "\n",
    "Write a function that splits a large file named `large.txt` into smaller files of 100 lines each.\n",
    "\n",
    "### Assignment 11: Creating a Log File\n",
    "\n",
    "Write a function that creates a log file named `activity.log` and writes log messages with timestamps.\n",
    "\n",
    "### Assignment 12: Binary File Operations\n",
    "\n",
    "Write a function that reads a binary file named `image.bin` and writes its contents to another binary file named `copy_image.bin`.\n",
    "\n",
    "### Assignment 13: CSV File Operations\n",
    "\n",
    "Write a function that reads a CSV file named `data.csv` and prints its contents as a list of dictionaries.\n",
    "\n",
    "### Assignment 14: JSON File Operations\n",
    "\n",
    "Write a function that reads a JSON file named `data.json` and prints its contents as a Python dictionary.\n",
    "\n",
    "### Assignment 15: File Permission Handling\n",
    "\n",
    "Write a function that attempts to read a file named `protected.txt` and handles any permission errors gracefully by printing an error message."
   ]
  },
  {
   "cell_type": "code",
   "execution_count": 1,
   "metadata": {},
   "outputs": [
    {
     "name": "stdout",
     "output_type": "stream",
     "text": [
      "1 a\n",
      "2 b\n",
      "3 c\n",
      "4 d\n"
     ]
    }
   ],
   "source": [
    "\n",
    "def content (file_path):\n",
    "    with open (file_path,'r') as file:\n",
    "        for line in file:\n",
    "            print(line.strip())\n",
    "\n",
    "file_path = 'sample.txt'\n",
    "content(file_path)"
   ]
  },
  {
   "cell_type": "code",
   "execution_count": 11,
   "id": "e90e5699",
   "metadata": {},
   "outputs": [],
   "source": [
    "def write_string(filename):\n",
    "    with open(filename,'w+') as file:\n",
    "        file.write(\"X\\n\")\n",
    "        file.write(\"Y\\n\")\n",
    "        file.write(\"Z\\n\")\n",
    "        file.write(\"a\\n\")\n",
    "\n",
    "write_string('output.txt')"
   ]
  },
  {
   "cell_type": "code",
   "execution_count": 16,
   "id": "ecac7127",
   "metadata": {},
   "outputs": [
    {
     "name": "stdout",
     "output_type": "stream",
     "text": [
      "<_io.TextIOWrapper name='destination.txt' mode='r' encoding='utf-8'>\n"
     ]
    }
   ],
   "source": [
    "def copying (filex,filey):\n",
    "\n",
    "    with open (filex,'w') as x:\n",
    "        x.write(\"This Is Pranav Here\\n\")\n",
    "        x.write(\"He loves his Mom\\n\")\n",
    "\n",
    "    with open(filex,'r') as source_file:\n",
    "        content = source_file.read()\n",
    "\n",
    "    with open (filey,'w') as dest_file:\n",
    "        dest_file.write(content)\n",
    "\n",
    "    with open(filey,'r') as file:\n",
    "        print(file)\n",
    "\n",
    "copying('source.txt','destination.txt')"
   ]
  },
  {
   "cell_type": "code",
   "execution_count": 24,
   "id": "bdc2ed3e",
   "metadata": {},
   "outputs": [
    {
     "name": "stdout",
     "output_type": "stream",
     "text": [
      "This is First line\n",
      "This is Second Line\n"
     ]
    },
    {
     "data": {
      "text/plain": [
       "8"
      ]
     },
     "execution_count": 24,
     "metadata": {},
     "output_type": "execute_result"
    }
   ],
   "source": [
    "\n",
    "def count_words(file_name):\n",
    "    with open (file_name,'w') as file:\n",
    "        file.write(\"This is First line\\n\")\n",
    "        file.write(\"This is Second Line\")\n",
    "\n",
    "    with open (file_name,'r') as x:\n",
    "        content = x.read()\n",
    "        print(content)\n",
    "        word_count = len(content.split())\n",
    "    return word_count\n",
    "\n",
    "file_name = 'document.txt'\n",
    "count_words(file_name)\n",
    "\n",
    "\n"
   ]
  },
  {
   "cell_type": "code",
   "execution_count": 26,
   "id": "476aa0b0",
   "metadata": {},
   "outputs": [],
   "source": [
    "def replacing(filename,oldword,newword):\n",
    "    with open (filename,'r') as file:\n",
    "        content = file.read()\n",
    "    new_content = content.replace(oldword,newword)\n",
    "\n",
    "    with open (filename,'w') as file:\n",
    "        file.write(new_content)\n",
    "\n",
    "replacing('data.txt','python','pryde')\n",
    "        "
   ]
  },
  {
   "cell_type": "code",
   "execution_count": 28,
   "id": "83ae0642",
   "metadata": {},
   "outputs": [],
   "source": [
    "with open ('log.txt', 'w') as file:\n",
    "    file.write(\"How are you\\n\")\n",
    "    file.write(\"Hi Pranav\")\n",
    "\n",
    "with open ('log.txt','a') as file:\n",
    "    file.write(\"Siddhesh is youe besties\\n\")"
   ]
  },
  {
   "cell_type": "code",
   "execution_count": 33,
   "id": "e9ce6a6e",
   "metadata": {},
   "outputs": [
    {
     "name": "stdout",
     "output_type": "stream",
     "text": [
      "He loves his Mom\n",
      "This Is Pranav Here\n"
     ]
    }
   ],
   "source": [
    "def reversed_lines (filename):\n",
    "    with open (filename,'r') as file:\n",
    "        content = file.readlines()\n",
    "    for line in reversed(content):\n",
    "        print(line.strip())\n",
    "        \n",
    "\n",
    "reversed_lines('source.txt')"
   ]
  },
  {
   "cell_type": "code",
   "execution_count": 34,
   "id": "b912282d",
   "metadata": {},
   "outputs": [
    {
     "name": "stdout",
     "output_type": "stream",
     "text": [
      "The no lines: 6, The no of Words: 22, The No of Characters: 127\n"
     ]
    }
   ],
   "source": [
    "def count_txt_file(file_path):\n",
    "    with open ('example.txt','r') as file:\n",
    "        lines = file.readlines()\n",
    "        line_count = len(lines)\n",
    "        word_count = sum(len(line.split()) for line in lines)\n",
    "        char_count = sum(len(line) for line in lines)\n",
    "    return line_count,word_count,char_count\n",
    "\n",
    "file_path = 'example.txt'\n",
    "lines ,words, characters = count_txt_file(file_path)\n",
    "\n",
    "print(f\"The no lines: {lines}, The no of Words: {words}, The No of Characters: {characters}\")"
   ]
  },
  {
   "cell_type": "code",
   "execution_count": 2,
   "id": "8e348620",
   "metadata": {},
   "outputs": [],
   "source": [
    "def merge_files(file_list, output_file):\n",
    "    with open(output_file, 'w') as outfile:\n",
    "        for fname in file_list:\n",
    "            with open(fname, 'r') as infile:\n",
    "                outfile.write(infile.read() + '\\n')\n",
    "\n",
    "# Test\n",
    "merge_files(['source.txt', 'destination.txt'], 'merged.txt')"
   ]
  },
  {
   "cell_type": "code",
   "execution_count": 3,
   "id": "4cf11155",
   "metadata": {},
   "outputs": [],
   "source": [
    "def split_file(filename, lines_per_file):\n",
    "    with open(filename, 'r') as file:\n",
    "        lines = file.readlines()\n",
    "    for i in range(0, len(lines), lines_per_file):\n",
    "        with open(f'{filename}_part{i//lines_per_file + 1}.txt', 'w') as part_file:\n",
    "            part_file.writelines(lines[i:i + lines_per_file])\n",
    "\n",
    "# Test\n",
    "split_file('large.txt', 100)"
   ]
  },
  {
   "cell_type": "code",
   "execution_count": 4,
   "id": "85bd02a4",
   "metadata": {},
   "outputs": [],
   "source": [
    "import datetime\n",
    "\n",
    "def log_message(message, filename='activity.log'):\n",
    "    timestamp = datetime.datetime.now().isoformat()\n",
    "    with open(filename, 'a') as file:\n",
    "        file.write(f'[{timestamp}] {message}\\n')\n",
    "\n",
    "# Test\n",
    "log_message('This is a log message.')"
   ]
  },
  {
   "cell_type": "code",
   "execution_count": 6,
   "id": "f956a2fa",
   "metadata": {},
   "outputs": [],
   "source": [
    "def read_write_binary(filename1,filename2):\n",
    "    with open (filename1,'rb') as file1:\n",
    "        content = file1.read()\n",
    "\n",
    "    with open(filename2,'wb') as file2:\n",
    "        file2.write(content)\n",
    "\n",
    "read_write_binary('image.bin','copy_image.bin')"
   ]
  },
  {
   "cell_type": "code",
   "execution_count": 8,
   "id": "fac52441",
   "metadata": {},
   "outputs": [
    {
     "name": "stdout",
     "output_type": "stream",
     "text": [
      "This Is Pranav Here\n",
      "He loves his Mom\n",
      "\n"
     ]
    }
   ],
   "source": [
    "try:\n",
    "    with open('source.txt','r') as file:\n",
    "        print(file.read())\n",
    "except PermissionError as e:\n",
    "    print(f\"The Error Message : {e}\")"
   ]
  },
  {
   "cell_type": "code",
   "execution_count": 9,
   "id": "28977c6b",
   "metadata": {},
   "outputs": [
    {
     "name": "stdout",
     "output_type": "stream",
     "text": [
      "['Name:', 'Age:']\n",
      "['Pranav', '19']\n"
     ]
    }
   ],
   "source": [
    "import csv\n",
    "\n",
    "with open('exaple.csv',mode = 'w',newline = '') as file:\n",
    "    writer = csv.writer(file)\n",
    "    writer.writerow(['Name:','Age:'])\n",
    "    writer.writerow(['Pranav',19])\n",
    "\n",
    "with open('exaple.csv',mode = 'r') as file:\n",
    "    reader=csv.reader(file)\n",
    "    for row in reader:\n",
    "        print(row)"
   ]
  },
  {
   "cell_type": "code",
   "execution_count": 11,
   "id": "f2524aeb",
   "metadata": {},
   "outputs": [
    {
     "name": "stdout",
     "output_type": "stream",
     "text": [
      "{'name': 'John Doe', 'age': 30, 'email': 'johndoe@example.com', 'address': {'street': '123 Main St', 'city': 'New York', 'state': 'NY', 'postalCode': '10001'}, 'phoneNumbers': [{'type': 'home', 'number': '555-1234'}, {'type': 'work', 'number': '555-5678'}], 'isMarried': False, 'hobbies': ['reading', 'traveling', 'coding']}\n"
     ]
    }
   ],
   "source": [
    "import json\n",
    "\n",
    "def read_json(filename):\n",
    "    with open(filename, 'r') as file:\n",
    "        data = json.load(file)\n",
    "        return data\n",
    "\n",
    "# Test\n",
    "print(read_json('data.json'))"
   ]
  },
  {
   "cell_type": "code",
   "execution_count": null,
   "id": "9cf77c4a",
   "metadata": {},
   "outputs": [],
   "source": []
  }
 ],
 "metadata": {
  "kernelspec": {
   "display_name": "myenv",
   "language": "python",
   "name": "python3"
  },
  "language_info": {
   "codemirror_mode": {
    "name": "ipython",
    "version": 3
   },
   "file_extension": ".py",
   "mimetype": "text/x-python",
   "name": "python",
   "nbconvert_exporter": "python",
   "pygments_lexer": "ipython3",
   "version": "3.12.7"
  }
 },
 "nbformat": 4,
 "nbformat_minor": 5
}
