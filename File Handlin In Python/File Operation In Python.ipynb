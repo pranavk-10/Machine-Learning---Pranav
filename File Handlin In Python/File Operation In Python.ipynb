{
 "cells": [
  {
   "cell_type": "markdown",
   "metadata": {},
   "source": [
    "#### File Operation - Read and Write"
   ]
  },
  {
   "cell_type": "code",
   "execution_count": 1,
   "metadata": {},
   "outputs": [
    {
     "name": "stdout",
     "output_type": "stream",
     "text": [
      "Hello World ! \n",
      "This s a new line: append Operation Takes Place \n",
      "Append Operation Takes Place \n",
      "Fist Line\n",
      "Second Line\n",
      "Third Line\n",
      "\n"
     ]
    }
   ],
   "source": [
    "## read a file\n",
    "\n",
    "with open('example.txt','r') as file:\n",
    "    content = file.read()\n",
    "    print(content)"
   ]
  },
  {
   "cell_type": "code",
   "execution_count": 4,
   "metadata": {},
   "outputs": [
    {
     "name": "stdout",
     "output_type": "stream",
     "text": [
      "My name is Pranav\n",
      "\n",
      "I have a Youtube channel named Pryde\n",
      "\n",
      "\n",
      "\n",
      "I am currently studying in Veermata Jijabai Technological Institute\n",
      "\n",
      "I like to study AI/ML and studying Vlsi Frontend design Engineer\n"
     ]
    }
   ],
   "source": [
    "with open ('example.txt','r') as file:\n",
    "    for line in file:\n",
    "        print(line)"
   ]
  },
  {
   "cell_type": "code",
   "execution_count": 6,
   "metadata": {},
   "outputs": [
    {
     "name": "stdout",
     "output_type": "stream",
     "text": [
      "My name is Pranav\n",
      "I have a Youtube channel named Pryde\n",
      "\n",
      "I am currently studying in Veermata Jijabai Technological Institute\n",
      "I like to study AI/ML and studying Vlsi Frontend design Engineer\n"
     ]
    }
   ],
   "source": [
    "with open ('example.txt','r') as file:\n",
    "    for line in file:\n",
    "        print(line.strip()) ## .strip() removes new line character"
   ]
  },
  {
   "cell_type": "code",
   "execution_count": 2,
   "metadata": {},
   "outputs": [],
   "source": [
    "## writing a file (overwriting)\n",
    "with open('example.txt','w') as file:\n",
    "    file.write(\"Hello World ! \\n\")\n",
    "    file.write(\"This s a new line: \")\n",
    "\n"
   ]
  },
  {
   "cell_type": "code",
   "execution_count": 11,
   "metadata": {},
   "outputs": [],
   "source": [
    "## write  file without overwriting:\n",
    "\n",
    "with open ('example.txt','a') as file:\n",
    "    file.write(\"Append Operation Takes Place \\n\")\n"
   ]
  },
  {
   "cell_type": "code",
   "execution_count": 12,
   "metadata": {},
   "outputs": [],
   "source": [
    "listx = ['Fist Line\\n','Second Line\\n','Third Line\\n']\n",
    "with open ('example.txt','a')  as file:\n",
    "    file.writelines(listx)"
   ]
  },
  {
   "cell_type": "code",
   "execution_count": 13,
   "metadata": {},
   "outputs": [],
   "source": [
    "##reading from a file and writing in another file\n",
    "\n",
    "with open ('example.txt','r') as file:\n",
    "    content = file.read()\n",
    "\n",
    "with open ('destination.txt','w') as dest_file:\n",
    "    dest_file.write(content)"
   ]
  },
  {
   "cell_type": "code",
   "execution_count": 14,
   "metadata": {},
   "outputs": [
    {
     "name": "stdout",
     "output_type": "stream",
     "text": [
      "The no lines: 6, The no of Words: 22, The No of Characters: 127\n"
     ]
    }
   ],
   "source": [
    "def count_txt_file(file_path):\n",
    "    with open ('example.txt','r') as file:\n",
    "        lines = file.readlines()\n",
    "        line_count = len(lines)\n",
    "        word_count = sum(len(line.split()) for line in lines)\n",
    "        char_count = sum(len(line) for line in lines)\n",
    "    return line_count,word_count,char_count\n",
    "\n",
    "file_path = 'example.txt'\n",
    "lines ,words, characters = count_txt_file(file_path)\n",
    "\n",
    "print(f\"The no lines: {lines}, The no of Words: {words}, The No of Characters: {characters}\")"
   ]
  },
  {
   "cell_type": "markdown",
   "metadata": {},
   "source": [
    "This Python code defines a function to count the number of lines, words, and characters in a text file. Let me break it down step by step:\n",
    "\n",
    "---\n",
    "\n",
    "### **1. Function Definition**\n",
    "```python\n",
    "def count_txt_file(file_path):\n",
    "```\n",
    "This defines a function named `count_txt_file` that takes one parameter, `file_path`, which represents the location of the file to be analyzed.\n",
    "\n",
    "---\n",
    "\n",
    "### **2. File Handling**\n",
    "```python\n",
    "with open('example.txt', 'r') as file:\n",
    "```\n",
    "- The `open` function opens the file `example.txt` in **read mode ('r')**.\n",
    "- The `with` statement ensures the file is properly closed after the operation, even if an error occurs.\n",
    "\n",
    "---\n",
    "\n",
    "### **3. Read Lines**\n",
    "```python\n",
    "lines = file.readlines()\n",
    "```\n",
    "- `file.readlines()` reads all lines of the file into a list called `lines`. Each element in this list represents a single line in the file.\n",
    "\n",
    "---\n",
    "\n",
    "### **4. Count Lines**\n",
    "```python\n",
    "line_count = len(lines)\n",
    "```\n",
    "- `len(lines)` calculates the total number of elements (lines) in the `lines` list, giving the **number of lines** in the file.\n",
    "\n",
    "---\n",
    "\n",
    "### **5. Count Words**\n",
    "```python\n",
    "word_count = sum(len(line.split()) for line in lines)\n",
    "```\n",
    "- This is a generator expression:\n",
    "  - `line.split()` splits each line into words using spaces as separators (default behavior of `split()`).\n",
    "  - `len(line.split())` calculates the number of words in a line.\n",
    "- The `sum()` function adds up all the word counts for each line, resulting in the **total number of words** in the file.\n",
    "\n",
    "---\n",
    "\n",
    "### **6. Count Characters**\n",
    "```python\n",
    "char_count = sum(len(line) for line in lines)\n",
    "```\n",
    "- Another generator expression:\n",
    "  - `len(line)` calculates the total number of characters (including spaces and newline characters) in a line.\n",
    "- The `sum()` function adds up all character counts for all lines, resulting in the **total number of characters** in the file.\n",
    "\n",
    "---\n",
    "\n",
    "### **7. Return Results**\n",
    "```python\n",
    "return line_count, word_count, char_count\n",
    "```\n",
    "- The function returns a tuple containing the number of lines, words, and characters.\n",
    "\n",
    "---\n",
    "\n",
    "### **8. Call the Function**\n",
    "```python\n",
    "file_path = 'example.txt'\n",
    "lines, words, characters = count_txt_file(file_path)\n",
    "```\n",
    "- The `count_txt_file` function is called with the file path `'example.txt'`.\n",
    "- The returned tuple is unpacked into three variables: `lines`, `words`, and `characters`.\n",
    "\n",
    "---\n",
    "\n",
    "### **9. Print Results**\n",
    "```python\n",
    "print(f\"The no lines: {lines}, The no of Words: {words}, The No of Characters: {characters}\")\n",
    "```\n",
    "- This uses an **f-string** to format and print the results.\n",
    "\n",
    "Example Output (for a hypothetical `example.txt` file):\n",
    "```\n",
    "The no lines: 10, The no of Words: 50, The No of Characters: 300\n",
    "```\n",
    "\n",
    "---\n",
    "\n",
    "### **Key Points**\n",
    "1. **File Path**: Currently, the code hardcodes `'example.txt'` in `open`. To analyze a file based on the `file_path` argument, replace it with `open(file_path, 'r')`.\n",
    "2. **Character Count**: The character count includes newline characters (`\\n`), spaces, and other visible/non-visible characters.\n",
    "3. **Robustness**: Add error handling (e.g., `try...except`) to handle cases like missing files or incorrect file paths.\n",
    "\n"
   ]
  },
  {
   "cell_type": "code",
   "execution_count": 19,
   "metadata": {},
   "outputs": [
    {
     "name": "stdout",
     "output_type": "stream",
     "text": [
      "Lets Go!\n",
      "I Am Straight as Jalebi\n",
      "\n"
     ]
    }
   ],
   "source": [
    "with open('destination.txt','w+') as file:\n",
    "    file.write(\"Lets Go!\\n\")\n",
    "    file.write(\"I Am Straight as Jalebi\\n\")\n",
    "\n",
    "    file.seek(0)\n",
    "\n",
    "    content = file.read()\n",
    "    print(content)"
   ]
  },
  {
   "cell_type": "markdown",
   "metadata": {},
   "source": [
    "Here's the difference between the functions you mentioned, commonly used in file handling in Python:\n",
    "\n",
    "---\n",
    "\n",
    "### **1. `read()`**\n",
    "- Reads the **entire file** as a single string.\n",
    "- It is often used when you want to process the whole content at once.\n",
    "- Example:\n",
    "  ```python\n",
    "  with open(\"example.txt\", \"r\") as file:\n",
    "      content = file.read()\n",
    "      print(content)  # Outputs the entire content of the file as one string\n",
    "  ```\n",
    "\n",
    "---\n",
    "\n",
    "### **2. `readline()`**\n",
    "- Reads **one line at a time** from the file.\n",
    "- Useful when you want to process a file line by line.\n",
    "- Example:\n",
    "  ```python\n",
    "  with open(\"example.txt\", \"r\") as file:\n",
    "      line = file.readline()\n",
    "      print(line)  # Outputs the first line of the file\n",
    "  ```\n",
    "\n",
    "---\n",
    "\n",
    "### **3. `readlines()`**\n",
    "- Reads **all lines** of the file into a **list**, where each element is a line.\n",
    "- Example:\n",
    "  ```python\n",
    "  with open(\"example.txt\", \"r\") as file:\n",
    "      lines = file.readlines()\n",
    "      print(lines)  # Outputs a list of all lines\n",
    "  ```\n",
    "\n",
    "---\n",
    "\n",
    "### **4. `write()`**\n",
    "- Writes a **single string** to a file.\n",
    "- If the file already exists, it **overwrites** the content (or creates a new file if it doesn't exist).\n",
    "- Example:\n",
    "  ```python\n",
    "  with open(\"example.txt\", \"w\") as file:\n",
    "      file.write(\"Hello, World!\")  # Writes \"Hello, World!\" to the file\n",
    "  ```\n",
    "\n",
    "---\n",
    "\n",
    "### **5. `writelines()`**\n",
    "- Writes **multiple strings** (from a list or iterable) to a file.\n",
    "- Does **not add newlines automatically**, so you need to include `\\n` manually if required.\n",
    "- Example:\n",
    "  ```python\n",
    "  with open(\"example.txt\", \"w\") as file:\n",
    "      file.writelines([\"Line 1\\n\", \"Line 2\\n\", \"Line 3\\n\"])  # Writes all lines to the file\n",
    "  ```\n",
    "\n",
    "---\n",
    "\n",
    "### Summary Table:\n",
    "\n",
    "| Function       | Purpose                            | Returns/Accepts         |\n",
    "|----------------|------------------------------------|-------------------------|\n",
    "| `read()`       | Reads the entire file as a string  | Returns a single string |\n",
    "| `readline()`   | Reads one line at a time           | Returns a single string |\n",
    "| `readlines()`  | Reads all lines into a list        | Returns a list of strings |\n",
    "| `write()`      | Writes a single string to the file | Accepts a string        |\n",
    "| `writelines()` | Writes a list of strings to the file | Accepts an iterable (e.g., list of strings) |\n",
    "\n",
    "Let me know if you'd like further examples!"
   ]
  },
  {
   "cell_type": "markdown",
   "metadata": {},
   "source": []
  }
 ],
 "metadata": {
  "kernelspec": {
   "display_name": "myenv",
   "language": "python",
   "name": "python3"
  },
  "language_info": {
   "codemirror_mode": {
    "name": "ipython",
    "version": 3
   },
   "file_extension": ".py",
   "mimetype": "text/x-python",
   "name": "python",
   "nbconvert_exporter": "python",
   "pygments_lexer": "ipython3",
   "version": "3.12.7"
  }
 },
 "nbformat": 4,
 "nbformat_minor": 2
}
