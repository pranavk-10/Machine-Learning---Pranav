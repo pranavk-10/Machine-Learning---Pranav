{
 "cells": [
  {
   "cell_type": "markdown",
   "metadata": {},
   "source": [
    "# Module 5: Modules and Packages Assignments\n",
    "## Lesson 5.1: Importing Modules\n",
    "### Assignment 1: Importing and Using Modules\n",
    "\n",
    "Import the `math` module and use it to calculate the square root of 25 and the sine of 90 degrees.\n",
    "\n",
    "### Assignment 2: Aliasing Modules\n",
    "\n",
    "Import the `datetime` module with an alias and use it to print the current date and time.\n",
    "\n",
    "### Assignment 3: Importing Specific Functions\n",
    "\n",
    "Import the `randint` function from the `random` module and use it to generate a random integer between 1 and 100.\n",
    "\n",
    "### Assignment 4: Importing Multiple Functions\n",
    "\n",
    "Import the `sqrt` and `pow` functions from the `math` module and use them to calculate the square root of 16 and 2 raised to the power of 3.\n",
    "\n",
    "### Assignment 5: Handling Import Errors\n",
    "\n",
    "Write code that attempts to import a non-existent module and gracefully handles the import error by printing an error message.\n",
    "\n",
    "## Lesson 5.2: Standard Library Overview\n",
    "### Assignment 6: Working with the `os` Module\n",
    "\n",
    "Use the `os` module to create a new directory, list the contents of the current directory, and remove the newly created directory.\n",
    "\n",
    "### Assignment 7: Working with the `sys` Module\n",
    "\n",
    "Use the `sys` module to print the Python version currently in use and the command-line arguments passed to the script.\n",
    "\n",
    "### Assignment 8: Working with the `math` Module\n",
    "\n",
    "Use the `math` module to calculate the greatest common divisor (GCD) of two numbers and the factorial of a number.\n",
    "\n",
    "### Assignment 9: Working with the `datetime` Module\n",
    "\n",
    "Use the `datetime` module to print the current date, calculate the date 100 days from today, and determine the day of the week for a given date.\n",
    "\n",
    "### Assignment 10: Working with the `random` Module\n",
    "\n",
    "Use the `random` module to generate a list of 5 random numbers between 1 and 50 and shuffle the elements of a list.\n",
    "\n",
    "## Lesson 5.3: Creating and Using Packages\n",
    "### Assignment 11: Creating a Simple Package\n",
    "\n",
    "Create a package named `mypackage` with two modules: `module1` and `module2`. `module1` should contain a function that adds two numbers, and `module2` should contain a function that multiplies two numbers. Write code to use these functions.\n",
    "\n",
    "### Assignment 12: Using `__init__.py`\n",
    "\n",
    "Modify the `mypackage` package to include an `__init__.py` file that imports the functions from `module1` and `module2`. Write code to use these functions.\n",
    "\n",
    "### Assignment 13: Importing from a Package\n",
    "\n",
    "Write code to import and use the functions from `mypackage` without explicitly importing `module1` and `module2`.\n",
    "\n",
    "### Assignment 14: Relative Imports\n",
    "\n",
    "Create a subpackage named `subpackage` within `mypackage` and move `module2` into `subpackage`. Modify the import statements in `__init__.py` to use relative imports. Write code to use the functions from both modules.\n",
    "\n",
    "### Assignment 15: Handling Package Import Errors\n",
    "\n",
    "Write code that attempts to import a non-existent function from `mypackage` and gracefully handles the import error by printing an error message."
   ]
  },
  {
   "cell_type": "code",
   "execution_count": 2,
   "metadata": {},
   "outputs": [
    {
     "name": "stdout",
     "output_type": "stream",
     "text": [
      "5.0\n",
      "1.0\n"
     ]
    }
   ],
   "source": [
    "from math import *\n",
    "print(sqrt(25))\n",
    "print(sin(radians(90)))"
   ]
  },
  {
   "cell_type": "code",
   "execution_count": 5,
   "id": "2fa32559",
   "metadata": {},
   "outputs": [
    {
     "name": "stdout",
     "output_type": "stream",
     "text": [
      "2025-01-22 09:56:45.978780\n"
     ]
    }
   ],
   "source": [
    "import datetime as date\n",
    "\n",
    "print(date.datetime.now())"
   ]
  },
  {
   "cell_type": "code",
   "execution_count": 9,
   "id": "f8a033c0",
   "metadata": {},
   "outputs": [
    {
     "name": "stdout",
     "output_type": "stream",
     "text": [
      "27\n"
     ]
    }
   ],
   "source": [
    "import random\n",
    "\n",
    "print(random.randint(1,100))"
   ]
  },
  {
   "cell_type": "code",
   "execution_count": 10,
   "id": "1455a4f7",
   "metadata": {},
   "outputs": [
    {
     "name": "stdout",
     "output_type": "stream",
     "text": [
      "4.0\n",
      "8.0\n"
     ]
    }
   ],
   "source": [
    "import math\n",
    "\n",
    "print(sqrt(16))\n",
    "print(pow(2,3))"
   ]
  },
  {
   "cell_type": "code",
   "execution_count": 13,
   "id": "9e5eb653",
   "metadata": {},
   "outputs": [
    {
     "name": "stdout",
     "output_type": "stream",
     "text": [
      "Error importing module: No module named 'non_existent_module'\n"
     ]
    }
   ],
   "source": [
    "try:\n",
    "    import non_existent_module\n",
    "except ImportError as e:\n",
    "    print(f\"Error importing module: {e}\")\n",
    "\n",
    "    \"\"\"\n",
    "   This code snippet demonstrates how to handle an `ImportError` in Python using a `try`-`except` block.\n",
    "\n",
    "### Code Breakdown:\n",
    "\n",
    "1. **`try` block**:\n",
    "   - Python attempts to import a module named `non_existent_module`.\n",
    "   - Since this module does not exist, an `ImportError` is raised.\n",
    "\n",
    "2. **`except ImportError as e`**:\n",
    "   - The `except` block catches the `ImportError` that occurred in the `try` block.\n",
    "   - The `as e` part assigns the error message (exception details) to the variable `e`.\n",
    "\n",
    "3. **`print(f\"Error importing module: {e}\")`**:\n",
    "   - Inside the `except` block, the error message is formatted and printed.\n",
    "   - The `f-string` is used to include the content of `e` (the error message) in the printed string.\n",
    "\n",
    "### What Happens When the Code Runs:\n",
    "- Python tries to import `non_existent_module`.\n",
    "- Since the module doesn't exist, an `ImportError` is raised.\n",
    "- The `except` block catches this error and prints an error message, such as:\n",
    "\n",
    "   ```\n",
    "   Error importing module: No module named 'non_existent_module'\n",
    "   ```\n",
    "\n",
    "### Why Use `try`-`except` for Importing?\n",
    "1. **Graceful Error Handling**:\n",
    "   - Instead of crashing the program, this approach ensures the program can handle the error and proceed.\n",
    "   \n",
    "2. **Fallback Mechanism**:\n",
    "   - Often used when you want to provide an alternative if a module is unavailable. For example:\n",
    "\n",
    "     ```python\n",
    "     try:\n",
    "         import advanced_module\n",
    "     except ImportError:\n",
    "         print(\"Advanced module not found, using basic_module instead.\")\n",
    "         import basic_module\n",
    "     ```\n",
    "\n",
    "This technique is particularly useful when dealing with optional dependencies in Python projects. \"\"\""
   ]
  },
  {
   "cell_type": "code",
   "execution_count": 14,
   "id": "b10ec74a",
   "metadata": {},
   "outputs": [
    {
     "name": "stdout",
     "output_type": "stream",
     "text": [
      "['exaple.csv', 'Import Modules And Packages In Python.ipynb', 'packages', 'packagesquestion.ipynb', 'packagessolution.ipynb', 'pryde_directory']\n",
      "['exaple.csv', 'Import Modules And Packages In Python.ipynb', 'packages', 'packagesquestion.ipynb', 'packagessolution.ipynb']\n"
     ]
    }
   ],
   "source": [
    "import os\n",
    "\n",
    "os.mkdir(\"pryde_directory\")\n",
    "\n",
    "print(os.listdir('.'))\n",
    "\n",
    "os.removedirs(\"pryde_directory\")\n",
    "\n",
    "print(os.listdir('.'))"
   ]
  },
  {
   "cell_type": "code",
   "execution_count": 18,
   "id": "51287dee",
   "metadata": {},
   "outputs": [
    {
     "name": "stdout",
     "output_type": "stream",
     "text": [
      "3.12.0 | packaged by Anaconda, Inc. | (main, Oct  2 2023, 17:20:38) [MSC v.1916 64 bit (AMD64)]\n",
      "['d:\\\\programming\\\\Machine Learning, Data Science by Krish Naik\\\\venv\\\\Lib\\\\site-packages\\\\ipykernel_launcher.py', '--f=c:\\\\Users\\\\hp\\\\AppData\\\\Roaming\\\\jupyter\\\\runtime\\\\kernel-v35ffbca98a54bb10d7d301feae5002838fd732fff.json']\n"
     ]
    }
   ],
   "source": [
    "import sys\n",
    "\n",
    "x = sys.version\n",
    "y =sys.argv\n",
    "print(x)\n",
    "print(y)"
   ]
  },
  {
   "cell_type": "code",
   "execution_count": 20,
   "id": "75d7b037",
   "metadata": {},
   "outputs": [
    {
     "name": "stdout",
     "output_type": "stream",
     "text": [
      "1\n",
      "3628800\n"
     ]
    }
   ],
   "source": [
    "import math\n",
    "\n",
    "print(math.gcd(2,3,4))\n",
    "print(math.factorial(10))"
   ]
  },
  {
   "cell_type": "code",
   "execution_count": 24,
   "id": "f85b7135",
   "metadata": {},
   "outputs": [
    {
     "name": "stdout",
     "output_type": "stream",
     "text": [
      "Today's date: 2025-01-22\n",
      "Date 100 days from today: 2025-05-02\n",
      "Day of the week for 2022-01-01: Saturday\n"
     ]
    },
    {
     "data": {
      "text/plain": [
       "'\\nThis code demonstrates how to work with Python\\'s `datetime` module to manipulate and format dates. Here\\'s a breakdown of what each part does:\\n\\n---\\n\\n### 1. **Import the `datetime` Module**\\n   ```python\\n   import datetime\\n   ```\\n   - The `datetime` module provides classes and functions to work with dates, times, and time intervals.\\n\\n---\\n\\n### 2. **Current Date**\\n   ```python\\n   today = datetime.date.today()\\n   print(f\"Today\\'s date: {today}\")\\n   ```\\n   - `datetime.date.today()`:\\n     - Retrieves the current date as a `date` object (e.g., `2025-01-22`).\\n   - The `print()` statement uses an f-string to display the current date.\\n   - Example Output:\\n     ```\\n     Today\\'s date: 2025-01-22\\n     ```\\n\\n---\\n\\n### 3. **Date 100 Days from Today**\\n   ```python\\n   future_date = today + datetime.timedelta(days=100)\\n   print(f\"Date 100 days from today: {future_date}\")\\n   ```\\n   - **`datetime.timedelta(days=100)`**:\\n     - Represents a time difference of 100 days.\\n   - **`today + timedelta`**:\\n     - Adds 100 days to the current date.\\n   - Example Calculation:\\n     - If today is `2025-01-22`, 100 days from today would be `2025-05-02`.\\n   - Example Output:\\n     ```\\n     Date 100 days from today: 2025-05-02\\n     ```\\n\\n---\\n\\n### 4. **Day of the Week for a Given Date**\\n   ```python\\n   given_date = datetime.date(2022, 1, 1)\\n   print(f\"Day of the week for 2022-01-01: {given_date.strftime(\\'%A\\')}\")\\n   ```\\n   - **`datetime.date(2022, 1, 1)`**:\\n     - Creates a `date` object for January 1, 2022.\\n   - **`strftime(\\'%A\\')`**:\\n     - Formats the date to display the full name of the day of the week (e.g., \"Saturday\").\\n   - Example Output:\\n     ```\\n     Day of the week for 2022-01-01: Saturday\\n     ```\\n\\n---\\n\\n### Key Functions and Concepts Used:\\n1. **`datetime.date.today()`**:\\n   - Returns the current date.\\n\\n2. **`datetime.timedelta(days=n)`**:\\n   - Represents a time difference of `n` days.\\n\\n3. **`strftime(\\'%A\\')`**:\\n   - Converts a `date` object to a string representing the full weekday name.\\n\\n4. **Arithmetic with Dates**:\\n   - You can add or subtract `timedelta` objects to/from `date` objects to calculate future or past dates.\\n\\nThis script is useful for date calculations and understanding how Python handles dates and times.\\n'"
      ]
     },
     "execution_count": 24,
     "metadata": {},
     "output_type": "execute_result"
    }
   ],
   "source": [
    "import datetime\n",
    "\n",
    "# Current date\n",
    "today = datetime.date.today()\n",
    "print(f\"Today's date: {today}\")\n",
    "\n",
    "# Date 100 days from today\n",
    "future_date = today + datetime.timedelta(days=100)\n",
    "print(f\"Date 100 days from today: {future_date}\")\n",
    "\n",
    "# Day of the week for a given date\n",
    "given_date = datetime.date(2022, 1, 1)\n",
    "print(f\"Day of the week for 2022-01-01: {given_date.strftime('%A')}\")\n",
    "\n",
    "\n",
    "\"\"\"\n",
    "This code demonstrates how to work with Python's `datetime` module to manipulate and format dates. Here's a breakdown of what each part does:\n",
    "\n",
    "---\n",
    "\n",
    "### 1. **Import the `datetime` Module**\n",
    "   ```python\n",
    "   import datetime\n",
    "   ```\n",
    "   - The `datetime` module provides classes and functions to work with dates, times, and time intervals.\n",
    "\n",
    "---\n",
    "\n",
    "### 2. **Current Date**\n",
    "   ```python\n",
    "   today = datetime.date.today()\n",
    "   print(f\"Today's date: {today}\")\n",
    "   ```\n",
    "   - `datetime.date.today()`:\n",
    "     - Retrieves the current date as a `date` object (e.g., `2025-01-22`).\n",
    "   - The `print()` statement uses an f-string to display the current date.\n",
    "   - Example Output:\n",
    "     ```\n",
    "     Today's date: 2025-01-22\n",
    "     ```\n",
    "\n",
    "---\n",
    "\n",
    "### 3. **Date 100 Days from Today**\n",
    "   ```python\n",
    "   future_date = today + datetime.timedelta(days=100)\n",
    "   print(f\"Date 100 days from today: {future_date}\")\n",
    "   ```\n",
    "   - **`datetime.timedelta(days=100)`**:\n",
    "     - Represents a time difference of 100 days.\n",
    "   - **`today + timedelta`**:\n",
    "     - Adds 100 days to the current date.\n",
    "   - Example Calculation:\n",
    "     - If today is `2025-01-22`, 100 days from today would be `2025-05-02`.\n",
    "   - Example Output:\n",
    "     ```\n",
    "     Date 100 days from today: 2025-05-02\n",
    "     ```\n",
    "\n",
    "---\n",
    "\n",
    "### 4. **Day of the Week for a Given Date**\n",
    "   ```python\n",
    "   given_date = datetime.date(2022, 1, 1)\n",
    "   print(f\"Day of the week for 2022-01-01: {given_date.strftime('%A')}\")\n",
    "   ```\n",
    "   - **`datetime.date(2022, 1, 1)`**:\n",
    "     - Creates a `date` object for January 1, 2022.\n",
    "   - **`strftime('%A')`**:\n",
    "     - Formats the date to display the full name of the day of the week (e.g., \"Saturday\").\n",
    "   - Example Output:\n",
    "     ```\n",
    "     Day of the week for 2022-01-01: Saturday\n",
    "     ```\n",
    "\n",
    "---\n",
    "\n",
    "### Key Functions and Concepts Used:\n",
    "1. **`datetime.date.today()`**:\n",
    "   - Returns the current date.\n",
    "\n",
    "2. **`datetime.timedelta(days=n)`**:\n",
    "   - Represents a time difference of `n` days.\n",
    "\n",
    "3. **`strftime('%A')`**:\n",
    "   - Converts a `date` object to a string representing the full weekday name.\n",
    "\n",
    "4. **Arithmetic with Dates**:\n",
    "   - You can add or subtract `timedelta` objects to/from `date` objects to calculate future or past dates.\n",
    "\n",
    "This script is useful for date calculations and understanding how Python handles dates and times.\n",
    "\"\"\""
   ]
  },
  {
   "cell_type": "code",
   "execution_count": 31,
   "id": "5ca1a740",
   "metadata": {},
   "outputs": [
    {
     "name": "stdout",
     "output_type": "stream",
     "text": [
      "[35, 24, 6, 44, 7]\n",
      "[1, 5, 2, 4, 3]\n"
     ]
    }
   ],
   "source": [
    "import random\n",
    "\n",
    "x = [random.randint(1,50) for _ in range(5)]\n",
    "print(x)\n",
    "\n",
    "lst = [1,2,3,4,5]\n",
    "random.shuffle(lst)\n",
    "\n",
    "print(lst)\n"
   ]
  },
  {
   "cell_type": "code",
   "execution_count": null,
   "id": "2c9dacc8",
   "metadata": {},
   "outputs": [],
   "source": []
  },
  {
   "cell_type": "code",
   "execution_count": 32,
   "id": "92028a7b",
   "metadata": {},
   "outputs": [
    {
     "name": "stdout",
     "output_type": "stream",
     "text": [
      "5\n",
      "6\n"
     ]
    }
   ],
   "source": [
    "from mypackages.module1 import addition\n",
    "\n",
    "print(addition(2,3))\n",
    "\n",
    "from mypackages.module2 import multiplication\n",
    "\n",
    "print(multiplication(2,3))\n"
   ]
  },
  {
   "cell_type": "code",
   "execution_count": null,
   "id": "86cd7e88",
   "metadata": {},
   "outputs": [],
   "source": [
    "from mypackages import addition, multiplication\n",
    "\n",
    "print(addition(2,3))\n",
    "\n",
    "print(multiplication(4,5))"
   ]
  },
  {
   "cell_type": "code",
   "execution_count": 35,
   "id": "9576865f",
   "metadata": {},
   "outputs": [
    {
     "name": "stdout",
     "output_type": "stream",
     "text": [
      "The Error Message: cannot import name 'non_existing_module' from 'mypackages' (d:\\programming\\Machine Learning, Data Science by Krish Naik\\Importing Creating Modules And Packages\\mypackages\\__init__.py)\n"
     ]
    }
   ],
   "source": [
    "try:\n",
    "    from mypackages import non_existing_module\n",
    "except ImportError as e:\n",
    "    print(f\"The Error Message: {e}\")"
   ]
  },
  {
   "cell_type": "code",
   "execution_count": null,
   "id": "468cdbae",
   "metadata": {},
   "outputs": [],
   "source": []
  }
 ],
 "metadata": {
  "kernelspec": {
   "display_name": "Python 3",
   "language": "python",
   "name": "python3"
  },
  "language_info": {
   "codemirror_mode": {
    "name": "ipython",
    "version": 3
   },
   "file_extension": ".py",
   "mimetype": "text/x-python",
   "name": "python",
   "nbconvert_exporter": "python",
   "pygments_lexer": "ipython3",
   "version": "3.12.0"
  }
 },
 "nbformat": 4,
 "nbformat_minor": 5
}
