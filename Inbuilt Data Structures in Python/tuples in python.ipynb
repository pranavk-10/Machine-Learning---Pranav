{
 "cells": [
  {
   "cell_type": "code",
   "execution_count": 2,
   "metadata": {},
   "outputs": [
    {
     "name": "stdout",
     "output_type": "stream",
     "text": [
      "()\n",
      "<class 'tuple'>\n"
     ]
    }
   ],
   "source": [
    "#creating a tuple\n",
    "empty_tuple = ()\n",
    "print(empty_tuple)\n",
    "print(type(empty_tuple))"
   ]
  },
  {
   "cell_type": "code",
   "execution_count": 3,
   "metadata": {},
   "outputs": [
    {
     "data": {
      "text/plain": [
       "(1, 2, 3, 4)"
      ]
     },
     "execution_count": 3,
     "metadata": {},
     "output_type": "execute_result"
    }
   ],
   "source": [
    "numbers = tuple([1,2,3,4])\n",
    "numbers"
   ]
  },
  {
   "cell_type": "code",
   "execution_count": 5,
   "metadata": {},
   "outputs": [
    {
     "name": "stdout",
     "output_type": "stream",
     "text": [
      "('pranav', 2, 4.23, 'krish')\n"
     ]
    }
   ],
   "source": [
    "mixed_tuple = (\"pranav\", 2, 4.23, \"krish\")\n",
    "print(mixed_tuple)"
   ]
  },
  {
   "cell_type": "code",
   "execution_count": 6,
   "metadata": {},
   "outputs": [
    {
     "name": "stdout",
     "output_type": "stream",
     "text": [
      "4\n"
     ]
    }
   ],
   "source": [
    "#accessing tuple elements\n",
    "print(numbers[3])"
   ]
  },
  {
   "cell_type": "code",
   "execution_count": 7,
   "metadata": {},
   "outputs": [
    {
     "name": "stdout",
     "output_type": "stream",
     "text": [
      "(1, 2, 3, 4, 'pranav', 2, 4.23, 'krish')\n"
     ]
    }
   ],
   "source": [
    "cont = numbers + mixed_tuple\n",
    "print(cont)"
   ]
  },
  {
   "cell_type": "code",
   "execution_count": 8,
   "metadata": {},
   "outputs": [],
   "source": [
    "#immutable nature of tuples\n",
    "#elements cannot be changed once inside\n"
   ]
  },
  {
   "cell_type": "code",
   "execution_count": 10,
   "metadata": {},
   "outputs": [
    {
     "name": "stdout",
     "output_type": "stream",
     "text": [
      "1\n",
      "2\n"
     ]
    }
   ],
   "source": [
    "#tuple methods \n",
    "print(numbers.count(1))\n",
    "print(numbers.index(3))"
   ]
  },
  {
   "cell_type": "code",
   "execution_count": 11,
   "metadata": {},
   "outputs": [
    {
     "name": "stdout",
     "output_type": "stream",
     "text": [
      "(1, 'hello', 3.12)\n"
     ]
    }
   ],
   "source": [
    "#packing and unpackng tuple\n",
    "packed_tuple = 1,\"hello\",3.12\n",
    "print(packed_tuple)"
   ]
  },
  {
   "cell_type": "code",
   "execution_count": 12,
   "metadata": {},
   "outputs": [
    {
     "name": "stdout",
     "output_type": "stream",
     "text": [
      "1\n",
      "hello\n",
      "3.12\n"
     ]
    }
   ],
   "source": [
    "a,b,c = packed_tuple\n",
    "print(a)\n",
    "print(b)\n",
    "print(c)"
   ]
  },
  {
   "cell_type": "code",
   "execution_count": 15,
   "metadata": {},
   "outputs": [
    {
     "data": {
      "text/plain": [
       "[1, 2, 3]"
      ]
     },
     "execution_count": 15,
     "metadata": {},
     "output_type": "execute_result"
    }
   ],
   "source": [
    "#nested tuple\n",
    "list = [[1,2,3,4],[4,5,6,7],[1,\"Hello\",3,14]]\n",
    "list[0][0:3]"
   ]
  },
  {
   "cell_type": "code",
   "execution_count": 18,
   "metadata": {},
   "outputs": [
    {
     "name": "stdout",
     "output_type": "stream",
     "text": [
      "(1, 2, 3)\n",
      "buenso dias\n"
     ]
    }
   ],
   "source": [
    "nested_tuple = ((1,2,3),(\"hello\", \"buenso dias\", (True,False)))\n",
    "#access the elements\n",
    "print(nested_tuple[0])\n",
    "print(nested_tuple[1][1])"
   ]
  },
  {
   "cell_type": "code",
   "execution_count": 1,
   "metadata": {},
   "outputs": [
    {
     "name": "stdout",
     "output_type": "stream",
     "text": [
      "(1, 2, 3, 4, 5, 6, 7, 8, 9, 10)\n"
     ]
    }
   ],
   "source": [
    "#tupple question 1\n",
    "tuple =(1,2,3,4,5,6,7,8,9,10)\n",
    "print(tuple)"
   ]
  },
  {
   "cell_type": "code",
   "execution_count": 2,
   "metadata": {},
   "outputs": [
    {
     "name": "stdout",
     "output_type": "stream",
     "text": [
      "1\n",
      "10\n"
     ]
    }
   ],
   "source": [
    "print(tuple[0])\n",
    "print(tuple[-1])"
   ]
  },
  {
   "cell_type": "code",
   "execution_count": 7,
   "metadata": {},
   "outputs": [
    {
     "name": "stdout",
     "output_type": "stream",
     "text": [
      "(1, 2)\n",
      "(7, 6, 5, 4, 3, 2, 1)\n",
      "(3, 4, 5)\n"
     ]
    }
   ],
   "source": [
    "print(tuple[:2])\n",
    "print(tuple[::-1])\n",
    "print(tuple[2:5:1])\n"
   ]
  },
  {
   "cell_type": "code",
   "execution_count": 18,
   "metadata": {},
   "outputs": [
    {
     "name": "stdout",
     "output_type": "stream",
     "text": [
      "(1, 2, 3)\n",
      "(3, 2, 1)\n",
      "(2, 3, 1)\n",
      "Element at second row and third column: 1\n"
     ]
    }
   ],
   "source": [
    "# question 4 \n",
    "matrix = (\n",
    "    (1,2,3),\n",
    "    (3,2,1),\n",
    "    (2,3,1))\n",
    "\n",
    "for row in matrix:\n",
    "    print(row)\n",
    "print(f\"Element at second row and third column: {matrix[1][2]}\")"
   ]
  },
  {
   "cell_type": "code",
   "execution_count": 19,
   "metadata": {},
   "outputs": [
    {
     "name": "stdout",
     "output_type": "stream",
     "text": [
      "(1, 3, 5, 7, 2, 4, 6, 8)\n"
     ]
    }
   ],
   "source": [
    "#question 5 tuple concatinaton\n",
    "tpl1 =(1,3,5,7)\n",
    "tpl2 = (2,4,6,8)\n",
    "con = tpl1+tpl2\n",
    "print(con)"
   ]
  },
  {
   "cell_type": "code",
   "execution_count": 25,
   "metadata": {},
   "outputs": [
    {
     "name": "stdout",
     "output_type": "stream",
     "text": [
      "3\n",
      "1\n"
     ]
    }
   ],
   "source": [
    "# question 6 duplicate and occurance\n",
    "duplicate = (1,2,2,3,4,5,5,5,6)\n",
    "five = duplicate.count(5)\n",
    "occurance = duplicate.index(2)\n",
    "print(five)\n",
    "print(occurance)"
   ]
  },
  {
   "cell_type": "code",
   "execution_count": 26,
   "metadata": {},
   "outputs": [
    {
     "name": "stdout",
     "output_type": "stream",
     "text": [
      "1\n",
      "2\n",
      "3\n",
      "4\n",
      "5\n"
     ]
    }
   ],
   "source": [
    "#question 7 tuple unpacking\n",
    "\n",
    "tuple_unpacking = (1,2,3,4,5)\n",
    "a,b,c,d,e = tuple_unpacking\n",
    "print(a)\n",
    "print(b)\n",
    "print(c)\n",
    "print(d)\n",
    "print(e)"
   ]
  },
  {
   "cell_type": "code",
   "execution_count": null,
   "metadata": {},
   "outputs": [],
   "source": [
    "# question 8 convert a list into tuple\n",
    "\n",
    "listx = [1,2,3,4,5]\n",
    "drum = tuple(listx)\n",
    "print(drum)"
   ]
  },
  {
   "cell_type": "code",
   "execution_count": 34,
   "metadata": {},
   "outputs": [
    {
     "name": "stdout",
     "output_type": "stream",
     "text": [
      "((1, 2, 3), ('buenos dias', 'buenas noches', 'hola'), (True, False))\n"
     ]
    }
   ],
   "source": [
    "#question 9 tuple of tuples\n",
    "boss = ((1,2,3),(\"buenos dias\", \"buenas noches\", \"hola\"),(True,False))\n",
    "print(boss)"
   ]
  },
  {
   "cell_type": "code",
   "execution_count": 35,
   "metadata": {},
   "outputs": [
    {
     "ename": "TypeError",
     "evalue": "'list' object is not callable",
     "output_type": "error",
     "traceback": [
      "\u001b[1;31m---------------------------------------------------------------------------\u001b[0m",
      "\u001b[1;31mTypeError\u001b[0m                                 Traceback (most recent call last)",
      "Cell \u001b[1;32mIn[35], line 3\u001b[0m\n\u001b[0;32m      1\u001b[0m \u001b[38;5;66;03m#question 10 tuple to list and append 6 and then back to tuple\u001b[39;00m\n\u001b[0;32m      2\u001b[0m tpl \u001b[38;5;241m=\u001b[39m (\u001b[38;5;241m1\u001b[39m,\u001b[38;5;241m2\u001b[39m,\u001b[38;5;241m3\u001b[39m,\u001b[38;5;241m4\u001b[39m,\u001b[38;5;241m5\u001b[39m)\n\u001b[1;32m----> 3\u001b[0m lst \u001b[38;5;241m=\u001b[39m \u001b[38;5;28;43mlist\u001b[39;49m\u001b[43m(\u001b[49m\u001b[43mtpl\u001b[49m\u001b[43m)\u001b[49m\n\u001b[0;32m      4\u001b[0m lst\u001b[38;5;241m.\u001b[39mappend(\u001b[38;5;241m6\u001b[39m)\n\u001b[0;32m      5\u001b[0m tpl2 \u001b[38;5;241m=\u001b[39m \u001b[38;5;28mtuple\u001b[39m(lst)\n",
      "\u001b[1;31mTypeError\u001b[0m: 'list' object is not callable"
     ]
    }
   ],
   "source": [
    "\n",
    "#question 10 tuple to list and append 6 and then back to tuple\n",
    "tpl = (1,2,3,4,5)\n",
    "lst = list(tpl)\n",
    "lst.append(6)\n",
    "tpl2 = tuple(lst)\n",
    "print(tpl2)"
   ]
  },
  {
   "cell_type": "code",
   "execution_count": null,
   "metadata": {},
   "outputs": [],
   "source": []
  }
 ],
 "metadata": {
  "kernelspec": {
   "display_name": "venv",
   "language": "python",
   "name": "python3"
  },
  "language_info": {
   "codemirror_mode": {
    "name": "ipython",
    "version": 3
   },
   "file_extension": ".py",
   "mimetype": "text/x-python",
   "name": "python",
   "nbconvert_exporter": "python",
   "pygments_lexer": "ipython3",
   "version": "3.12.0"
  }
 },
 "nbformat": 4,
 "nbformat_minor": 2
}
