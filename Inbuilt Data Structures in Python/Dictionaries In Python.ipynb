{
 "cells": [
  {
   "cell_type": "markdown",
   "metadata": {},
   "source": [
    "DICTIONARIES\n"
   ]
  },
  {
   "cell_type": "markdown",
   "metadata": {},
   "source": [
    "DICTIONARIES ARE UNORDERED COLLECTIONS OF ITEMS . STORE DATA IN KEY- VALUE PAIRS. KEYS MUST BE UNIQUE AND IMMUTABLE"
   ]
  },
  {
   "cell_type": "code",
   "execution_count": 1,
   "metadata": {},
   "outputs": [],
   "source": [
    "#create a dict\n",
    "my_dict = {}"
   ]
  },
  {
   "cell_type": "code",
   "execution_count": 3,
   "metadata": {},
   "outputs": [
    {
     "name": "stdout",
     "output_type": "stream",
     "text": [
      "{'Name': 'Pranav', 'Age': '19', 'Pointer': '9.7'}\n"
     ]
    }
   ],
   "source": [
    "me = {\"Name\": \"Pranav\", \"Age\": \"19\", \"Pointer\": \"9.7\"}\n",
    "print(me)"
   ]
  },
  {
   "cell_type": "code",
   "execution_count": 9,
   "metadata": {},
   "outputs": [
    {
     "name": "stdout",
     "output_type": "stream",
     "text": [
      "9.7\n",
      "Pranav\n",
      "9.7\n",
      "None\n",
      "Not available\n"
     ]
    }
   ],
   "source": [
    "# accessing dictonaries elements\n",
    "me = {\"Name\": \"Pranav\", \"Age\": \"19\", \"Pointer\": \"9.7\"}\n",
    "print(me['Pointer'])\n",
    "print(me['Name'])\n",
    "\n",
    "\n",
    "#accessing using get() method\n",
    "print(me.get('Pointer'))\n",
    "print(me.get('none'))\n",
    "print(me.get('none',\"Not available\"))\n"
   ]
  },
  {
   "cell_type": "code",
   "execution_count": 10,
   "metadata": {},
   "outputs": [],
   "source": [
    "#modifying dictionary elements\n",
    "#mutable\n",
    "\n"
   ]
  },
  {
   "cell_type": "code",
   "execution_count": 11,
   "metadata": {},
   "outputs": [
    {
     "name": "stdout",
     "output_type": "stream",
     "text": [
      "{'Name': 'Pranav', 'Age': '19', 'Pointer': '9.7'}\n"
     ]
    }
   ],
   "source": [
    "print(me)"
   ]
  },
  {
   "cell_type": "code",
   "execution_count": 12,
   "metadata": {},
   "outputs": [
    {
     "name": "stdout",
     "output_type": "stream",
     "text": [
      "{'Name': 'Pranav', 'Age': 20, 'Pointer': '9.7'}\n",
      "{'Name': 'Pranav', 'Age': 20, 'Pointer': '9.7', 'Address': 'India'}\n"
     ]
    }
   ],
   "source": [
    "me[\"Age\"]=20\n",
    "print(me)\n",
    "me [\"Address\"]=\"India\"\n",
    "print(me)"
   ]
  },
  {
   "cell_type": "code",
   "execution_count": 16,
   "metadata": {},
   "outputs": [
    {
     "name": "stdout",
     "output_type": "stream",
     "text": [
      "{'Name': 'Pranav', 'Age': 20}\n"
     ]
    }
   ],
   "source": [
    "del me['Pointer']\n",
    "print(me)"
   ]
  },
  {
   "cell_type": "code",
   "execution_count": 20,
   "metadata": {},
   "outputs": [
    {
     "name": "stdout",
     "output_type": "stream",
     "text": [
      "<built-in method keys of dict object at 0x000001AB05D47980>\n",
      "<built-in method values of dict object at 0x000001AB05D47980>\n",
      "dict_items([('Name', 'Pranav'), ('Age', 20)])\n"
     ]
    }
   ],
   "source": [
    "#dictionary methods\n",
    "keys = me.keys\n",
    "print(keys)\n",
    "vals = me.values\n",
    "print(vals)\n",
    "\n",
    "items = me.items()\n",
    "print(items)"
   ]
  },
  {
   "cell_type": "code",
   "execution_count": 22,
   "metadata": {},
   "outputs": [
    {
     "name": "stdout",
     "output_type": "stream",
     "text": [
      "{'Name': 'Pranav', 'Age': 20}\n",
      "{'Name': 'Pranav', 'Age': 20}\n"
     ]
    }
   ],
   "source": [
    "#shallow copy\n",
    "me_copy = me\n",
    "print(me)\n",
    "print(me_copy)"
   ]
  },
  {
   "cell_type": "code",
   "execution_count": 23,
   "metadata": {},
   "outputs": [
    {
     "name": "stdout",
     "output_type": "stream",
     "text": [
      "{'Name': 'Pranav', 'Age': 20}\n"
     ]
    }
   ],
   "source": [
    "me_copy2 = me.copy() #shallow copy\n",
    "print(me_copy2)"
   ]
  },
  {
   "cell_type": "code",
   "execution_count": 25,
   "metadata": {},
   "outputs": [
    {
     "name": "stdout",
     "output_type": "stream",
     "text": [
      "{'Name': 'Pryde', 'Age': 20}\n",
      "{'Name': 'Pranav', 'Age': 20}\n"
     ]
    }
   ],
   "source": [
    "me ['Name']= \"Pryde\"\n",
    "print(me)\n",
    "print(me_copy2)  ## inturns provides a differernt memory location to change one of the variable it should not affect the another one"
   ]
  },
  {
   "cell_type": "code",
   "execution_count": 27,
   "metadata": {},
   "outputs": [
    {
     "name": "stdout",
     "output_type": "stream",
     "text": [
      "Name\n",
      "Age\n"
     ]
    }
   ],
   "source": [
    "#iterating over dictionaries (you can use loops)\n",
    "\n",
    "\n",
    "for keys in me.keys():\n",
    "    print(keys)"
   ]
  },
  {
   "cell_type": "code",
   "execution_count": 28,
   "metadata": {},
   "outputs": [
    {
     "name": "stdout",
     "output_type": "stream",
     "text": [
      "Pryde\n",
      "20\n"
     ]
    }
   ],
   "source": [
    "for vals in me.values():\n",
    "    print(vals)"
   ]
  },
  {
   "cell_type": "code",
   "execution_count": 29,
   "metadata": {},
   "outputs": [
    {
     "name": "stdout",
     "output_type": "stream",
     "text": [
      "('Name', 'Pryde')\n",
      "('Age', 20)\n"
     ]
    }
   ],
   "source": [
    "for items in me.items():\n",
    "    print(items)"
   ]
  },
  {
   "cell_type": "code",
   "execution_count": 30,
   "metadata": {},
   "outputs": [
    {
     "name": "stdout",
     "output_type": "stream",
     "text": [
      "{'student1': {'Name': 'Pranav', 'Age': 19}, 'student2': {'Name': 'Yash', 'Age': 19}, 'student3': {'Name': 'Ojas', 'Age': 19}}\n"
     ]
    }
   ],
   "source": [
    "#nested dictionaries\n",
    "students = {\n",
    "    \"student1\": {\"Name\": \"Pranav\", \"Age\": 19},\n",
    "    \"student2\": {\"Name\": \"Yash\", \"Age\": 19},\n",
    "    \"student3\": {\"Name\": \"Ojas\", \"Age\": 19}\n",
    "}\n",
    "\n",
    "print(students)"
   ]
  },
  {
   "cell_type": "code",
   "execution_count": 31,
   "metadata": {},
   "outputs": [
    {
     "name": "stdout",
     "output_type": "stream",
     "text": [
      "Pranav\n",
      "Yash\n"
     ]
    }
   ],
   "source": [
    "#3 access nested dictionaries elements\n",
    "print(students[\"student1\"][\"Name\"])\n",
    "print(students[\"student2\"][\"Name\"])\n"
   ]
  },
  {
   "cell_type": "code",
   "execution_count": 32,
   "metadata": {},
   "outputs": [],
   "source": [
    "##iterating over nested dictionaries\n"
   ]
  },
  {
   "cell_type": "code",
   "execution_count": 33,
   "metadata": {},
   "outputs": [
    {
     "name": "stdout",
     "output_type": "stream",
     "text": [
      "{0: 0, 1: 1, 2: 4, 3: 9, 4: 16}\n"
     ]
    }
   ],
   "source": [
    "#dictionary comprehension\n",
    "\n",
    "squares = {x:x**2 for x in range(5)}\n",
    "print(squares)"
   ]
  },
  {
   "cell_type": "code",
   "execution_count": 35,
   "metadata": {},
   "outputs": [
    {
     "name": "stdout",
     "output_type": "stream",
     "text": [
      "{0: 0, 2: 4, 4: 16, 6: 36, 8: 64}\n"
     ]
    }
   ],
   "source": [
    "squares = {x:x**2 for x in range(10) if x%2==0}\n",
    "print(squares)"
   ]
  },
  {
   "cell_type": "code",
   "execution_count": 36,
   "metadata": {},
   "outputs": [
    {
     "name": "stdout",
     "output_type": "stream",
     "text": [
      "{'1': 1, '2': 1, '3': 3, '4': 5}\n"
     ]
    }
   ],
   "source": [
    "numbers = [1,2,3,3,3,4,4,4,4,4,5,5,6]\n",
    "frequency = {\"1\": numbers.count(1), \"2\": numbers.count(2), \"3\":numbers.count(3),\"4\":numbers.count(4)}\n",
    "print(frequency)"
   ]
  },
  {
   "cell_type": "code",
   "execution_count": 38,
   "metadata": {},
   "outputs": [
    {
     "name": "stdout",
     "output_type": "stream",
     "text": [
      "{'a': 1, 'b': 3, 'c': 4}\n"
     ]
    }
   ],
   "source": [
    "#merge two dictionaries \n",
    "\n",
    "dict1 ={\"a\":1,\"b\":2}\n",
    "dict2 ={\"b\":3,\"c\":4}\n",
    "merged_dict = {**dict1,**dict2}\n",
    "print(merged_dict)\n"
   ]
  },
  {
   "cell_type": "code",
   "execution_count": null,
   "metadata": {},
   "outputs": [],
   "source": []
  }
 ],
 "metadata": {
  "kernelspec": {
   "display_name": "venv",
   "language": "python",
   "name": "python3"
  },
  "language_info": {
   "codemirror_mode": {
    "name": "ipython",
    "version": 3
   },
   "file_extension": ".py",
   "mimetype": "text/x-python",
   "name": "python",
   "nbconvert_exporter": "python",
   "pygments_lexer": "ipython3",
   "version": "3.12.0"
  }
 },
 "nbformat": 4,
 "nbformat_minor": 2
}
