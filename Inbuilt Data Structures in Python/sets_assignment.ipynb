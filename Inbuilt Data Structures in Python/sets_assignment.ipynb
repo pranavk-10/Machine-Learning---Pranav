{
 "cells": [
  {
   "cell_type": "markdown",
   "metadata": {},
   "source": [
    "# Module 3: Data Structures Assignments\n",
    "## Lesson 3.3: Sets\n",
    "### Assignment 1: Creating and Accessing Sets\n",
    "\n",
    "Create a set with the first 10 positive integers. Print the set.\n",
    "\n",
    "### Assignment 2: Adding and Removing Elements\n",
    "\n",
    "Add the number 11 to the set created in Assignment 1. Then remove the number 1 from the set. Print the modified set.\n",
    "\n",
    "### Assignment 3: Set Operations\n",
    "\n",
    "Create two sets: one with the first 5 positive integers and another with the first 5 even integers. Perform and print the results of union, intersection, difference, and symmetric difference operations on these sets.\n",
    "\n",
    "### Assignment 4: Set Comprehensions\n",
    "\n",
    "Create a new set containing the squares of the first 10 positive integers using a set comprehension. Print the new set.\n",
    "\n",
    "### Assignment 5: Filtering Sets\n",
    "\n",
    "Create a new set containing only the even numbers from the set created in Assignment 1 using a set comprehension. Print the new set.\n",
    "\n",
    "### Assignment 6: Set Methods\n",
    "\n",
    "Create a set with duplicate elements and remove the duplicates using set methods. Print the modified set.\n",
    "\n",
    "### Assignment 7: Subsets and Supersets\n",
    "\n",
    "Create two sets: one with the first 5 positive integers and another with the first 3 positive integers. Check if the second set is a subset of the first set and if the first set is a superset of the second set. Print the results.\n",
    "\n",
    "### Assignment 8: Frozenset\n",
    "\n",
    "Create a frozenset with the first 5 positive integers. Print the frozenset.\n",
    "\n",
    "### Assignment 9: Set and List Conversion\n",
    "\n",
    "Create a set with the first 5 positive integers. Convert it to a list, append the number 6, and convert it back to a set. Print the resulting set.\n",
    "\n",
    "### Assignment 10: Set and Dictionary\n",
    "\n",
    "Create a dictionary with set keys and integer values. Print the dictionary.\n",
    "\n",
    "### Assignment 11: Iterating Over Sets\n",
    "\n",
    "Create a set and iterate over the elements, printing each element.\n",
    "\n",
    "### Assignment 12: Removing Elements from Sets\n",
    "\n",
    "Create a set and remove elements from it until it is empty. Print the set after each removal.\n",
    "\n",
    "### Assignment 13: Set Symmetric Difference Update\n",
    "\n",
    "Create two sets and update the first set with the symmetric difference of the two sets. Print the modified first set.\n",
    "\n",
    "### Assignment 14: Set Membership Testing\n",
    "\n",
    "Create a set and test if certain elements are present in the set. Print the results.\n",
    "\n",
    "### Assignment 15: Set of Tuples\n",
    "\n",
    "Create a set containing tuples, where each tuple contains two elements. Print the set."
   ]
  },
  {
   "cell_type": "code",
   "execution_count": 2,
   "metadata": {},
   "outputs": [
    {
     "name": "stdout",
     "output_type": "stream",
     "text": [
      "{1, 2, 3, 4, 5, 6, 7, 8, 9, 10}\n"
     ]
    }
   ],
   "source": [
    "#answer 1\n",
    "set1 = {1,2,3,4,5,6,7,8,9,10}\n",
    "print(set1)"
   ]
  },
  {
   "cell_type": "code",
   "execution_count": 3,
   "id": "aee5d41a",
   "metadata": {},
   "outputs": [
    {
     "name": "stdout",
     "output_type": "stream",
     "text": [
      "{1, 2, 3, 4, 5, 6, 7, 8, 9, 10, 11}\n",
      "{2, 3, 4, 5, 6, 7, 8, 9, 10, 11}\n"
     ]
    }
   ],
   "source": [
    "set1.add(11)\n",
    "print(set1)\n",
    "\n",
    "set1.remove(1)\n",
    "print(set1)"
   ]
  },
  {
   "cell_type": "code",
   "execution_count": 4,
   "id": "3b5d600b",
   "metadata": {},
   "outputs": [
    {
     "name": "stdout",
     "output_type": "stream",
     "text": [
      "{1, 2, 3, 4, 5, 6, 8, 10} {2, 4} {1, 3, 5} {1, 3, 5, 6, 8, 10}\n"
     ]
    }
   ],
   "source": [
    "x = {1,2,3,4,5}\n",
    "y ={2,4,6,8,10}\n",
    "\n",
    "union = x.union(y)\n",
    "inter = x.intersection(y)\n",
    "diff = x.difference(y)\n",
    "sym_diff = x.symmetric_difference(y)\n",
    "\n",
    "print(union,inter,diff,sym_diff)"
   ]
  },
  {
   "cell_type": "code",
   "execution_count": 10,
   "id": "0f358bcf",
   "metadata": {},
   "outputs": [
    {
     "name": "stdout",
     "output_type": "stream",
     "text": [
      "{0, 1, 64, 4, 36, 100, 9, 16, 49, 81, 25}\n"
     ]
    }
   ],
   "source": [
    "#answer 4 set comprehension\n",
    "\n",
    "squares = {x**2 for x in range(0,11)}\n",
    "print(squares)"
   ]
  },
  {
   "cell_type": "code",
   "execution_count": null,
   "id": "0813a2de",
   "metadata": {},
   "outputs": [],
   "source": [
    "first = {1, 2, 3, 3, 3, 4, 5, 6, 7}\n",
    "dupli = set(first)  # Ensure no variable named 'set' exists in the code\n",
    "print(dupli)  # Output: {1, 2, 3, 4, 5, 6, 7}\n"
   ]
  },
  {
   "cell_type": "code",
   "execution_count": 12,
   "id": "590a96a6",
   "metadata": {},
   "outputs": [
    {
     "name": "stdout",
     "output_type": "stream",
     "text": [
      "{2, 4, 6, 8, 10}\n"
     ]
    }
   ],
   "source": [
    "even = {x for x in set1 if x%2==0}\n",
    "print(even)"
   ]
  },
  {
   "cell_type": "code",
   "execution_count": 13,
   "id": "254c9fea",
   "metadata": {},
   "outputs": [
    {
     "name": "stdout",
     "output_type": "stream",
     "text": [
      "False\n",
      "False\n"
     ]
    }
   ],
   "source": [
    "a = {1,2,3,4,5}\n",
    "b ={1,2,3}\n",
    "sub = a.issubset(b)\n",
    "super = b.issuperset(a)\n",
    "\n",
    "print(sub)\n",
    "print(super)"
   ]
  },
  {
   "cell_type": "code",
   "execution_count": 15,
   "id": "dc46edbe",
   "metadata": {},
   "outputs": [
    {
     "name": "stdout",
     "output_type": "stream",
     "text": [
      "frozenset({1, 2, 3, 4, 5})\n"
     ]
    }
   ],
   "source": [
    "#question 8 frozen set\n",
    "\n",
    "frozen = frozenset(range(1,6))\n",
    "print(frozen)"
   ]
  },
  {
   "cell_type": "code",
   "execution_count": 18,
   "id": "864a34e4",
   "metadata": {},
   "outputs": [
    {
     "ename": "TypeError",
     "evalue": "'set' object is not callable",
     "output_type": "error",
     "traceback": [
      "\u001b[1;31m---------------------------------------------------------------------------\u001b[0m",
      "\u001b[1;31mTypeError\u001b[0m                                 Traceback (most recent call last)",
      "Cell \u001b[1;32mIn[18], line 1\u001b[0m\n\u001b[1;32m----> 1\u001b[0m s \u001b[38;5;241m=\u001b[39m \u001b[38;5;28;43mset\u001b[39;49m\u001b[43m(\u001b[49m\u001b[38;5;28;43mrange\u001b[39;49m\u001b[43m(\u001b[49m\u001b[38;5;241;43m1\u001b[39;49m\u001b[43m,\u001b[49m\u001b[43m \u001b[49m\u001b[38;5;241;43m6\u001b[39;49m\u001b[43m)\u001b[49m\u001b[43m)\u001b[49m\n\u001b[0;32m      2\u001b[0m lst \u001b[38;5;241m=\u001b[39m \u001b[38;5;28mlist\u001b[39m(s)\n\u001b[0;32m      3\u001b[0m lst\u001b[38;5;241m.\u001b[39mappend(\u001b[38;5;241m6\u001b[39m)\n",
      "\u001b[1;31mTypeError\u001b[0m: 'set' object is not callable"
     ]
    }
   ],
   "source": [
    "s = set(range(1, 6))\n",
    "lst = list(s)\n",
    "lst.append(6)\n",
    "s = set(lst)\n",
    "print(s)\n"
   ]
  },
  {
   "cell_type": "code",
   "execution_count": 19,
   "id": "00b2c47c",
   "metadata": {},
   "outputs": [
    {
     "name": "stdout",
     "output_type": "stream",
     "text": [
      "Drums\n",
      "Guitar\n",
      "Keyboard\n",
      "Piano\n"
     ]
    }
   ],
   "source": [
    "drum = {\"Drums\", \"Keyboard\", \"Guitar\", \"Piano\"}\n",
    "for x in drum:\n",
    "    print(x)"
   ]
  },
  {
   "cell_type": "code",
   "execution_count": 20,
   "id": "4580e477",
   "metadata": {},
   "outputs": [
    {
     "name": "stdout",
     "output_type": "stream",
     "text": [
      "{'Guitar', 'Keyboard', 'Piano'}\n",
      "{'Keyboard', 'Piano'}\n",
      "{'Piano'}\n",
      "set()\n"
     ]
    }
   ],
   "source": [
    "while drum:\n",
    "    drum.pop()\n",
    "    print(drum)"
   ]
  },
  {
   "cell_type": "code",
   "execution_count": 21,
   "id": "a8b3fccc",
   "metadata": {},
   "outputs": [
    {
     "name": "stdout",
     "output_type": "stream",
     "text": [
      "{'Aryaman', 'Anmol'}\n"
     ]
    }
   ],
   "source": [
    "se1 = {\"Pranav\", \"Tanishka\", \"Aryaman\"}\n",
    "se2 = {\"Anmol\", \"Tanishka\", \"Pranav\"}\n",
    "se1.symmetric_difference_update(se2)\n",
    "print(se1)"
   ]
  },
  {
   "cell_type": "code",
   "execution_count": 23,
   "id": "f22911df",
   "metadata": {},
   "outputs": [
    {
     "name": "stdout",
     "output_type": "stream",
     "text": [
      "True\n"
     ]
    }
   ],
   "source": [
    "anmol = (\"Anmol\" in se2)\n",
    "print(anmol)"
   ]
  },
  {
   "cell_type": "code",
   "execution_count": 24,
   "id": "a48556e5",
   "metadata": {},
   "outputs": [
    {
     "name": "stdout",
     "output_type": "stream",
     "text": [
      "{(1, 2), (8, 9), (3, 4)}\n",
      "3\n"
     ]
    }
   ],
   "source": [
    "set_tuples = {(1,2),(3,4),(8,9)}\n",
    "print(set_tuples)\n",
    "print(len(set_tuples))"
   ]
  }
 ],
 "metadata": {
  "kernelspec": {
   "display_name": "venv",
   "language": "python",
   "name": "python3"
  },
  "language_info": {
   "codemirror_mode": {
    "name": "ipython",
    "version": 3
   },
   "file_extension": ".py",
   "mimetype": "text/x-python",
   "name": "python",
   "nbconvert_exporter": "python",
   "pygments_lexer": "ipython3",
   "version": "3.12.0"
  }
 },
 "nbformat": 4,
 "nbformat_minor": 5
}
