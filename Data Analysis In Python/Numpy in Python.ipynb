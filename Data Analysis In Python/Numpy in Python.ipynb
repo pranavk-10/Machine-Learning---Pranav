{
 "cells": [
  {
   "cell_type": "markdown",
   "metadata": {},
   "source": [
    "### Numpy in Python\n",
    "\n",
    "Numpy is a fundamental library for scientific computing in Python. It provides support for arrays and matrices, along with a collection of mathematical functions to operate on these data structures."
   ]
  },
  {
   "cell_type": "code",
   "execution_count": 2,
   "metadata": {},
   "outputs": [
    {
     "name": "stdout",
     "output_type": "stream",
     "text": [
      "Requirement already satisfied: numpy in c:\\users\\hp\\anaconda3\\lib\\site-packages (2.2.2)\n"
     ]
    }
   ],
   "source": [
    "!pip install numpy"
   ]
  },
  {
   "cell_type": "code",
   "execution_count": 3,
   "metadata": {},
   "outputs": [
    {
     "name": "stdout",
     "output_type": "stream",
     "text": [
      "[1 2 3 4 5]\n",
      "<class 'numpy.ndarray'>\n",
      "(5,)\n"
     ]
    }
   ],
   "source": [
    "import numpy as np\n",
    "\n",
    "arr1 = np.array([1,2,3,4,5])\n",
    "print(arr1)\n",
    "print(type(arr1))\n",
    "print(arr1.shape)"
   ]
  },
  {
   "cell_type": "code",
   "execution_count": 4,
   "metadata": {},
   "outputs": [
    {
     "data": {
      "text/plain": [
       "array([[1, 2, 3, 4, 5]])"
      ]
     },
     "execution_count": 4,
     "metadata": {},
     "output_type": "execute_result"
    }
   ],
   "source": [
    "arr2 = np.array([1,2,3,4,5])\n",
    "arr2.reshape(1,5)"
   ]
  },
  {
   "cell_type": "markdown",
   "metadata": {},
   "source": [
    "### **Array kya hota hai?**\n",
    "Array ek data structure hai jisme ek hi type ke multiple elements ko ek saath store kiya jaata hai. In elements ko ek fixed size memory block mein store kiya jaata hai, aur aap array ki index positions se elements ko access kar sakte ho.\n",
    "\n",
    "#### Example:\n",
    "```python\n",
    "# Ek simple array:\n",
    "arr = [1, 2, 3, 4, 5]\n",
    "```\n",
    "\n",
    "### **1-Dimensional Array (1D Array)**\n",
    "\n",
    "1D array ek aise array ko kaha jaata hai jisme elements ek hi row mein arranged hote hain. Isme sirf ek dimension hota hai.\n",
    "\n",
    "#### Example:\n",
    "```python\n",
    "arr = [1, 2, 3, 4, 5]\n",
    "```\n",
    "Yeh array ek row mein elements ko store karta hai. Is array mein har element ek index ke through access kiya jaata hai (starting from index 0).\n",
    "\n",
    "#### Visualization:\n",
    "```\n",
    "Index:    0    1    2    3    4\n",
    "Array:    1    2    3    4    5\n",
    "```\n",
    "\n",
    "### **2-Dimensional Array (2D Array)**\n",
    "\n",
    "2D array ek array hota hai jisme elements ko rows aur columns mein arrange kiya jaata hai. Ismein do dimensions hote hain — ek row dimension aur ek column dimension. Aap soch sakte ho jaise ek matrix.\n",
    "\n",
    "#### Example:\n",
    "```python\n",
    "arr = [\n",
    "    [1, 2, 3],\n",
    "    [4, 5, 6],\n",
    "    [7, 8, 9]\n",
    "]\n",
    "```\n",
    "Yeh 2D array 3 rows aur 3 columns mein organize hota hai.\n",
    "\n",
    "#### Visualization:\n",
    "```\n",
    "Row 0:    1    2    3\n",
    "Row 1:    4    5    6\n",
    "Row 2:    7    8    9\n",
    "```\n",
    "\n",
    "Yeh array rows aur columns ke form mein elements ko store karta hai. Aap index ke zariye specific element ko access kar sakte ho, jaise:\n",
    "```python\n",
    "arr[0][2]  # Output: 3\n",
    "```\n",
    "\n",
    "### **Summary:**\n",
    "- **1D Array**: Ek single line mein elements store kiye jaate hain (like a list).\n",
    "- **2D Array**: Multiple rows aur columns mein elements store kiye jaate hain (like a matrix).\n",
    "\n",
    "Arrays ka use karne se aapko ek structured way milta hai data ko store aur access karne ka, aur aap easily specific elements ko retrieve kar sakte ho."
   ]
  },
  {
   "cell_type": "code",
   "execution_count": 9,
   "metadata": {},
   "outputs": [
    {
     "data": {
      "text/plain": [
       "array([0, 2, 4, 6, 8])"
      ]
     },
     "execution_count": 9,
     "metadata": {},
     "output_type": "execute_result"
    }
   ],
   "source": [
    "np.arange(0,10,2)"
   ]
  },
  {
   "cell_type": "code",
   "execution_count": 10,
   "metadata": {},
   "outputs": [
    {
     "data": {
      "text/plain": [
       "array([[0],\n",
       "       [2],\n",
       "       [4],\n",
       "       [6],\n",
       "       [8]])"
      ]
     },
     "execution_count": 10,
     "metadata": {},
     "output_type": "execute_result"
    }
   ],
   "source": [
    "np.arange(0,10,2).reshape(5,1)"
   ]
  },
  {
   "cell_type": "code",
   "execution_count": 12,
   "metadata": {},
   "outputs": [
    {
     "data": {
      "text/plain": [
       "array([[1., 1., 1., 1.],\n",
       "       [1., 1., 1., 1.],\n",
       "       [1., 1., 1., 1.],\n",
       "       [1., 1., 1., 1.],\n",
       "       [1., 1., 1., 1.]])"
      ]
     },
     "execution_count": 12,
     "metadata": {},
     "output_type": "execute_result"
    }
   ],
   "source": [
    "np.ones((5,4))"
   ]
  },
  {
   "cell_type": "code",
   "execution_count": 13,
   "metadata": {},
   "outputs": [
    {
     "data": {
      "text/plain": [
       "array([[1., 0., 0.],\n",
       "       [0., 1., 0.],\n",
       "       [0., 0., 1.]])"
      ]
     },
     "execution_count": 13,
     "metadata": {},
     "output_type": "execute_result"
    }
   ],
   "source": [
    "## identity matrix\n",
    "\n",
    "np.eye(3)"
   ]
  },
  {
   "cell_type": "code",
   "execution_count": 14,
   "metadata": {},
   "outputs": [
    {
     "name": "stdout",
     "output_type": "stream",
     "text": [
      "Addition: [11 22 33 44 55]\n",
      "Subtraction: [ -9 -18 -27 -36 -45]\n",
      "Multiplication: [ 10  40  90 160 250]\n",
      "Division: [0.1 0.1 0.1 0.1 0.1]\n"
     ]
    }
   ],
   "source": [
    "##Numpy vectorized operation\n",
    "\n",
    "arr1 = np.array([1,2,3,4,5])\n",
    "arr2 = np.array([10,20,30,40,50])\n",
    "\n",
    "#addition\n",
    "print(\"Addition:\", arr1+arr2)\n",
    "\n",
    "#Subtraction\n",
    "print(\"Subtraction:\", arr1-arr2)\n",
    "\n",
    "#Multiplication\n",
    "print(\"Multiplication:\", arr1*arr2)\n",
    "\n",
    "#Division\n",
    "print(\"Division:\", arr1/arr2)"
   ]
  },
  {
   "cell_type": "code",
   "execution_count": 18,
   "metadata": {},
   "outputs": [
    {
     "name": "stdout",
     "output_type": "stream",
     "text": [
      "[1.41421356 1.73205081 2.         2.23606798 2.44948974]\n",
      "[  7.3890561   20.08553692  54.59815003 148.4131591  403.42879349]\n",
      "[ 0.90929743  0.14112001 -0.7568025  -0.95892427 -0.2794155 ]\n"
     ]
    }
   ],
   "source": [
    "#universal function\n",
    "\n",
    "arr = np.array([2,3,4,5,6])\n",
    "print(np.sqrt(arr))\n",
    "print(np.exp(arr))\n",
    "print(np.sin(arr))"
   ]
  },
  {
   "cell_type": "code",
   "execution_count": 21,
   "metadata": {},
   "outputs": [
    {
     "name": "stdout",
     "output_type": "stream",
     "text": [
      "Array \n",
      " [[1 2 3 4]\n",
      " [3 4 5 6]\n",
      " [6 7 8 9]]\n"
     ]
    }
   ],
   "source": [
    "# array slicing and indexing\n",
    "arr = np.array(([1,2,3,4],[3,4,5,6],[6,7,8,9]))\n",
    "print(\"Array \\n\", arr)"
   ]
  },
  {
   "cell_type": "code",
   "execution_count": 22,
   "metadata": {},
   "outputs": [
    {
     "data": {
      "text/plain": [
       "4"
      ]
     },
     "execution_count": 22,
     "metadata": {},
     "output_type": "execute_result"
    }
   ],
   "source": [
    "arr[0][3]"
   ]
  },
  {
   "cell_type": "code",
   "execution_count": 30,
   "metadata": {},
   "outputs": [
    {
     "data": {
      "text/plain": [
       "array([[3, 4],\n",
       "       [6, 7]])"
      ]
     },
     "execution_count": 30,
     "metadata": {},
     "output_type": "execute_result"
    }
   ],
   "source": [
    "arr[1:,0:2]"
   ]
  },
  {
   "cell_type": "code",
   "execution_count": 32,
   "metadata": {},
   "outputs": [
    {
     "name": "stdout",
     "output_type": "stream",
     "text": [
      "[[100   2   3   4]\n",
      " [  3   4   5   6]\n",
      " [  6   7   8   9]]\n"
     ]
    }
   ],
   "source": [
    "#modify array elements\n",
    "arr[0,0]=100\n",
    "print(arr)"
   ]
  },
  {
   "cell_type": "code",
   "execution_count": 37,
   "metadata": {},
   "outputs": [
    {
     "name": "stdout",
     "output_type": "stream",
     "text": [
      "Normalized data [-1.41421356 -0.70710678  0.          0.70710678  1.41421356]\n",
      "3.0\n",
      "1.4142135623730951\n"
     ]
    }
   ],
   "source": [
    "## statistical operations - normalization\n",
    "\n",
    "# to have a meanof 0 and a standard deviation as 1\n",
    "\n",
    "data = np.array([1 , 2 , 3 , 4 , 5])\n",
    "\n",
    "mean = np.mean(data)\n",
    "std_dev = np.std(data)\n",
    "\n",
    "normalized_data = (data - mean)/std_dev\n",
    "print(\"Normalized data\", normalized_data)\n",
    "print(mean)\n",
    "print(std_dev)\n"
   ]
  },
  {
   "cell_type": "code",
   "execution_count": 38,
   "metadata": {},
   "outputs": [
    {
     "name": "stdout",
     "output_type": "stream",
     "text": [
      "5.0\n",
      "5.0\n",
      "2.581988897471611\n",
      "6.666666666666667\n"
     ]
    }
   ],
   "source": [
    "x = np.array([1,2,3,4,5,6,7,8,9])\n",
    "\n",
    "mean = np.mean(x)\n",
    "print(mean)\n",
    "\n",
    "median = np.median(x)\n",
    "print(median)\n",
    "\n",
    "std_devx = np.std(x)\n",
    "print(std_devx)\n",
    "\n",
    "variance = np.var(x)\n",
    "print(variance)"
   ]
  },
  {
   "cell_type": "code",
   "execution_count": 39,
   "metadata": {},
   "outputs": [
    {
     "data": {
      "text/plain": [
       "array([6, 7, 8, 9])"
      ]
     },
     "execution_count": 39,
     "metadata": {},
     "output_type": "execute_result"
    }
   ],
   "source": [
    "x = np.array([1,2,3,4,5,6,7,8,9])\n",
    "x[x>5]"
   ]
  },
  {
   "cell_type": "code",
   "execution_count": null,
   "metadata": {},
   "outputs": [],
   "source": []
  }
 ],
 "metadata": {
  "kernelspec": {
   "display_name": "myenv",
   "language": "python",
   "name": "python3"
  },
  "language_info": {
   "codemirror_mode": {
    "name": "ipython",
    "version": 3
   },
   "file_extension": ".py",
   "mimetype": "text/x-python",
   "name": "python",
   "nbconvert_exporter": "python",
   "pygments_lexer": "ipython3",
   "version": "3.12.7"
  }
 },
 "nbformat": 4,
 "nbformat_minor": 2
}
