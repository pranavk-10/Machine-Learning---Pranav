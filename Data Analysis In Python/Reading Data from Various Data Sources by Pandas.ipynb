{
 "cells": [
  {
   "cell_type": "markdown",
   "metadata": {},
   "source": [
    "### Reading Data from Various Data Sources In Python using Pandas"
   ]
  },
  {
   "cell_type": "code",
   "execution_count": 8,
   "metadata": {},
   "outputs": [
    {
     "name": "stdout",
     "output_type": "stream",
     "text": [
      "     Name  Age        State         Job Profile Eligble for Internship\n",
      "0  Pranav   19  Maharashtra  Currently Studying                   true\n"
     ]
    }
   ],
   "source": [
    "import pandas as pd\n",
    "from io import StringIO\n",
    "\n",
    "Data = '[{\"Name\":\"Pranav\",\"Age\":19,\"State\":\"Maharashtra\",\"Job Profile\":\"Currently Studying\",\"Eligble for Internship\":\"true\"}]'\n",
    "df = pd.read_json(StringIO(Data)) \n",
    "print(df)\n"
   ]
  },
  {
   "cell_type": "markdown",
   "metadata": {},
   "source": [
    "Achha sawal hai! Chalo simple tareeke se samjhte hain.\n",
    "\n",
    "### 1. **JSON Kya Hai?**\n",
    "**JSON (JavaScript Object Notation)** ek lightweight data format hai jo data ko **store** aur **transfer** karne ke liye use hota hai. Ye human-readable bhi hota hai aur machines ke liye parse karna easy hota hai.\n",
    "\n",
    "- **Use Case:** APIs, config files, data storage, etc.\n",
    "  \n",
    "**Example of JSON:**\n",
    "```json\n",
    "{\n",
    "  \"Name\": \"Pranav\",\n",
    "  \"Age\": 19,\n",
    "  \"State\": \"Maharashtra\"\n",
    "}\n",
    "```\n",
    "\n",
    "---\n",
    "\n",
    "### 2. **Object Kya Hai?**\n",
    "**Object** ek data structure hai jo key-value pairs mein data store karta hai. Har key ka ek unique naam hota hai aur uske corresponding value hoti hai.\n",
    "\n",
    "- **JavaScript Object** (jahan se JSON aaya hai) bhi key-value pairs mein data store karta hai.\n",
    "- **Python Dictionary** bhi ek object jaise hi kaam karta hai.\n",
    "\n",
    "**Example of Object (Python Dictionary):**\n",
    "```python\n",
    "{\n",
    "  \"Name\": \"Pranav\",\n",
    "  \"Age\": 19,\n",
    "  \"State\": \"Maharashtra\"\n",
    "}\n",
    "```\n",
    "\n",
    "---\n",
    "\n",
    "### 3. **JSON aur Object ka Rishta:**\n",
    "\n",
    "- **JSON** ek *string* format hai jo data ko represent karta hai.\n",
    "- **Object** (ya Python mein *dictionary*) ek *data structure* hai jo memory mein data ko hold karta hai.\n",
    "\n",
    "**Conversion Example (Python mein):**\n",
    "\n",
    "- **JSON String:**\n",
    "```python\n",
    "json_data = '{\"Name\": \"Pranav\", \"Age\": 19, \"State\": \"Maharashtra\"}'  # Ye ek string hai\n",
    "```\n",
    "\n",
    "- **Python Object (Dictionary):**\n",
    "```python\n",
    "import json\n",
    "dict_data = json.loads(json_data)  # JSON string ko Python dict mein convert kar diya\n",
    "print(dict_data[\"Name\"])  # Output: Pranav\n",
    "```\n",
    "\n",
    "**Key Differences:**\n",
    "| JSON                          | Object (Dictionary in Python)    |\n",
    "|-------------------------------|----------------------------------|\n",
    "| String format mein hota hai   | Actual data structure hota hai   |\n",
    "| Data transfer ke liye use hota hai | Data ko manipulate aur process karne ke liye use hota hai |\n",
    "| Boolean `true`/`false` hota hai | Boolean `True`/`False` hota hai |\n",
    "| Keys aur values dono *quotes* mein hote hain | Keys bina quotes ke ho sakte hain |\n",
    "\n",
    "---\n",
    "\n",
    "### 4. **Ek Real-life Example:**\n",
    "\n",
    "Maan lo tum ek **parcel** bhej rahe ho:\n",
    "- **JSON** = Parcel ke andar ka **list** likha hua hai (packing slip).  \n",
    "- **Object (Dictionary)** = Jab tumhara dost parcel kholta hai, toh uske haath mein **actual items** aa jate hain.\n",
    "\n",
    "---\n",
    "\n",
    "Agar koi aur confusion ho toh pooch lena!"
   ]
  },
  {
   "cell_type": "code",
   "execution_count": 9,
   "metadata": {},
   "outputs": [
    {
     "data": {
      "text/plain": [
       "'{\"Name\":{\"0\":\"Pranav\"},\"Age\":{\"0\":19},\"State\":{\"0\":\"Maharashtra\"},\"Job Profile\":{\"0\":\"Currently Studying\"},\"Eligble for Internship\":{\"0\":\"true\"}}'"
      ]
     },
     "execution_count": 9,
     "metadata": {},
     "output_type": "execute_result"
    }
   ],
   "source": [
    "df1 = df.to_json()\n",
    "df1"
   ]
  },
  {
   "cell_type": "code",
   "execution_count": 10,
   "metadata": {},
   "outputs": [
    {
     "data": {
      "text/plain": [
       "'{\"0\":{\"Name\":\"Pranav\",\"Age\":19,\"State\":\"Maharashtra\",\"Job Profile\":\"Currently Studying\",\"Eligble for Internship\":\"true\"}}'"
      ]
     },
     "execution_count": 10,
     "metadata": {},
     "output_type": "execute_result"
    }
   ],
   "source": [
    "df2 = df.to_json(orient='index')\n",
    "df2"
   ]
  },
  {
   "cell_type": "code",
   "execution_count": 11,
   "metadata": {},
   "outputs": [
    {
     "data": {
      "text/plain": [
       "'[{\"Name\":\"Pranav\",\"Age\":19,\"State\":\"Maharashtra\",\"Job Profile\":\"Currently Studying\",\"Eligble for Internship\":\"true\"}]'"
      ]
     },
     "execution_count": 11,
     "metadata": {},
     "output_type": "execute_result"
    }
   ],
   "source": [
    "df3 = df.to_json(orient='records')\n",
    "df3"
   ]
  },
  {
   "cell_type": "code",
   "execution_count": null,
   "metadata": {},
   "outputs": [],
   "source": []
  }
 ],
 "metadata": {
  "kernelspec": {
   "display_name": "myenv",
   "language": "python",
   "name": "python3"
  },
  "language_info": {
   "codemirror_mode": {
    "name": "ipython",
    "version": 3
   },
   "file_extension": ".py",
   "mimetype": "text/x-python",
   "name": "python",
   "nbconvert_exporter": "python",
   "pygments_lexer": "ipython3",
   "version": "3.12.7"
  }
 },
 "nbformat": 4,
 "nbformat_minor": 2
}
