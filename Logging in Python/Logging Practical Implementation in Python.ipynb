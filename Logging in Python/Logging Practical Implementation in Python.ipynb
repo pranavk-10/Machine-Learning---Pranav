{
 "cells": [
  {
   "cell_type": "markdown",
   "metadata": {},
   "source": [
    "### Python Logging\n",
    "\n",
    "Logging is a crucial aspect of any application , providing a way t track events, errors and operational information. Python's inbuilt logging module offers a flexible framework for emitting log messages in Pyhton Programs."
   ]
  },
  {
   "cell_type": "code",
   "execution_count": 1,
   "metadata": {},
   "outputs": [
    {
     "name": "stderr",
     "output_type": "stream",
     "text": [
      "DEBUG:root:This is a debug message\n",
      "INFO:root:This is a info message\n",
      "ERROR:root:This is an error message\n",
      "WARNING:root:This is a warning Message\n"
     ]
    }
   ],
   "source": [
    "import logging\n",
    "\n",
    "#configure\n",
    "logging.basicConfig(level=logging.DEBUG)\n",
    "\n",
    "#log messages\n",
    "logging.debug(\"This is a debug message\")\n",
    "logging.info(\"This is a info message\")\n",
    "logging.error(\"This is an error message\")\n",
    "logging.warning(\"This is a warning Message\")"
   ]
  },
  {
   "cell_type": "code",
   "execution_count": 1,
   "metadata": {},
   "outputs": [],
   "source": [
    "import logging\n",
    "\n",
    "logging.basicConfig(\n",
    "    filename='app.log',\n",
    "    filemode='w',\n",
    "    level=logging.DEBUG,\n",
    "    format = '%(asctime)s-%(name)s-%(levelname)s-%(message)s',\n",
    "    datefmt='%Y-%m-%d %H:%M %S'\n",
    "    )\n",
    "#log messages\n",
    "logging.debug(\"This is a debug message\")\n",
    "logging.info(\"This is a info message\")\n",
    "logging.error(\"This is an error message\")\n",
    "logging.warning(\"This is a warning Message\")\n",
    "\n"
   ]
  },
  {
   "cell_type": "code",
   "execution_count": null,
   "metadata": {},
   "outputs": [],
   "source": [
    "import logging\n",
    "logging.basicConfig(\n",
    "    level=logging.DEBUG,\n",
    "    format = '%(asctime)s-%(name)s-%(levelname)s-%(message)s',\n",
    "    datefmt='%Y-%m-%d %H:%M %S'\n",
    "    )\n",
    "\n",
    "logger1 = logging.getLogger(\"module1\")\n",
    "logger1.setLevel(logging.DEBUG)\n",
    "\n",
    "logger2 = logging.getLogger(\"module2\")\n",
    "logger2.setLevel(logging.WARNING)\n"
   ]
  },
  {
   "cell_type": "code",
   "execution_count": 4,
   "metadata": {},
   "outputs": [
    {
     "name": "stderr",
     "output_type": "stream",
     "text": [
      "2025-02-07 23:05 30-module1-DEBUG-This is a debug message for module1\n",
      "2025-02-07 23:05 30-module2-WARNING-This is a Warning Message\n",
      "2025-02-07 23:05 30-module2-ERROR-This is a error message\n"
     ]
    }
   ],
   "source": [
    "logger1.debug(\"This is a debug message for module1\")\n",
    "logger2.warning(\"This is a Warning Message\")\n",
    "logger2.error(\"This is a error message\")"
   ]
  },
  {
   "cell_type": "markdown",
   "metadata": {},
   "source": [
    "Haan bhai, ye output sahi lag raha hai! 🔥  \n",
    "\n",
    "### **Breakdown:**  \n",
    "1. **`logger1 (module1)`** ka level `DEBUG` hai, toh saare debug-level aur uske upar ke messages dikhne chahiye.  \n",
    "   ✅ `\"This is a debug message for module1\"` — Debug level ka hai, toh print ho raha hai.  \n",
    "\n",
    "2. **`logger2 (module2)`** ka level `WARNING` hai, toh bas **WARNING aur uske upar (ERROR, CRITICAL)** wale messages print honge.  \n",
    "   ✅ `\"This is a Warning Message\"` — Warning level ka hai, toh print ho raha hai.  \n",
    "   ✅ `\"This is a error message\"` — Error bhi warning se upar hai, toh ye bhi print ho raha hai.  \n",
    "\n",
    "Agar koi aur `INFO` level ka message hota `module2` me, toh wo **print nahi hota**, kyunki `logger2` ka level `WARNING` hai. 🚀"
   ]
  },
  {
   "cell_type": "code",
   "execution_count": null,
   "metadata": {},
   "outputs": [],
   "source": []
  }
 ],
 "metadata": {
  "kernelspec": {
   "display_name": "Python 3",
   "language": "python",
   "name": "python3"
  },
  "language_info": {
   "codemirror_mode": {
    "name": "ipython",
    "version": 3
   },
   "file_extension": ".py",
   "mimetype": "text/x-python",
   "name": "python",
   "nbconvert_exporter": "python",
   "pygments_lexer": "ipython3",
   "version": "3.12.7"
  }
 },
 "nbformat": 4,
 "nbformat_minor": 2
}
