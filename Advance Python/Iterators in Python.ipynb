{
 "cells": [
  {
   "cell_type": "markdown",
   "metadata": {},
   "source": [
    "### Iterators in Python\n",
    "\n",
    "Iterators are advanced Python Concepts that allows for efficient looping and memory managemnet. Iterators provide a way to access elements of a collection sequentiallywithout exposing the underlying structure"
   ]
  },
  {
   "cell_type": "code",
   "execution_count": 4,
   "metadata": {},
   "outputs": [
    {
     "name": "stdout",
     "output_type": "stream",
     "text": [
      "<list_iterator object at 0x000001922AB1E590>\n",
      "<class 'list_iterator'>\n"
     ]
    }
   ],
   "source": [
    "my_list = [1,2,3,4,5,6]\n",
    "\n",
    "iterator = iter(my_list)\n",
    "print(iterator)\n",
    "print(type(iterator))"
   ]
  },
  {
   "cell_type": "code",
   "execution_count": 18,
   "metadata": {},
   "outputs": [],
   "source": [
    "iterator = iter(my_list)"
   ]
  },
  {
   "cell_type": "code",
   "execution_count": 29,
   "metadata": {},
   "outputs": [
    {
     "name": "stdout",
     "output_type": "stream",
     "text": [
      "Invalid further Elements\n"
     ]
    }
   ],
   "source": [
    "\n",
    "try :\n",
    "    print(next(iterator))\n",
    "\n",
    "except StopIteration:\n",
    "    print(\"Invalid further Elements\")"
   ]
  },
  {
   "cell_type": "markdown",
   "metadata": {},
   "source": [
    "### Generators in Python\n",
    "\n",
    "Generators are a simpler way to create an Iterators. They use the yield keyword to producea series of values lazily, which means they generate values on the fly and do not store the memory"
   ]
  },
  {
   "cell_type": "code",
   "execution_count": 30,
   "metadata": {},
   "outputs": [],
   "source": [
    "def square(n):\n",
    "    for i in range(3):\n",
    "        yield i**2\n",
    "        "
   ]
  },
  {
   "cell_type": "code",
   "execution_count": 31,
   "metadata": {},
   "outputs": [
    {
     "data": {
      "text/plain": [
       "<generator object square at 0x000001922B164E10>"
      ]
     },
     "execution_count": 31,
     "metadata": {},
     "output_type": "execute_result"
    }
   ],
   "source": [
    "square(3)"
   ]
  },
  {
   "cell_type": "code",
   "execution_count": 33,
   "metadata": {},
   "outputs": [
    {
     "name": "stdout",
     "output_type": "stream",
     "text": [
      "0\n",
      "1\n",
      "4\n"
     ]
    }
   ],
   "source": [
    "for i in square(3):\n",
    "    print(i)"
   ]
  },
  {
   "cell_type": "markdown",
   "metadata": {},
   "source": [
    "Haan, bilkul! Aap bilkul sahi samajh rahe ho. Main aapke point ko thoda aur clear kar deta hoon:\n",
    "\n",
    "### **`for` loop**:\n",
    "- Jab aap **normal `for` loop** (jaise `for i in range(3)`) likhte ho, toh **poora sequence (0, 1, 2)** ek saath generate hota hai aur **memory me load ho jata hai**. Phir **`for` loop** un values ko ek saath process karta hai.\n",
    "- Example me jab aap **`for i in range(3)`** likhte ho, toh **range(3)** 0, 1, 2 ko **ek saath** generate kar leta hai.\n",
    "\n",
    "### **Generator Function (`yield`)**:\n",
    "- Jab aap **generator function** (like `square(3)`) likhte ho, toh **`yield`** **ek ek value** step-by-step generate karta hai. Matlab, **`yield`** har time ek value return karta hai aur **next time jab zarurat hoti hai** tab wo next value generate hoti hai.\n",
    "- **Generator** ko **consume karne ke liye `for` loop** use kiya jata hai, lekin **`for` loop generator ke values ko ek ek karke consume karta hai**.\n",
    "  \n",
    "Toh jab aap **`for i in square(3)`** likhte ho, toh:\n",
    "- **Generator function (`yield`)** values ko **step-by-step return karta hai**, ek time pe ek hi value generate hoti hai.\n",
    "- Jab **`yield`** call hota hai, function execution temporarily suspend ho jata hai aur jab next value ki zarurat hoti hai, tab function dobara execute hota hai.\n",
    "\n",
    "### **Comparison:**\n",
    "- **`for` loop (static sequence)**: Sabhi values ek saath generate hoti hain aur process hoti hain (like `range(3)` ka output: [0, 1, 2]).\n",
    "- **Generator function (`yield`)**: Values **step-by-step generate** hoti hain, aur **memory efficiently use hoti hai** kyunki ek time par ek hi value generate hoti hai.\n",
    "\n",
    "### **In simple words:**\n",
    "- **`for i in range(3)`** me **poora sequence** (0, 1, 2) ek saath ready hota hai aur loop usse process karta hai.\n",
    "- **`for i in square(3)`** me **generator ek ek value** return karta hai jab zarurat hoti hai, aur **memory efficient** hai, kyunki saari values ek saath memory me load nahi hoti.\n",
    "\n",
    "I hope ab aapko **`yield`** aur **normal `for` loop** ka difference samajh mein aa gaya hoga!"
   ]
  },
  {
   "cell_type": "markdown",
   "metadata": {},
   "source": [
    "### Decorators\n",
    "\n",
    "Decorators are a powerful and flexible feature in python that allows you to modify the behaviour of a function or class method. They are commonlyused to add functionality to functions or methodswithout modifying their actual code.\n"
   ]
  },
  {
   "cell_type": "code",
   "execution_count": 11,
   "metadata": {},
   "outputs": [
    {
     "data": {
      "text/plain": [
       "'Welcome to Advanced Python Course'"
      ]
     },
     "execution_count": 11,
     "metadata": {},
     "output_type": "execute_result"
    }
   ],
   "source": [
    "## function copy\n",
    "\n",
    "\n",
    "def welcome():\n",
    "    return \"Welcome to Advanced Python Course\"\n",
    "\n",
    "welcome()"
   ]
  },
  {
   "cell_type": "code",
   "execution_count": 2,
   "metadata": {},
   "outputs": [
    {
     "data": {
      "text/plain": [
       "'Welcome to Advanced Python Course'"
      ]
     },
     "execution_count": 2,
     "metadata": {},
     "output_type": "execute_result"
    }
   ],
   "source": [
    "wel = welcome\n",
    "wel()"
   ]
  },
  {
   "cell_type": "code",
   "execution_count": 10,
   "metadata": {},
   "outputs": [
    {
     "data": {
      "text/plain": [
       "'Welcome to Advanced Python Course'"
      ]
     },
     "execution_count": 10,
     "metadata": {},
     "output_type": "execute_result"
    }
   ],
   "source": [
    "wel ()"
   ]
  },
  {
   "cell_type": "code",
   "execution_count": 13,
   "metadata": {},
   "outputs": [],
   "source": [
    "### closures function\n",
    "\n",
    "def main_welcome():\n",
    "    message = \"Welcome\"\n",
    "    def sub_welcome():\n",
    "        print(\"Hello!\")\n",
    "\n",
    "        print(\"This is me Pranav!\")\n",
    "\n",
    "    return sub_welcome()"
   ]
  },
  {
   "cell_type": "code",
   "execution_count": 14,
   "metadata": {},
   "outputs": [
    {
     "name": "stdout",
     "output_type": "stream",
     "text": [
      "Hello!\n",
      "This is me Pranav!\n"
     ]
    }
   ],
   "source": [
    "main_welcome()"
   ]
  },
  {
   "cell_type": "code",
   "execution_count": 15,
   "metadata": {},
   "outputs": [],
   "source": [
    "def main_welcome(func):\n",
    "    def sub_welcome():\n",
    "        print(\"Hello!\")\n",
    "        func()\n",
    "        print(\"This is me Pranav!\")\n",
    "\n",
    "    return sub_welcome()"
   ]
  },
  {
   "cell_type": "code",
   "execution_count": 16,
   "metadata": {},
   "outputs": [
    {
     "name": "stdout",
     "output_type": "stream",
     "text": [
      "Hello!\n",
      "Go To Hell\n",
      "This is me Pranav!\n"
     ]
    }
   ],
   "source": [
    "@main_welcome\n",
    "def course_introduction():\n",
    "    print(\"Go To Hell\")\n",
    "\n",
    "\n"
   ]
  },
  {
   "cell_type": "code",
   "execution_count": null,
   "metadata": {},
   "outputs": [],
   "source": []
  }
 ],
 "metadata": {
  "kernelspec": {
   "display_name": "venv",
   "language": "python",
   "name": "python3"
  },
  "language_info": {
   "codemirror_mode": {
    "name": "ipython",
    "version": 3
   },
   "file_extension": ".py",
   "mimetype": "text/x-python",
   "name": "python",
   "nbconvert_exporter": "python",
   "pygments_lexer": "ipython3",
   "version": "3.12.0"
  }
 },
 "nbformat": 4,
 "nbformat_minor": 2
}
