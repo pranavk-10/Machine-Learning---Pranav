{
 "cells": [
  {
   "cell_type": "markdown",
   "metadata": {},
   "source": [
    "## Understanding Expectations\n",
    "\n",
    " Exception Handling allows you to handle errors gracefully and take corrective actions without stopping the flow of the program\n"
   ]
  },
  {
   "cell_type": "code",
   "execution_count": 1,
   "metadata": {},
   "outputs": [
    {
     "name": "stdout",
     "output_type": "stream",
     "text": [
      "The Variable Is Not Been Assigned\n"
     ]
    }
   ],
   "source": [
    "## Exception Handling\n",
    "\n",
    "try:\n",
    "    a=b \n",
    "except:\n",
    "    print(\"The Variable Is Not Been Assigned\")"
   ]
  },
  {
   "cell_type": "code",
   "execution_count": 4,
   "metadata": {},
   "outputs": [
    {
     "name": "stdout",
     "output_type": "stream",
     "text": [
      "Enter The Denominator Greater Than Zero:\n"
     ]
    }
   ],
   "source": [
    "try: \n",
    "    num = int(input(\"Enter The Required Number: \"))\n",
    "    result = 10/num\n",
    "except ValueError:\n",
    "    print(\"Enter a Valid Number\")\n",
    "except ZeroDivisionError:\n",
    "    print(\"Enter The Denominator Greater Than Zero:\")\n",
    "\n",
    "except Exception as ex:\n",
    "    print(ex)"
   ]
  },
  {
   "cell_type": "code",
   "execution_count": 5,
   "metadata": {},
   "outputs": [
    {
     "name": "stdout",
     "output_type": "stream",
     "text": [
      "The Required result is 0.10101010101010101\n"
     ]
    }
   ],
   "source": [
    "try: \n",
    "    num = int(input(\"Enter The Required Number: \"))\n",
    "    result = 10/num\n",
    "except ValueError:\n",
    "    print(\"Enter a Valid Number\")\n",
    "except ZeroDivisionError:\n",
    "    print(\"Enter The Denominator Greater Than Zero:\")\n",
    "\n",
    "except Exception as ex:\n",
    "    print(ex)\n",
    "\n",
    "else:\n",
    "    print(f\"The Required result is {result}\")"
   ]
  },
  {
   "cell_type": "code",
   "execution_count": 7,
   "metadata": {},
   "outputs": [
    {
     "name": "stdout",
     "output_type": "stream",
     "text": [
      "Enter The Denominator Greater Than Zero:\n",
      "Execution Completed\n"
     ]
    }
   ],
   "source": [
    "try: \n",
    "    num = int(input(\"Enter The Required Number: \"))\n",
    "    result = 10/num\n",
    "except ValueError:\n",
    "    print(\"Enter a Valid Number\")\n",
    "except ZeroDivisionError:\n",
    "    print(\"Enter The Denominator Greater Than Zero:\")\n",
    "\n",
    "except Exception as ex:\n",
    "    print(ex)\n",
    "\n",
    "else:\n",
    "    print(f\"The Required result is {result}\")\n",
    "\n",
    "finally:\n",
    "    print(\"Execution Completed\")"
   ]
  },
  {
   "cell_type": "code",
   "execution_count": null,
   "metadata": {},
   "outputs": [],
   "source": []
  }
 ],
 "metadata": {
  "kernelspec": {
   "display_name": "venv",
   "language": "python",
   "name": "python3"
  },
  "language_info": {
   "codemirror_mode": {
    "name": "ipython",
    "version": 3
   },
   "file_extension": ".py",
   "mimetype": "text/x-python",
   "name": "python",
   "nbconvert_exporter": "python",
   "pygments_lexer": "ipython3",
   "version": "3.12.0"
  }
 },
 "nbformat": 4,
 "nbformat_minor": 2
}
