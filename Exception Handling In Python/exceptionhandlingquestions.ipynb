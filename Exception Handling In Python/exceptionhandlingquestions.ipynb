{
 "cells": [
  {
   "cell_type": "markdown",
   "metadata": {},
   "source": [
    "# Module: Exception Handling Assignments\n",
    "## Lesson: Exception Handling with try, except, and finally\n",
    "### Assignment 1: Handling Division by Zero\n",
    "\n",
    "Write a function that takes two integers as input and returns their division. Use try, except, and finally blocks to handle division by zero and print an appropriate message.\n",
    "\n",
    "### Assignment 2: File Reading with Exception Handling\n",
    "\n",
    "Write a function that reads the contents of a file named `data.txt`. Use try, except, and finally blocks to handle file not found errors and ensure the file is properly closed.\n",
    "\n",
    "### Assignment 3: Handling Multiple Exceptions\n",
    "\n",
    "Write a function that takes a list of integers and returns their sum. Use try, except, and finally blocks to handle TypeError if a non-integer value is encountered and print an appropriate message.\n",
    "\n",
    "### Assignment 4: Exception Handling in User Input\n",
    "\n",
    "Write a function that prompts the user to enter an integer. Use try, except, and finally blocks to handle ValueError if the user enters a non-integer value and print an appropriate message.\n",
    "\n",
    "### Assignment 5: Exception Handling in Dictionary Access\n",
    "\n",
    "Write a function that takes a dictionary and a key as input and returns the value associated with the key. Use try, except, and finally blocks to handle KeyError if the key is not found in the dictionary and print an appropriate message.\n",
    "\n",
    "### Assignment 6: Nested Exception Handling\n",
    "\n",
    "Write a function that performs nested exception handling. It should first attempt to convert a string to an integer, and then attempt to divide by that integer. Use nested try, except, and finally blocks to handle ValueError and ZeroDivisionError and print appropriate messages.\n",
    "\n",
    "### Assignment 7: Exception Handling in List Operations\n",
    "\n",
    "Write a function that takes a list and an index as input and returns the element at the given index. Use try, except, and finally blocks to handle IndexError if the index is out of range and print an appropriate message.\n",
    "\n",
    "### Assignment 8: Exception Handling in Network Operations\n",
    "\n",
    "Write a function that attempts to open a URL and read its contents. Use try, except, and finally blocks to handle network-related errors and print an appropriate message.\n",
    "\n",
    "### Assignment 9: Exception Handling in JSON Parsing\n",
    "\n",
    "Write a function that attempts to parse a JSON string. Use try, except, and finally blocks to handle JSONDecodeError if the string is not a valid JSON and print an appropriate message.\n",
    "\n",
    "### Assignment 10: Custom Exception Handling\n",
    "\n",
    "Define a custom exception named `NegativeNumberError`. Write a function that raises this exception if a negative number is encountered in a list. Use try, except, and finally blocks to handle the custom exception and print an appropriate message.\n",
    "\n",
    "### Assignment 11: Exception Handling in Function Calls\n",
    "\n",
    "Write a function that calls another function which may raise an exception. Use try, except, and finally blocks to handle the exception and print an appropriate message.\n",
    "\n",
    "### Assignment 12: Exception Handling in Class Methods\n",
    "\n",
    "Define a class with a method that performs a division operation. Use try, except, and finally blocks within the method to handle division by zero and print an appropriate message.\n",
    "\n",
    "### Assignment 13: Exception Handling in Data Conversion\n",
    "\n",
    "Write a function that takes a list of strings and converts them to integers. Use try, except, and finally blocks to handle ValueError if a string cannot be converted and print an appropriate message.\n",
    "\n",
    "### Assignment 14: Exception Handling in List Comprehensions\n",
    "\n",
    "Write a function that uses a list comprehension to convert a list of strings to integers. Use try, except, and finally blocks within the list comprehension to handle ValueError and print an appropriate message.\n",
    "\n",
    "### Assignment 15: Exception Handling in File Writing\n",
    "\n",
    "Write a function that attempts to write a list of strings to a file. Use try, except, and finally blocks to handle IOError and ensure the file is properly closed."
   ]
  },
  {
   "cell_type": "code",
   "execution_count": 9,
   "metadata": {},
   "outputs": [
    {
     "name": "stdout",
     "output_type": "stream",
     "text": [
      "Enter Denominator as a non zero number or greater than zero:\n",
      "Execution Completed\n",
      "None\n"
     ]
    }
   ],
   "source": [
    "def zerodivisionerror(input1,input2):\n",
    "    try:\n",
    "        result = input1/input2\n",
    "    except ZeroDivisionError:\n",
    "        print(\"Enter Denominator as a non zero number or greater than zero:\")\n",
    "        result = None\n",
    "\n",
    "    finally:\n",
    "        print(\"Execution Completed\")\n",
    "    \n",
    "    return result\n",
    "\n",
    "print(zerodivisionerror(10,0))"
   ]
  },
  {
   "cell_type": "code",
   "execution_count": 13,
   "id": "411e83db",
   "metadata": {},
   "outputs": [
    {
     "name": "stdout",
     "output_type": "stream",
     "text": [
      "Lorem Ipsum is simply dummy text of the printing and typesetting industry. \n",
      "Lorem Ipsum has been the industry's standard dummy text ever since the 1500s, \n",
      "when an unknown printer took a galley of type and scrambled it to make a type specimen book.\n",
      "It has survived not only five centuries, but also the leap into electronic typesetting, \n",
      "remaining essentially unchanged. It was popularised in the 1960s with the release of \n",
      "Letraset sheets containing Lorem Ipsum passages, \n",
      "and more recently with desktop publishing software like\n",
      "Aldus PageMaker including versions of Lorem Ipsum\n"
     ]
    }
   ],
   "source": [
    "def file_read_close (filename):\n",
    "    try:\n",
    "        file = open(filename,'r')\n",
    "        content = file.read()\n",
    "        print(content)\n",
    "    \n",
    "    except FileNotFoundError:\n",
    "        print(\"Sorry there is no Such File or Directory:\")\n",
    "\n",
    "    finally:\n",
    "        try:\n",
    "            file.close()\n",
    "        except NameError:\n",
    "            pass\n",
    "\n",
    "file_read_close('data.txt')"
   ]
  },
  {
   "cell_type": "code",
   "execution_count": 22,
   "id": "58a1f686",
   "metadata": {},
   "outputs": [
    {
     "name": "stdout",
     "output_type": "stream",
     "text": [
      "Execution conmpleted\n",
      "15\n"
     ]
    }
   ],
   "source": [
    "listz = [1,2,3,4,5]\n",
    "\n",
    "def list_sum (listz):\n",
    "    sum = 0\n",
    "    try:\n",
    "        for i in listz:\n",
    "            sum = sum +i\n",
    "    except TypeError as t:\n",
    "        print(f\"Error: {t}\")\n",
    "        return None\n",
    "\n",
    "    except Exception:\n",
    "        print(\"Execution Error:\")\n",
    "\n",
    "    finally:\n",
    "        print(\"Execution conmpleted\")\n",
    "    return sum\n",
    "\n",
    "print(list_sum(listz))\n"
   ]
  },
  {
   "cell_type": "code",
   "execution_count": 27,
   "id": "b1c84306",
   "metadata": {},
   "outputs": [
    {
     "name": "stdout",
     "output_type": "stream",
     "text": [
      "Error: invalid literal for int() with base 10: 'krsih'\n",
      "Execution Complete:\n",
      "None\n"
     ]
    }
   ],
   "source": [
    "def user_input ():\n",
    "    try:\n",
    "        result = int((input(\"Enter the Number: \")))\n",
    "    \n",
    "    except ValueError as e:\n",
    "        print(f\"Error: {e}\")\n",
    "        return None\n",
    "    \n",
    "    finally:\n",
    "        print(\"Execution Complete:\")\n",
    "\n",
    "    return result\n",
    "\n",
    "print(user_input())"
   ]
  },
  {
   "cell_type": "code",
   "execution_count": 33,
   "id": "29e44e74",
   "metadata": {},
   "outputs": [
    {
     "name": "stdout",
     "output_type": "stream",
     "text": [
      "Execution Completed\n",
      "Pranav\n",
      "Not a Valid key:  'x'\n",
      "Execution Completed\n",
      "None\n"
     ]
    }
   ],
   "source": [
    "dictonary = {\n",
    "    'Name :': 'Pranav',\n",
    "    'Age: ': 19,\n",
    "    \"State : \": 'Maharashtra'\n",
    "}\n",
    "def Keyerror_ (dictonary,key):\n",
    "    try:\n",
    "        value = dictonary[key]\n",
    "    except KeyError as e:\n",
    "        print(\"Not a Valid key: \",e)\n",
    "        return None\n",
    "    finally:\n",
    "        print(\"Execution Completed\")\n",
    "    return value\n",
    "\n",
    "print(Keyerror_(dictonary,'Name :'))\n",
    "print(Keyerror_(dictonary,'x'))\n",
    "\n",
    "\n",
    "\n",
    "\n",
    "        "
   ]
  },
  {
   "cell_type": "code",
   "execution_count": 36,
   "id": "94a291b7",
   "metadata": {},
   "outputs": [
    {
     "name": "stdout",
     "output_type": "stream",
     "text": [
      "Execution Completed\n",
      "1.1111111111111112\n"
     ]
    }
   ],
   "source": [
    "def conversion():\n",
    "    try: \n",
    "         value = str(input(\"Enter The Value: \"))\n",
    "         interger = int(value)\n",
    "         result = 100/interger\n",
    "    \n",
    "    except ValueError:\n",
    "        print(\"Invalid Value:\")\n",
    "        return None\n",
    "\n",
    "    except ZeroDivisionError:\n",
    "        print(\"Non Divisble as Denominator is Zero:\")\n",
    "        return None\n",
    "    \n",
    "    finally:\n",
    "        print(\"Execution Completed\")\n",
    "    return result\n",
    "\n",
    "print(conversion())\n",
    "\n",
    "\n"
   ]
  },
  {
   "cell_type": "code",
   "execution_count": 39,
   "id": "9f96c850",
   "metadata": {},
   "outputs": [
    {
     "name": "stdout",
     "output_type": "stream",
     "text": [
      "Execution Completed\n",
      "4\n",
      "Error: list index out of range\n",
      "Execution Completed\n",
      "None\n"
     ]
    }
   ],
   "source": [
    "lst = [1,2,3,4,5,6]\n",
    "def index(lst,index):\n",
    "    try:\n",
    "        value = lst[index]\n",
    "\n",
    "    except IndexError as e:\n",
    "        print(f\"Error: {e}\")\n",
    "        value = None\n",
    "\n",
    "    finally:\n",
    "        print(\"Execution Completed\")\n",
    "    return value\n",
    "\n",
    "print(index(lst,3))\n",
    "print(index(lst,10))\n"
   ]
  },
  {
   "cell_type": "code",
   "execution_count": 40,
   "id": "75404576",
   "metadata": {},
   "outputs": [
    {
     "name": "stdout",
     "output_type": "stream",
     "text": [
      "Error: invalid literal for int() with base 10: 'three'\n",
      "Execution complete.\n",
      "None\n",
      "Execution complete.\n",
      "[1, 2, 3, 4]\n"
     ]
    }
   ],
   "source": [
    "def convert_to_integers(lst):\n",
    "    integers = []\n",
    "    try:\n",
    "        for item in lst:\n",
    "            integers.append(int(item))\n",
    "    except ValueError as e:\n",
    "        print(f\"Error: {e}\")\n",
    "        integers = None\n",
    "    finally:\n",
    "        print(\"Execution complete.\")\n",
    "    return integers\n",
    "\n",
    "# Test\n",
    "print(convert_to_integers(['1', '2', 'three', '4']))  # None\n",
    "print(convert_to_integers(['1', '2', '3', '4']))  # [1, 2, 3, 4]"
   ]
  },
  {
   "cell_type": "code",
   "execution_count": 41,
   "id": "c8108ea8",
   "metadata": {},
   "outputs": [
    {
     "name": "stdout",
     "output_type": "stream",
     "text": [
      "Error: invalid literal for int() with base 10: 'three'\n",
      "Execution complete.\n",
      "None\n",
      "Execution complete.\n",
      "[1, 2, 3, 4]\n"
     ]
    }
   ],
   "source": [
    "def convert_with_comprehension(lst):\n",
    "    try:\n",
    "        integers = [int(item) for item in lst]\n",
    "    except ValueError as e:\n",
    "        print(f\"Error: {e}\")\n",
    "        integers = None\n",
    "    finally:\n",
    "        print(\"Execution complete.\")\n",
    "    return integers\n",
    "\n",
    "# Test\n",
    "print(convert_with_comprehension(['1', '2', 'three', '4']))  # None\n",
    "print(convert_with_comprehension(['1', '2', '3', '4']))  # [1, 2, 3, 4]"
   ]
  },
  {
   "cell_type": "code",
   "execution_count": null,
   "id": "634a94d2",
   "metadata": {},
   "outputs": [],
   "source": []
  }
 ],
 "metadata": {
  "kernelspec": {
   "display_name": "venv",
   "language": "python",
   "name": "python3"
  },
  "language_info": {
   "codemirror_mode": {
    "name": "ipython",
    "version": 3
   },
   "file_extension": ".py",
   "mimetype": "text/x-python",
   "name": "python",
   "nbconvert_exporter": "python",
   "pygments_lexer": "ipython3",
   "version": "3.12.0"
  }
 },
 "nbformat": 4,
 "nbformat_minor": 5
}
