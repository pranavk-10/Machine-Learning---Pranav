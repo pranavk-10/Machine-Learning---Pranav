{
 "cells": [
  {
   "cell_type": "markdown",
   "metadata": {},
   "source": [
    "Program is asequence of instructions written in a programming language\n",
    "\n",
    "A process is simply an instance of a program that is being executed\n",
    "\n",
    "\n",
    "code segment \n",
    "data segment \n",
    "heap\n",
    "stack and registers\n",
    "\n",
    "\n",
    "sepearate memory space -\n",
    "one process cannot corrupt another process\n",
    "\n",
    "Increaseed execution time to switch between processes"
   ]
  },
  {
   "cell_type": "markdown",
   "metadata": {},
   "source": [
    "### Thread\n",
    "\n",
    "A thread is aunit of execution within a process\n",
    "\n",
    "single thread wil have its own stackk and register but will share data and code segment with program/process"
   ]
  },
  {
   "cell_type": "markdown",
   "metadata": {},
   "source": []
  }
 ],
 "metadata": {
  "kernelspec": {
   "display_name": "Python 3",
   "language": "python",
   "name": "python3"
  },
  "language_info": {
   "name": "python",
   "version": "3.12.7"
  }
 },
 "nbformat": 4,
 "nbformat_minor": 2
}
