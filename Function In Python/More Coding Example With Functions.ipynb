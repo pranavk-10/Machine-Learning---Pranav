{
 "cells": [
  {
   "cell_type": "code",
   "execution_count": 1,
   "metadata": {},
   "outputs": [
    {
     "name": "stdout",
     "output_type": "stream",
     "text": [
      "the conversion of 32 into farenhit = 89.6\n",
      "the conversion of 108 into farenhit = 42.22222222222222\n"
     ]
    }
   ],
   "source": [
    "def temp_conv (degree,farhenit):\n",
    "    conv_far = (degree*9/5) + 32\n",
    "    conv_degree = (farhenit-32) * 5/9\n",
    "\n",
    "    print(f\"the conversion of {degree} into farenhit = {conv_far}\")\n",
    "    print(f\"the conversion of {farhenit} into farenhit = {conv_degree}\")\n",
    "\n",
    "temp_conv(32,108)"
   ]
  },
  {
   "cell_type": "code",
   "execution_count": 3,
   "metadata": {},
   "outputs": [
    {
     "name": "stdout",
     "output_type": "stream",
     "text": [
      "True\n",
      "False\n"
     ]
    }
   ],
   "source": [
    "def is_strong_password(password):\n",
    "    if (len(password))<8:\n",
    "        return False\n",
    "    if not any(char.isdigit() for char in password):\n",
    "        return False\n",
    "    if not any(char.islower() for char in password):\n",
    "        return False\n",
    "    if not any(char.isupper() for char in password):\n",
    "        return False\n",
    "    if not any(char in '+-_!@#$%^&*()' for char in password):\n",
    "        return False\n",
    "    return True\n",
    "\n",
    "print(is_strong_password('Nowayhome@10'))\n",
    "print(is_strong_password('Nowayhome '))"
   ]
  },
  {
   "cell_type": "code",
   "execution_count": 7,
   "metadata": {},
   "outputs": [
    {
     "name": "stdout",
     "output_type": "stream",
     "text": [
      "The total cost of the items in cart is: 162\n"
     ]
    }
   ],
   "source": [
    "def total_cost(cart):\n",
    "    total = 0\n",
    "    for item in cart:\n",
    "        total += item['Price']*item['Quantity']\n",
    "    return total\n",
    "\n",
    "\n",
    "\n",
    "cart = [\n",
    "    {'name':'Apple','Price':5,\"Quantity\":12},\n",
    "    {'name':'Mango','Price':7,\"Quantity\":6},\n",
    "    {'name':'Orange','Price':6,\"Quantity\":10}\n",
    "]\n",
    "\n",
    "calculated = (total_cost(cart))\n",
    "print('The total cost of the items in cart is:', calculated)"
   ]
  },
  {
   "cell_type": "code",
   "execution_count": 13,
   "metadata": {},
   "outputs": [
    {
     "name": "stdout",
     "output_type": "stream",
     "text": [
      "Yes it is a palindrome\n"
     ]
    }
   ],
   "source": [
    "def is_palindrome (palindrome):\n",
    "        if palindrome == palindrome[::-1]:\n",
    "            print(\"Yes it is a palindrome\")\n",
    "        else:\n",
    "            print(\"It is not a Palindrome\")\n",
    "\n",
    "\n",
    "is_palindrome(\"nitin\")"
   ]
  },
  {
   "cell_type": "code",
   "execution_count": 16,
   "metadata": {},
   "outputs": [
    {
     "name": "stdout",
     "output_type": "stream",
     "text": [
      "3628800\n"
     ]
    }
   ],
   "source": [
    "def factorial(n):\n",
    "    if n==0:\n",
    "        return 1\n",
    "    else:\n",
    "        return n* factorial(n-1)\n",
    "    \n",
    "print(factorial(10))"
   ]
  },
  {
   "cell_type": "code",
   "execution_count": 17,
   "metadata": {},
   "outputs": [
    {
     "name": "stdout",
     "output_type": "stream",
     "text": [
      "{'hello': 1, 'my': 1, 'name': 1, 'is': 1, 'pranav': 1, 'i': 2, 'am': 2, 'a': 1, 'second': 1, 'year': 1, 'student': 1, 'learning': 2, 'machine': 1}\n"
     ]
    }
   ],
   "source": [
    "def count_word_frequency(file_path):\n",
    "    word_count={}\n",
    "    with open (file_path,'r') as file:\n",
    "        for line in file:\n",
    "            words = line.split()\n",
    "            for word in words:\n",
    "                word = word.lower().strip('.,!?;:\"\\'')\n",
    "                word_count[word]=word_count.get(word,0)+1\n",
    "    \n",
    "    return word_count\n",
    "\n",
    "filepath = 'sample.txt'\n",
    "word_frequency = count_word_frequency(filepath)\n",
    "print(word_frequency)\n"
   ]
  },
  {
   "cell_type": "markdown",
   "metadata": {},
   "source": [
    "Sure! Let's break it down into simple steps, just like a story for a 5-year-old.\n",
    "\n",
    "---\n",
    "\n",
    "### **The Function: `count_word_frequency`**\n",
    "1. **`def count_word_frequency(file_path):`**\n",
    "   - We're teaching the computer a new trick called a \"function.\" This trick is named `count_word_frequency`. It will count how many times each word appears in a file.\n",
    "   - The file's name or path (like \"where to find it\") will be given as `file_path`.\n",
    "\n",
    "---\n",
    "\n",
    "### **Step 1: Create an Empty Box**\n",
    "2. **`word_count = {}`**\n",
    "   - Imagine an empty box (`word_count`) where we will keep track of the word counts.\n",
    "   - Each word will be a key, and how many times it shows up will be the value.\n",
    "\n",
    "---\n",
    "\n",
    "### **Step 2: Open the File**\n",
    "3. **`with open(file_path, 'r') as file:`**\n",
    "   - We open the file whose name is given by `file_path`.\n",
    "   - The `'r'` means we just want to read the file.\n",
    "   - The computer now knows the file as `file`.\n",
    "\n",
    "---\n",
    "\n",
    "### **Step 3: Read Each Line**\n",
    "4. **`for line in file:`**\n",
    "   - Think of a file as a notebook with many lines.\n",
    "   - We tell the computer to look at one line at a time.\n",
    "\n",
    "---\n",
    "\n",
    "### **Step 4: Split Line into Words**\n",
    "5. **`words = line.split()`**\n",
    "   - Each line is like a sentence, and it has many words.\n",
    "   - The `.split()` breaks the line into a list of words, cutting them apart wherever there’s a space.\n",
    "\n",
    "---\n",
    "\n",
    "### **Step 5: Check Each Word**\n",
    "6. **`for word in words:`**\n",
    "   - Now the computer looks at each word one by one from the list.\n",
    "\n",
    "---\n",
    "\n",
    "### **Step 6: Clean the Word**\n",
    "7. **`word = word.lower().strip('.,!?;:\"\\'')`**\n",
    "   - The computer makes the word all lowercase (e.g., \"Hello\" becomes \"hello\").\n",
    "   - It also cleans off extra stuff like commas, periods, or exclamation marks so only the word is left.\n",
    "\n",
    "---\n",
    "\n",
    "### **Step 7: Count the Word**\n",
    "8. **`word_count[word] = word_count.get(word, 0) + 1`**\n",
    "   - The computer checks if the word is already in the box (`word_count`).\n",
    "   - If it is, it adds 1 to its count.\n",
    "   - If it isn’t, it starts the count at 0 and then adds 1.\n",
    "\n",
    "---\n",
    "\n",
    "### **Step 8: Done Reading**\n",
    "9. **`return word_count`**\n",
    "   - After looking at all the lines and words in the file, the computer gives us the box (`word_count`) with all the words and their counts.\n",
    "\n",
    "---\n",
    "\n",
    "### **Calling the Function**\n",
    "10. **`filepath = 'sample.txt'`**\n",
    "    - We tell the computer the file's name is `'sample.txt'`.\n",
    "\n",
    "11. **`word_frequency = count_word_frequency(filepath)`**\n",
    "    - We ask the computer to use its new trick (`count_word_frequency`) to count the words in the file.\n",
    "\n",
    "12. **`print(word_frequency)`**\n",
    "    - Finally, we tell the computer to show us the results (what’s in the box).\n",
    "\n",
    "---\n",
    "\n",
    "It’s like asking the computer to read a storybook (the file) and tell us how many times each word appears in it!\n"
   ]
  },
  {
   "cell_type": "code",
   "execution_count": null,
   "metadata": {},
   "outputs": [],
   "source": []
  },
  {
   "cell_type": "code",
   "execution_count": null,
   "metadata": {},
   "outputs": [],
   "source": []
  },
  {
   "cell_type": "code",
   "execution_count": null,
   "metadata": {},
   "outputs": [],
   "source": []
  }
 ],
 "metadata": {
  "kernelspec": {
   "display_name": "venv",
   "language": "python",
   "name": "python3"
  },
  "language_info": {
   "codemirror_mode": {
    "name": "ipython",
    "version": 3
   },
   "file_extension": ".py",
   "mimetype": "text/x-python",
   "name": "python",
   "nbconvert_exporter": "python",
   "pygments_lexer": "ipython3",
   "version": "3.12.0"
  }
 },
 "nbformat": 4,
 "nbformat_minor": 2
}
