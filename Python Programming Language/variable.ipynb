{
 "cells": [
  {
   "cell_type": "code",
   "execution_count": 2,
   "metadata": {},
   "outputs": [],
   "source": [
    "## Variables"
   ]
  },
  {
   "cell_type": "code",
   "execution_count": 3,
   "metadata": {},
   "outputs": [
    {
     "name": "stdout",
     "output_type": "stream",
     "text": [
      "Age:  19\n",
      "Height:  5.1\n",
      "Name:  Pranav\n",
      "Is Student:  True\n"
     ]
    }
   ],
   "source": [
    "#declaring and Assigning variables\n",
    "age = 19\n",
    "height = 5.10\n",
    "name = \"Pranav\"\n",
    "is_student = True\n",
    "\n",
    "print(\"Age: \", age)\n",
    "print(\"Height: \",height)\n",
    "print(\"Name: \",name)\n",
    "print(\"Is Student: \",is_student)\n"
   ]
  },
  {
   "cell_type": "code",
   "execution_count": 4,
   "metadata": {},
   "outputs": [],
   "source": [
    "#naming conventions\n",
    "#should be descriptive\n",
    "#should always start with a letter or underscore\n",
    "#can contain letters underscore and number\n",
    "#names are definitly case sensitive.\n",
    "\n"
   ]
  },
  {
   "cell_type": "code",
   "execution_count": 5,
   "metadata": {},
   "outputs": [],
   "source": [
    "#varaible types\n",
    "#python is dynamically typed, type of variavle is determined at runtime\n",
    "age = 32 #int\n",
    "height = 3.1 #float\n"
   ]
  },
  {
   "cell_type": "code",
   "execution_count": 6,
   "metadata": {},
   "outputs": [
    {
     "name": "stdout",
     "output_type": "stream",
     "text": [
      "<class 'int'>\n"
     ]
    }
   ],
   "source": [
    "#type checking and conversion\n",
    "print(type(age))"
   ]
  },
  {
   "cell_type": "code",
   "execution_count": 8,
   "metadata": {},
   "outputs": [
    {
     "name": "stdout",
     "output_type": "stream",
     "text": [
      "addition = 25.0\n",
      "Subtraction = 5.0\n",
      "Multiplication = 150.0\n",
      "Division = 1.5\n"
     ]
    }
   ],
   "source": [
    "#calculator\n",
    "num1 = float(input(\"Enter no 1:\"))\n",
    "num2 = float(input(\"Enter no 2:\"))\n",
    "\n",
    "sum = num1+num2\n",
    "diff = num1-num2\n",
    "mul=num1*num2\n",
    "div = num1/num2\n",
    "\n",
    "print(\"addition =\", sum)\n",
    "print(\"Subtraction =\", diff)\n",
    "print(\"Multiplication =\", mul)\n",
    "print(\"Division =\", div)\n"
   ]
  },
  {
   "cell_type": "code",
   "execution_count": null,
   "metadata": {},
   "outputs": [],
   "source": [
    "\n"
   ]
  }
 ],
 "metadata": {
  "kernelspec": {
   "display_name": "venv",
   "language": "python",
   "name": "python3"
  },
  "language_info": {
   "codemirror_mode": {
    "name": "ipython",
    "version": 3
   },
   "file_extension": ".py",
   "mimetype": "text/x-python",
   "name": "python",
   "nbconvert_exporter": "python",
   "pygments_lexer": "ipython3",
   "version": "3.12.0"
  }
 },
 "nbformat": 4,
 "nbformat_minor": 2
}
