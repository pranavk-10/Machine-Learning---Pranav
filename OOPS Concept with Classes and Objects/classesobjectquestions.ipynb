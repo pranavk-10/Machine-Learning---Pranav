{
 "cells": [
  {
   "cell_type": "markdown",
   "metadata": {},
   "source": [
    "# Module: Classes and Objects Assignments\n",
    "## Lesson: Creating and Working with Classes and Objects\n",
    "### Assignment 1: Basic Class and Object Creation\n",
    "\n",
    "Create a class named `Car` with attributes `make`, `model`, and `year`. Create an object of the class and print its attributes.\n",
    "\n",
    "### Assignment 2: Methods in Class\n",
    "\n",
    "Add a method named `start_engine` to the `Car` class that prints a message when the engine starts. Create an object of the class and call the method.\n",
    "\n",
    "### Assignment 3: Class with Constructor\n",
    "\n",
    "Create a class named `Student` with attributes `name` and `age`. Use a constructor to initialize these attributes. Create an object of the class and print its attributes.\n",
    "\n",
    "### Assignment 4: Class with Private Attributes\n",
    "\n",
    "Create a class named `BankAccount` with private attributes `account_number` and `balance`. Add methods to deposit and withdraw money, and to check the balance. Create an object of the class and perform some operations.\n",
    "\n",
    "### Assignment 5: Class Inheritance\n",
    "\n",
    "Create a base class named `Person` with attributes `name` and `age`. Create a derived class named `Employee` that inherits from `Person` and adds an attribute `employee_id`. Create an object of the derived class and print its attributes.\n",
    "\n",
    "### Assignment 6: Method Overriding\n",
    "\n",
    "In the `Employee` class, override the `__str__` method to return a string representation of the object. Create an object of the class and print it.\n",
    "\n",
    "### Assignment 7: Class Composition\n",
    "\n",
    "Create a class named `Address` with attributes `street`, `city`, and `zipcode`. Create a class named `Person` that has an `Address` object as an attribute. Create an object of the `Person` class and print its address.\n",
    "\n",
    "### Assignment 8: Class with Class Variables\n",
    "\n",
    "Create a class named `Counter` with a class variable `count`. Each time an object is created, increment the count. Add a method to get the current count. Create multiple objects and print the count.\n",
    "\n",
    "### Assignment 9: Static Methods\n",
    "\n",
    "Create a class named `MathOperations` with a static method to calculate the square root of a number. Call the static method without creating an object.\n",
    "\n",
    "### Assignment 10: Class with Properties\n",
    "\n",
    "Create a class named `Rectangle` with private attributes `length` and `width`. Use properties to get and set these attributes. Create an object of the class and test the properties.\n",
    "\n",
    "### Assignment 11: Abstract Base Class\n",
    "\n",
    "Create an abstract base class named `Shape` with an abstract method `area`. Create derived classes `Circle` and `Square` that implement the `area` method. Create objects of the derived classes and call the `area` method.\n",
    "\n",
    "### Assignment 12: Operator Overloading\n",
    "\n",
    "Create a class named `Vector` with attributes `x` and `y`. Overload the `+` operator to add two `Vector` objects. Create objects of the class and test the operator overloading.\n",
    "\n",
    "### Assignment 13: Class with Custom Exception\n",
    "\n",
    "Create a custom exception named `InsufficientBalanceError`. In the `BankAccount` class, raise this exception when a withdrawal amount is greater than the balance. Handle the exception and print an appropriate message.\n",
    "\n",
    "### Assignment 14: Class with Context Manager\n",
    "\n",
    "Create a class named `FileManager` that implements the context manager protocol to open and close a file. Use this class to read the contents of a file.\n",
    "\n",
    "### Assignment 15: Chaining Methods\n",
    "\n",
    "Create a class named `Calculator` with methods to add, subtract, multiply, and divide. Each method should return the object itself to allow method chaining. Create an object and chain multiple method calls."
   ]
  },
  {
   "cell_type": "code",
   "execution_count": 2,
   "metadata": {},
   "outputs": [
    {
     "name": "stdout",
     "output_type": "stream",
     "text": [
      "Toyota Ertiga 2020\n",
      "Nissan GTR 2016\n"
     ]
    }
   ],
   "source": [
    "class Car():\n",
    "    def __init__(self,make,model,year):\n",
    "        self.make = make\n",
    "        self.model = model\n",
    "        self.year = year\n",
    "\n",
    "car1 = Car(\"Toyota\",\"Ertiga\",2020)\n",
    "car2 = Car(\"Nissan\",\"GTR\",2016)\n",
    "\n",
    "print(car1.make,car1.model,car1.year)\n",
    "print(car2.make,car2.model,car2.year)"
   ]
  },
  {
   "cell_type": "code",
   "execution_count": 3,
   "id": "52bac5d1",
   "metadata": {},
   "outputs": [
    {
     "name": "stdout",
     "output_type": "stream",
     "text": [
      "Toyota Ertiga 2020\n",
      "Nissan GTR 2016\n",
      "Toyota:Ertiga is Staring: \n",
      "Nissan:GTR is Staring: \n"
     ]
    }
   ],
   "source": [
    "class Car():\n",
    "    def __init__(self,make,model,year):\n",
    "        self.make = make\n",
    "        self.model = model\n",
    "        self.year = year\n",
    "    \n",
    "    def start_engine(self):\n",
    "        print(f\"{self.make}:{self.model} is Staring: \")\n",
    "\n",
    "car1 = Car(\"Toyota\",\"Ertiga\",2020)\n",
    "car2 = Car(\"Nissan\",\"GTR\",2016)\n",
    "\n",
    "print(car1.make,car1.model,car1.year)\n",
    "print(car2.make,car2.model,car2.year)\n",
    "car1.start_engine()\n",
    "car2.start_engine()"
   ]
  },
  {
   "cell_type": "code",
   "execution_count": 4,
   "id": "d61126d0",
   "metadata": {},
   "outputs": [
    {
     "name": "stdout",
     "output_type": "stream",
     "text": [
      "Pranav 20\n",
      "Tanishka 20\n",
      "Aryaman 19\n"
     ]
    }
   ],
   "source": [
    "class Student():\n",
    "    def __init__(self,name,age):\n",
    "        self.name = name\n",
    "        self.age = age\n",
    "    \n",
    "\n",
    "stud1 = Student(\"Pranav\",20)\n",
    "stud2 = Student(\"Tanishka\",20)\n",
    "stud3 = Student(\"Aryaman\",19)\n",
    "\n",
    "print(stud1.name,stud1.age)\n",
    "print(stud2.name,stud2.age)\n",
    "print(stud3.name,stud3.age)"
   ]
  },
  {
   "cell_type": "code",
   "execution_count": 8,
   "id": "f88a45f0",
   "metadata": {},
   "outputs": [
    {
     "name": "stdout",
     "output_type": "stream",
     "text": [
      "Welcome Pranav\n",
      "3000 deposited successfully, The Bank Balance for 1510 No is : 13000\n",
      "5000 withdrawn successfully, The Bank Balance for 1510 No is : 8000\n",
      "The Bank Balance for 1510 No is : 8000\n"
     ]
    }
   ],
   "source": [
    "class BankAccount():\n",
    "    def __init__(self,name,account_number,balance = 0):\n",
    "        self.name = name\n",
    "        self.account_number = account_number\n",
    "        self.balance = balance\n",
    "        print(f\"Welcome {self.name}\")\n",
    "    \n",
    "    def deposit(self,amount):\n",
    "        self.balance += amount\n",
    "        print(f\"{amount} deposited successfully, The Bank Balance for {self.account_number} No is : {self.balance}\")\n",
    "\n",
    "    def withdraw (self,amount):\n",
    "        if amount>self.balance:\n",
    "            print(\"Insufficient Funds:\")\n",
    "        else:\n",
    "            self.balance -= amount\n",
    "            print(f\"{amount} withdrawn successfully, The Bank Balance for {self.account_number} No is : {self.balance}\")\n",
    "\n",
    "    def get_balance(self):\n",
    "        return print(f\"The Bank Balance for {self.account_number} No is : {self.balance}\")\n",
    "    \n",
    "acc1 = BankAccount(\"Pranav\",1510,10000)\n",
    "acc1.deposit(3000)\n",
    "acc1.withdraw(5000)\n",
    "acc1.get_balance()"
   ]
  },
  {
   "cell_type": "code",
   "execution_count": null,
   "id": "ff78c04b",
   "metadata": {},
   "outputs": [],
   "source": []
  }
 ],
 "metadata": {
  "kernelspec": {
   "display_name": "venv",
   "language": "python",
   "name": "python3"
  },
  "language_info": {
   "codemirror_mode": {
    "name": "ipython",
    "version": 3
   },
   "file_extension": ".py",
   "mimetype": "text/x-python",
   "name": "python",
   "nbconvert_exporter": "python",
   "pygments_lexer": "ipython3",
   "version": "3.12.0"
  }
 },
 "nbformat": 4,
 "nbformat_minor": 5
}
