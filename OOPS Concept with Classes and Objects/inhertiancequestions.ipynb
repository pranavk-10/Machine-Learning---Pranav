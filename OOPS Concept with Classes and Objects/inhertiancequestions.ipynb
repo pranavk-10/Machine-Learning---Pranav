{
 "cells": [
  {
   "cell_type": "markdown",
   "metadata": {},
   "source": [
    "# Module: Inheritance Assignments\n",
    "## Lesson: Single and Multiple Inheritance\n",
    "### Assignment 1: Single Inheritance Basic\n",
    "\n",
    "Create a base class named `Animal` with attributes `name` and `species`. Create a derived class named `Dog` that inherits from `Animal` and adds an attribute `breed`. Create an object of the `Dog` class and print its attributes.\n",
    "\n",
    "### Assignment 2: Method Overriding in Single Inheritance\n",
    "\n",
    "In the `Dog` class, override the `__str__` method to return a string representation of the object. Create an object of the class and print it.\n",
    "\n",
    "### Assignment 3: Single Inheritance with Additional Methods\n",
    "\n",
    "In the `Dog` class, add a method named `bark` that prints a barking sound. Create an object of the class and call the method.\n",
    "\n",
    "### Assignment 4: Multiple Inheritance Basic\n",
    "\n",
    "Create a base class named `Walker` with a method `walk` that prints a walking message. Create another base class named `Runner` with a method `run` that prints a running message. Create a derived class named `Athlete` that inherits from both `Walker` and `Runner`. Create an object of the `Athlete` class and call both methods.\n",
    "\n",
    "### Assignment 5: Method Resolution Order (MRO) in Multiple Inheritance\n",
    "\n",
    "In the `Athlete` class, override the `walk` method to print a different message. Create an object of the class and call the `walk` method. Use the `super()` function to call the `walk` method of the `Walker` class.\n",
    "\n",
    "### Assignment 6: Multiple Inheritance with Additional Attributes\n",
    "\n",
    "In the `Athlete` class, add an attribute `training_hours` and a method `train` that prints the training hours. Create an object of the class and call the method.\n",
    "\n",
    "### Assignment 7: Diamond Problem in Multiple Inheritance\n",
    "\n",
    "Create a class named `A` with a method `show` that prints a message. Create two derived classes `B` and `C` that inherit from `A` and override the `show` method. Create a class `D` that inherits from both `B` and `C`. Create an object of the `D` class and call the `show` method. Observe the method resolution order.\n",
    "\n",
    "### Assignment 8: Using `super()` in Single Inheritance\n",
    "\n",
    "Create a base class named `Shape` with an attribute `color`. Create a derived class named `Circle` that inherits from `Shape` and adds an attribute `radius`. Use the `super()` function to initialize the attributes. Create an object of the `Circle` class and print its attributes.\n",
    "\n",
    "### Assignment 9: Using `super()` in Multiple Inheritance\n",
    "\n",
    "Create a class named `Person` with an attribute `name`. Create a class named `Employee` with an attribute `employee_id`. Create a derived class `Manager` that inherits from both `Person` and `Employee`. Use the `super()` function to initialize the attributes. Create an object of the `Manager` class and print its attributes.\n",
    "\n",
    "### Assignment 10: Method Overriding and `super()`\n",
    "\n",
    "Create a class named `Vehicle` with a method `start` that prints a starting message. Create a derived class `Car` that overrides the `start` method to print a different message. Use the `super()` function to call the `start` method of the `Vehicle` class. Create an object of the `Car` class and call the `start` method.\n",
    "\n",
    "### Assignment 11: Multiple Inheritance with Different Methods\n",
    "\n",
    "Create a class named `Flyer` with a method `fly` that prints a flying message. Create a class named `Swimmer` with a method `swim` that prints a swimming message. Create a derived class `Superhero` that inherits from both `Flyer` and `Swimmer`. Create an object of the `Superhero` class and call both methods.\n",
    "\n",
    "### Assignment 12: Complex Multiple Inheritance\n",
    "\n",
    "Create a class named `Base1` with an attribute `a`. Create a class named `Base2` with an attribute `b`. Create a class named `Derived` that inherits from both `Base1` and `Base2` and adds an attribute `c`. Initialize all attributes using the `super()` function. Create an object of the `Derived` class and print its attributes.\n",
    "\n",
    "### Assignment 13: Checking Instance Types with Inheritance\n",
    "\n",
    "Create a base class named `Animal` and a derived class named `Cat`. Create objects of both classes and use the `isinstance` function to check the instance types.\n",
    "\n",
    "### Assignment 14: Polymorphism with Inheritance\n",
    "\n",
    "Create a base class named `Bird` with a method `speak`. Create two derived classes `Parrot` and `Penguin` that override the `speak` method. Create a list of `Bird` objects and call the `speak` method on each object to demonstrate polymorphism.\n",
    "\n",
    "### Assignment 15: Combining Single and Multiple Inheritance\n",
    "\n",
    "Create a base class named `Device` with an attribute `brand`. Create a derived class `Phone` that inherits from `Device` and adds an attribute `model`. Create another base class `Camera` with an attribute `resolution`. Create a derived class `Smartphone` that inherits from both `Phone` and `Camera`. Create an object of the `Smartphone` class and print its attributes."
   ]
  },
  {
   "cell_type": "code",
   "execution_count": 1,
   "metadata": {},
   "outputs": [
    {
     "name": "stdout",
     "output_type": "stream",
     "text": [
      "Buddy\n",
      "Baby\n",
      "Lab\n"
     ]
    }
   ],
   "source": [
    "class Animal:\n",
    "    def __init__(self,name,species):\n",
    "        self.name = name\n",
    "        self.species = species\n",
    "\n",
    "class Dog(Animal):\n",
    "    def __init__(self, name, species,breed):\n",
    "        super().__init__(name, species)  \n",
    "        self.breed = breed\n",
    "\n",
    "dog = Dog(\"Buddy\",\"Lab\",\"Baby\")\n",
    "print(dog.name) \n",
    "print(dog.breed)\n",
    "print(dog.species)     "
   ]
  },
  {
   "cell_type": "code",
   "execution_count": 4,
   "id": "3d5d8981",
   "metadata": {},
   "outputs": [
    {
     "name": "stdout",
     "output_type": "stream",
     "text": [
      "The name of the Dog is Buddy\n"
     ]
    }
   ],
   "source": [
    "class Dog(Animal):\n",
    "    def __init__(self, name, species,breed):\n",
    "        super().__init__(name, species)  \n",
    "        self.breed = breed\n",
    "\n",
    "    def __str__(self):\n",
    "        return f\"The name of the Dog is {self.name}\"\n",
    "\n",
    "dog = Dog(\"Buddy\",\"Lab\",\"Baby\")\n",
    "print(dog)\n",
    "    \n"
   ]
  },
  {
   "cell_type": "code",
   "execution_count": 6,
   "id": "561dc77f",
   "metadata": {},
   "outputs": [
    {
     "name": "stdout",
     "output_type": "stream",
     "text": [
      "Buddy\n",
      "Buddy is barking\n"
     ]
    }
   ],
   "source": [
    "class Dog(Animal):\n",
    "    def __init__(self, name, species,breed):\n",
    "        super().__init__(name, species)\n",
    "        self.breed = breed\n",
    "\n",
    "    def bark(self):\n",
    "        print(f\"{self.name} is barking\")\n",
    "\n",
    "doggy = Dog(\"Buddy\",\"Canine\",\"Labrador\")\n",
    "print(doggy.name)\n",
    "doggy.bark()"
   ]
  },
  {
   "cell_type": "code",
   "execution_count": 8,
   "id": "cc7931d1",
   "metadata": {},
   "outputs": [
    {
     "name": "stdout",
     "output_type": "stream",
     "text": [
      "Hey you are running\n",
      "Hey You are Walking\n"
     ]
    }
   ],
   "source": [
    "class Walker:\n",
    "    def walk(self):\n",
    "        print(\"Hey You are Walking\")\n",
    "\n",
    "class Runner:\n",
    "    def run(self):\n",
    "        print(\"Hey you are running\")\n",
    "\n",
    "\n",
    "class Athelete(Walker,Runner):\n",
    "    pass\n",
    "\n",
    "athelete = Athelete()\n",
    "athelete.run()\n",
    "athelete.walk()"
   ]
  },
  {
   "cell_type": "code",
   "execution_count": 9,
   "id": "e4725865",
   "metadata": {},
   "outputs": [
    {
     "name": "stdout",
     "output_type": "stream",
     "text": [
      "Atheltes are Walking\n",
      "Hey You are Walking\n"
     ]
    }
   ],
   "source": [
    "class Athelete(Walker,Runner):\n",
    "    def walk(self):\n",
    "        print(\"Atheltes are Walking\")\n",
    "        super().walk()\n",
    "\n",
    "athelete = Athelete()\n",
    "athelete.walk()"
   ]
  },
  {
   "cell_type": "code",
   "execution_count": 12,
   "id": "9584f23f",
   "metadata": {},
   "outputs": [
    {
     "name": "stdout",
     "output_type": "stream",
     "text": [
      "The total Training Hours done are: 16\n"
     ]
    }
   ],
   "source": [
    "class Athelete(Walker,Runner):\n",
    "    def __init__(self,self_training):\n",
    "        self.training = self_training\n",
    "\n",
    "    def train(self):\n",
    "        return f\"The total Training Hours done are: {self.training}\"\n",
    "    \n",
    "ath = Athelete(16)\n",
    "print(ath.train())"
   ]
  },
  {
   "cell_type": "code",
   "execution_count": 18,
   "id": "3e27e0cc",
   "metadata": {},
   "outputs": [
    {
     "name": "stdout",
     "output_type": "stream",
     "text": [
      "B is Inheriting from A\n"
     ]
    }
   ],
   "source": [
    "class A:\n",
    "    def show(self):\n",
    "        print(\"PRint a Message\")\n",
    "\n",
    "class B(A):\n",
    "    def show(self):\n",
    "        print(\"B is Inheriting from A\")\n",
    "\n",
    "class C(A):\n",
    "    def show(self):\n",
    "        print(\"C is Inheriting from A\")\n",
    "\n",
    "class D(B,C):\n",
    "    pass\n",
    "\n",
    "x = D()\n",
    "x.show()"
   ]
  },
  {
   "cell_type": "markdown",
   "id": "a9dd4dff",
   "metadata": {},
   "source": [
    "The output of the given Python program will be:\n",
    "\n",
    "```\n",
    "B is Inheriting from A\n",
    "```\n",
    "\n",
    "### Explanation:\n",
    "\n",
    "#### **1. Understanding the Class Hierarchy**\n",
    "- `A` is the base class with a `show()` method.\n",
    "- `B` and `C` both inherit from `A` and override the `show()` method.\n",
    "- `D` inherits from both `B` and `C`, forming a **diamond inheritance** pattern.\n",
    "\n",
    "#### **2. Method Resolution Order (MRO)**\n",
    "Python follows the **C3 Linearization (MRO)** algorithm to determine the method resolution order in multiple inheritance.\n",
    "\n",
    "For class `D(B, C)`, the MRO is:\n",
    "\n",
    "```\n",
    "D → B → C → A\n",
    "```\n",
    "\n",
    "#### **3. How `x.show()` is Resolved**\n",
    "- When calling `x.show()`, Python first looks in `D`. Since `D` does not override `show()`, it looks in the next class in MRO.\n",
    "- The next class in the MRO is `B`, which has a `show()` method.\n",
    "- Since `B` has an implementation of `show()`, it gets executed, and `\"B is Inheriting from A\"` is printed.\n",
    "\n",
    "### **Key Takeaways**\n",
    "- **MRO determines the order in which methods are looked up in multiple inheritance.**\n",
    "- **`D(B, C)` means `B` comes before `C` in MRO.** So, `B`'s `show()` is executed.\n",
    "- If `B` didn’t have `show()`, Python would move to `C` and execute `C`'s `show()`. If `C` didn’t have it, it would finally check `A`.\n",
    "\n",
    "Let me know if you need more clarification! 🚀"
   ]
  },
  {
   "cell_type": "code",
   "execution_count": 19,
   "id": "9f3cf5ab",
   "metadata": {},
   "outputs": [
    {
     "name": "stdout",
     "output_type": "stream",
     "text": [
      "Red\n",
      "7\n"
     ]
    }
   ],
   "source": [
    "class Shape:\n",
    "    def __init__(self,color):\n",
    "        self.color = color\n",
    "\n",
    "class Circle (Shape):\n",
    "    def __init__(self, color,radius):\n",
    "        super().__init__(color)\n",
    "        self.radius = radius\n",
    "\n",
    "\n",
    "circ = Circle(\"Red\",7)\n",
    "print(circ.color)\n",
    "print(circ.radius)"
   ]
  },
  {
   "cell_type": "code",
   "execution_count": 20,
   "id": "f7c0ac15",
   "metadata": {},
   "outputs": [
    {
     "name": "stdout",
     "output_type": "stream",
     "text": [
      "Pranav\n",
      "241090902\n"
     ]
    }
   ],
   "source": [
    "class Person :\n",
    "    def __init__(self,name):\n",
    "        self.name = name\n",
    "    \n",
    "class Employee:\n",
    "    def __init__(self,employee_id):\n",
    "        self.employeeid = employee_id\n",
    "\n",
    "class Manager(Person,Employee):\n",
    "    def __init__(self, name,employee_id):\n",
    "        super().__init__(name)\n",
    "        Employee.__init__(self,employee_id)\n",
    "\n",
    "manager = Manager(\"Pranav\",241090902)\n",
    "print(manager.name)\n",
    "print(manager.employeeid)"
   ]
  },
  {
   "cell_type": "code",
   "execution_count": 1,
   "id": "d585df49",
   "metadata": {},
   "outputs": [
    {
     "name": "stdout",
     "output_type": "stream",
     "text": [
      "CAR IS STARTING\n",
      "MESSAGE\n"
     ]
    }
   ],
   "source": [
    "class Vehicle:\n",
    "    def start(self):\n",
    "        print(\"MESSAGE\")\n",
    "\n",
    "class Car(Vehicle):\n",
    "    def start(self):\n",
    "        print(\"CAR IS STARTING\")\n",
    "        super().start()\n",
    "\n",
    "car = Car()\n",
    "car.start()"
   ]
  },
  {
   "cell_type": "markdown",
   "id": "90fba511",
   "metadata": {},
   "source": [
    "Ye ek Python ka **inheritance** ka example hai jisme ek **parent class (Vehicle)** aur ek **child class (Car)** hai. Chalo step by step samajhte hain:\n",
    "\n",
    "### **Code Breakdown:**\n",
    "```python\n",
    "class Vehicle:\n",
    "    def start(self):\n",
    "        print(\"MESSAGE\")\n",
    "```\n",
    "- **Vehicle ek parent class hai** jisme `start()` method define kiya gaya hai.  \n",
    "- Jab bhi `start()` method call hoga, **\"MESSAGE\"** print hoga.\n",
    "\n",
    "---\n",
    "\n",
    "```python\n",
    "class Car(Vehicle):\n",
    "    def start(self):\n",
    "        print(\"CAR IS STARTING\")\n",
    "        super().start()\n",
    "```\n",
    "- **Car class Vehicle se inherit kar rahi hai**, matlab Car class me Vehicle wali properties bhi milengi.  \n",
    "- `start()` method ko **override** kiya gaya hai, jisme pehle `\"CAR IS STARTING\"` print hoga.  \n",
    "- `super().start()` ka use karke **parent class ka start() method bhi call kar diya**.\n",
    "\n",
    "---\n",
    "\n",
    "```python\n",
    "car = Car()\n",
    "car.start()\n",
    "```\n",
    "- `car` ek `Car` class ka object hai.  \n",
    "- Jab `car.start()` call hoga, pehle **child class ka start() method chalega**, phir `super().start()` ki wajah se **parent class ka start() method bhi execute hoga**.\n",
    "\n",
    "---\n",
    "\n",
    "### **Final Output:**\n",
    "```\n",
    "CAR IS STARTING\n",
    "MESSAGE\n",
    "```\n",
    "\n",
    "**Samajhne ki Baat:**  \n",
    "- `super().start()` parent class ka method call karne ke liye use hota hai.  \n",
    "- **Method overriding ka concept use hua hai** (child class ne apna alag method define kiya).  \n",
    "- Pehle `Car` ka `start()` method run hoga, phir `super()` ki wajah se `Vehicle` ka `start()` method bhi execute hoga.\n",
    "\n",
    "Agar samajh aaya toh batao, ya fir aur example chahiye? 😃"
   ]
  },
  {
   "cell_type": "code",
   "execution_count": 3,
   "id": "eb63b187",
   "metadata": {},
   "outputs": [
    {
     "name": "stdout",
     "output_type": "stream",
     "text": [
      "WE FLY\n",
      "WE SWIM\n"
     ]
    }
   ],
   "source": [
    "class Flyer:\n",
    "    def fly(self):\n",
    "        return (\"WE FLY\")\n",
    "\n",
    "class Swimmer:\n",
    "    def swim(self):\n",
    "        return (\"WE SWIM\")\n",
    "\n",
    "class Superhero(Flyer,Swimmer):\n",
    "        pass\n",
    "\n",
    "spider_man = Superhero()\n",
    "print(spider_man.fly())\n",
    "print(spider_man.swim())"
   ]
  },
  {
   "cell_type": "code",
   "execution_count": 6,
   "id": "a57ff664",
   "metadata": {},
   "outputs": [
    {
     "name": "stdout",
     "output_type": "stream",
     "text": [
      "X\n",
      "Z\n"
     ]
    }
   ],
   "source": [
    "class Base1:\n",
    "    def __init__(self,a):\n",
    "        self.a = a\n",
    "\n",
    "class Base2:\n",
    "    def __init__(self,b):\n",
    "        self.b = b \n",
    "\n",
    "class Derived(Base1,Base2):\n",
    "    def __init__(self, a,b,c):\n",
    "        super().__init__(a)\n",
    "        Base2.__init__(self,b)\n",
    "        self.c =  c\n",
    "\n",
    "abc = Derived(\"X\",\"Y\",\"Z\")\n",
    "print(abc.a)\n",
    "print(abc.c)"
   ]
  },
  {
   "cell_type": "code",
   "execution_count": 8,
   "id": "bd790c17",
   "metadata": {},
   "outputs": [
    {
     "name": "stdout",
     "output_type": "stream",
     "text": [
      "True\n",
      "True\n",
      "True\n",
      "False\n"
     ]
    }
   ],
   "source": [
    "class Animal:\n",
    "    pass\n",
    "class Cat(Animal):\n",
    "    pass\n",
    "\n",
    "animal = Animal()\n",
    "cat = Cat()\n",
    "print(isinstance(animal, Animal))  # True\n",
    "print(isinstance(cat, Animal))  # True\n",
    "print(isinstance(cat, Cat))  # True\n",
    "print(isinstance(animal, Cat))  # False"
   ]
  },
  {
   "cell_type": "code",
   "execution_count": 9,
   "id": "da5bbb9e",
   "metadata": {},
   "outputs": [
    {
     "name": "stdout",
     "output_type": "stream",
     "text": [
      "MITHU MITHU\n",
      "IDK WTF\n"
     ]
    }
   ],
   "source": [
    "class Bird:\n",
    "    def speak(self):\n",
    "        print(\"WE SPEAK\")\n",
    "\n",
    "class Parrot(Bird):\n",
    "    def speak(self):\n",
    "        print(\"MITHU MITHU\")\n",
    "\n",
    "class Penguin(Bird):\n",
    "    def speak(self):\n",
    "        print(\"IDK WTF\")\n",
    "\n",
    "birds = [Parrot(), Penguin()]\n",
    "for bird in birds:\n",
    "    bird.speak()"
   ]
  },
  {
   "cell_type": "markdown",
   "id": "dd17a088",
   "metadata": {},
   "source": [
    "Ye **Python me polymorphism** ka ek example hai. Isme ek **parent class (Bird)** aur do **child classes (Parrot aur Penguin)** hain. Chalo step by step samajhte hain:\n",
    "\n",
    "---\n",
    "\n",
    "### **Code Breakdown:**\n",
    "\n",
    "```python\n",
    "class Bird:\n",
    "    def speak(self):\n",
    "        print(\"WE SPEAK\")\n",
    "```\n",
    "- **Bird ek parent class hai** jisme `speak()` method define kiya gaya hai.  \n",
    "- Agar koi **Bird ka object** banayega aur `speak()` call karega, toh `\"WE SPEAK\"` print hoga.\n",
    "\n",
    "---\n",
    "\n",
    "```python\n",
    "class Parrot(Bird):\n",
    "    def speak(self):\n",
    "        print(\"MITHU MITHU\")\n",
    "```\n",
    "- **Parrot, Bird class ko inherit kar raha hai.**  \n",
    "- `speak()` method ko **override** kiya gaya hai, jo `\"MITHU MITHU\"` print karega.\n",
    "\n",
    "---\n",
    "\n",
    "```python\n",
    "class Penguin(Bird):\n",
    "    def speak(self):\n",
    "        print(\"IDK WTF\")\n",
    "```\n",
    "- **Penguin bhi Bird class ko inherit kar raha hai.**  \n",
    "- Iska `speak()` method `\"IDK WTF\"` print karega.\n",
    "\n",
    "---\n",
    "\n",
    "```python\n",
    "birds = [Parrot(), Penguin()]\n",
    "for bird in birds:\n",
    "    bird.speak()\n",
    "```\n",
    "- **Ek list `birds` banayi gayi hai jisme ek Parrot aur ek Penguin ka object rakha hai.**  \n",
    "- **Loop se sabhi objects ka `speak()` method call kar rahe hain.**  \n",
    "- **Polymorphism ka use ho raha hai**, kyunki **same method (`speak()`) har object apne alag tariqe se execute kar raha hai**.\n",
    "\n",
    "---\n",
    "\n",
    "### **Final Output:**\n",
    "```\n",
    "MITHU MITHU\n",
    "IDK WTF\n",
    "```\n",
    "\n",
    "### **Important Concepts:**\n",
    "1. **Method Overriding:** `speak()` method **har child class me alag define** kiya gaya hai.\n",
    "2. **Polymorphism:** Same method (`speak()`) **different objects pe alag output de raha hai.**\n",
    "3. **Loop me dynamic method calling:** `for bird in birds:` se har object ke method ko automatically call kiya ja raha hai.\n",
    "\n",
    "Matlab agar aur koi **naya bird add karna ho**, toh bas **uska ek aur class bana ke `speak()` define karna hoga**, baki code change nahi karna padega. **(Scalability ka best example!)** 🚀\n",
    "\n",
    "Koi doubt ho toh batao! 😃"
   ]
  },
  {
   "cell_type": "markdown",
   "id": "23049c2d",
   "metadata": {},
   "source": [
    "### **Loop Part Explanation:**\n",
    "```python\n",
    "birds = [Parrot(), Penguin()]  # List me 2 objects hain: Parrot aur Penguin\n",
    "\n",
    "for bird in birds:\n",
    "    bird.speak()  # Har object ka `speak()` method call hoga\n",
    "```\n",
    "\n",
    "#### **Step-by-Step Execution:**\n",
    "1. **`birds` ek list hai** jisme **do objects hain** → ek `Parrot()` aur ek `Penguin()`.  \n",
    "   ```python\n",
    "   birds = [Parrot(), Penguin()]\n",
    "   ```\n",
    "   - `Parrot()` ek **Parrot class ka object** hai.  \n",
    "   - `Penguin()` ek **Penguin class ka object** hai.  \n",
    "\n",
    "2. **Loop chal raha hai jo ek-ek karke list ke elements ko access karega:**\n",
    "   ```python\n",
    "   for bird in birds:\n",
    "       bird.speak()\n",
    "   ```\n",
    "   - **First Iteration (bird = Parrot()):**  \n",
    "     - `bird.speak()` → `Parrot` class ka `speak()` method call hoga.  \n",
    "     - `\"MITHU MITHU\"` print hoga.  \n",
    "\n",
    "   - **Second Iteration (bird = Penguin()):**  \n",
    "     - `bird.speak()` → `Penguin` class ka `speak()` method call hoga.  \n",
    "     - `\"IDK WTF\"` print hoga.  \n",
    "\n",
    "3. **Final Output:**\n",
    "   ```\n",
    "   MITHU MITHU\n",
    "   IDK WTF\n",
    "   ```\n",
    "\n",
    "---\n",
    "\n",
    "### **Why This is Powerful?**\n",
    "1. **Polymorphism ka example hai:** Same method `speak()` different objects ke liye alag tarike se behave kar raha hai.\n",
    "2. **Dynamic Method Calling:** Agar hum list me aur objects daal dein, toh loop automatically unka `speak()` method call karega.  \n",
    "   ```python\n",
    "   birds = [Parrot(), Penguin(), Bird()]\n",
    "   ```\n",
    "   Output:\n",
    "   ```\n",
    "   MITHU MITHU\n",
    "   IDK WTF\n",
    "   WE SPEAK\n",
    "   ```\n",
    "\n",
    "**Matlab ye code har naye bird ke liye bina kisi change ke kaam karega!** 🚀\n",
    "\n",
    "Samajh aaya? Ya aur explain karu? 😃"
   ]
  },
  {
   "cell_type": "code",
   "execution_count": 11,
   "id": "5f27e859",
   "metadata": {},
   "outputs": [
    {
     "name": "stdout",
     "output_type": "stream",
     "text": [
      "Samsung\n",
      "S24\n",
      "1440p\n"
     ]
    }
   ],
   "source": [
    "class Device:\n",
    "    def __init__(self,brand):\n",
    "        self.brand = brand\n",
    "class Phone(Device):\n",
    "    def __init__(self, brand,model):\n",
    "        super().__init__(brand)\n",
    "        self.model = model\n",
    "\n",
    "class Camera:\n",
    "    def __init__(self,resolution):\n",
    "        self.resolution = resolution\n",
    "\n",
    "class Smartphone(Phone,Camera):\n",
    "    def __init__(self, brand, model,resolution):\n",
    "        super().__init__(brand, model)\n",
    "        Camera.__init__(self,resolution)\n",
    "\n",
    "samsung = Smartphone(\"Samsung\",\"S24\",\"1440p\")\n",
    "print(samsung.brand)\n",
    "print(samsung.model)\n",
    "print(samsung.resolution)\n"
   ]
  },
  {
   "cell_type": "markdown",
   "id": "ef992397",
   "metadata": {},
   "source": [
    "Ye **Python me multiple inheritance ka example hai**, jisme ek **Smartphone** class do alag-alag parent classes (`Phone` aur `Camera`) se properties inherit kar rahi hai. Chalo step-by-step samajhte hain:\n",
    "\n",
    "---\n",
    "\n",
    "## **Code Breakdown:**\n",
    "\n",
    "### **1️⃣ Parent Class: `Device`**\n",
    "```python\n",
    "class Device:\n",
    "    def __init__(self, brand):\n",
    "        self.brand = brand\n",
    "```\n",
    "- **Device ek base class hai** jo sirf `brand` attribute store karti hai.\n",
    "- **Agar koi bhi object `Device` class ka bane, toh uska ek `brand` hoga.**\n",
    "\n",
    "---\n",
    "\n",
    "### **2️⃣ First Child Class: `Phone`**\n",
    "```python\n",
    "class Phone(Device):\n",
    "    def __init__(self, brand, model):\n",
    "        super().__init__(brand)  # Parent class `Device` ka constructor call ho raha hai\n",
    "        self.model = model\n",
    "```\n",
    "- `Phone` class **`Device` class ko inherit kar rahi hai**.\n",
    "- `super().__init__(brand)` ka use karke **parent class `Device` ka constructor call kar rahe hain**, jo `brand` set karega.\n",
    "- **Extra attribute `model` add kiya gaya hai.**  \n",
    "\n",
    "**Example:**  \n",
    "```python\n",
    "p = Phone(\"Samsung\", \"Galaxy S21\")\n",
    "print(p.brand, p.model)  # Output: Samsung Galaxy S21\n",
    "```\n",
    "\n",
    "---\n",
    "\n",
    "### **3️⃣ Second Parent Class: `Camera`**\n",
    "```python\n",
    "class Camera:\n",
    "    def __init__(self, resolution):\n",
    "        self.resolution = resolution\n",
    "```\n",
    "- **`Camera` class ka `resolution` attribute hai** jo camera ki resolution store karega.\n",
    "- **Is class ka `Device` se koi relation nahi hai**, ye independently exist karti hai.\n",
    "\n",
    "---\n",
    "\n",
    "### **4️⃣ Multiple Inheritance in `Smartphone`**\n",
    "```python\n",
    "class Smartphone(Phone, Camera):\n",
    "    def __init__(self, brand, model, resolution):\n",
    "        Phone.__init__(self, brand, model)  # Phone class ka constructor call ho raha hai\n",
    "        Camera.__init__(self, resolution)   # Camera class ka constructor call ho raha hai\n",
    "```\n",
    "- **`Smartphone` ek child class hai jo `Phone` aur `Camera` dono ko inherit karti hai.**\n",
    "- **Multiple inheritance ke wajah se `Smartphone` class ke objects me `brand`, `model`, aur `resolution` hoga.**\n",
    "- **Manually `Phone.__init__()` aur `Camera.__init__()` call karna pada, kyunki `super()` sirf ek parent class ko handle karta hai.**\n",
    "\n",
    "---\n",
    "\n",
    "## **Testing the `Smartphone` Class**\n",
    "```python\n",
    "smartphone = Smartphone('Apple', 'iPhone 12', '12 MP')\n",
    "print(smartphone.brand, smartphone.model, smartphone.resolution)\n",
    "```\n",
    "- `brand = 'Apple'`\n",
    "- `model = 'iPhone 12'`\n",
    "- `resolution = '12 MP'`\n",
    "\n",
    "### **Final Output:**\n",
    "```\n",
    "Apple iPhone 12 12 MP\n",
    "```\n",
    "\n",
    "---\n",
    "\n",
    "## **🛠️ Key Concepts Used:**\n",
    "✅ **Inheritance** – `Phone` ne `Device` se inherit kiya, aur `Smartphone` ne `Phone` aur `Camera` dono se.  \n",
    "✅ **Multiple Inheritance** – `Smartphone` class do parents (`Phone` aur `Camera`) ka data hold kar sakti hai.  \n",
    "✅ **`super()` vs Direct Parent Calls** – Multiple inheritance me `super()` ek parent handle karta hai, isliye **dono parent classes ko manually initialize karna pada**.  \n",
    "\n",
    "Agar doubt ho ya aur examples chahiye toh batao! 😃"
   ]
  }
 ],
 "metadata": {
  "kernelspec": {
   "display_name": "venv",
   "language": "python",
   "name": "python3"
  },
  "language_info": {
   "codemirror_mode": {
    "name": "ipython",
    "version": 3
   },
   "file_extension": ".py",
   "mimetype": "text/x-python",
   "name": "python",
   "nbconvert_exporter": "python",
   "pygments_lexer": "ipython3",
   "version": "3.12.0"
  }
 },
 "nbformat": 4,
 "nbformat_minor": 5
}
