{
 "cells": [
  {
   "cell_type": "markdown",
   "metadata": {},
   "source": [
    "## Inheritance in OOPS\n",
    "\n",
    "Inheritance is a fundamental concept in Object - Oriented Programming (OOP) that allows a class to inherit attributes and methods from another class. This file covers inheritance and multiple inheritance\n"
   ]
  },
  {
   "cell_type": "code",
   "execution_count": 5,
   "metadata": {},
   "outputs": [
    {
     "name": "stdout",
     "output_type": "stream",
     "text": [
      "4\n",
      "4\n",
      "The Type of car is V10\n"
     ]
    }
   ],
   "source": [
    "## inheritance\n",
    "\n",
    "##Single Inheritance\n",
    "\n",
    "class Car:\n",
    "    def __init__(self,windows,doors,enginetype):\n",
    "        self.windows = windows\n",
    "        self.doors = doors\n",
    "        self.enginetype = enginetype\n",
    "        \n",
    "\n",
    "    def drive(self):\n",
    "        print(f\"The Type of car is {self.enginetype}\")\n",
    "    \n",
    "\n",
    "car1 = Car(4,4,\"V10\")\n",
    "print(car1.windows)\n",
    "print(car1.doors)\n",
    "car1.drive()"
   ]
  },
  {
   "cell_type": "code",
   "execution_count": 2,
   "metadata": {},
   "outputs": [],
   "source": [
    "class Tesla(Car):\n",
    "    def __init__(self, windows, doors, enginetype,is_self_drive):\n",
    "        super().__init__(windows, doors, enginetype)\n",
    "        self.self_drive = is_self_drive\n",
    "\n",
    "    def isselfdrive(self):\n",
    "        if self.self_drive == True:\n",
    "            print(\"Yes this is a self - drive car\")\n",
    "        else:\n",
    "            print(\"This is not a Self Driving car\")\n"
   ]
  },
  {
   "cell_type": "code",
   "execution_count": 4,
   "metadata": {},
   "outputs": [
    {
     "name": "stdout",
     "output_type": "stream",
     "text": [
      "4\n",
      "Electric\n",
      "Yes this is a self - drive car\n",
      "The Type of car is Electric\n"
     ]
    }
   ],
   "source": [
    "tesla1 = Tesla(4,4,\"Electric\",True)\n",
    "print(tesla1.doors)\n",
    "print(tesla1.enginetype)\n",
    "tesla1.isselfdrive()\n",
    "tesla1.drive()"
   ]
  },
  {
   "cell_type": "markdown",
   "metadata": {},
   "source": [
    "Yeh Python code mein ek class **`Tesla`** banayi gayi hai jo ek existing class **`Car`** ko inherit karti hai. Hinglish mein ise samajhte hain:\n",
    "\n",
    "---\n",
    "\n",
    "### Code ka Breakdown:\n",
    "\n",
    "#### 1. **`class Tesla(Car):`**\n",
    "   - Yahaan **`Tesla`** ek nayi class hai jo **`Car`** class ki saari properties aur methods ko apne andar use kar sakti hai (inheritance ka concept).\n",
    "   - Matlab, **`Car`** class ki functionality **`Tesla`** class mein automatically available hogi.\n",
    "\n",
    "#### 2. **`__init__` method (Constructor):**\n",
    "   ```python\n",
    "   def __init__(self, windows, doors, enginetype, is_self_drive):\n",
    "       super().__init__(windows, doors, enginetype)\n",
    "       self.self_drive = is_self_drive\n",
    "   ```\n",
    "   - **`__init__`** ek constructor method hai, jo tab call hota hai jab class ka object banate ho.\n",
    "   - **`super().__init__(...)`** ka use parent class **`Car`** ke constructor ko call karne ke liye kiya gaya hai, jo **windows**, **doors**, aur **enginetype** ki properties set karega.\n",
    "   - **`self.self_drive = is_self_drive`** se ek nayi property **`self_drive`** ko set kiya gaya hai jo yeh define karegi ki car self-driving hai ya nahi.\n",
    "\n",
    "#### 3. **`isselfdrive` Method:**\n",
    "   ```python\n",
    "   def isselfdrive(self):\n",
    "       if self.self_drive == True:\n",
    "           print(\"Yes this is a self - drive car\")\n",
    "       else:\n",
    "           print(\"This is not a Self Driving car\")\n",
    "   ```\n",
    "   - Yeh ek method hai jo check karega ki car self-driving hai ya nahi.\n",
    "   - Agar **`self_drive`** property **`True`** hai, toh yeh print karega:  \n",
    "     `\"Yes this is a self - drive car\"`.\n",
    "   - Agar **`self_drive`** property **`False`** hai, toh yeh print karega:  \n",
    "     `\"This is not a Self Driving car\"`.\n",
    "\n",
    "---\n",
    "\n",
    "### Example:\n",
    "Agar hum **`Tesla`** ka ek object banayein:\n",
    "```python\n",
    "my_tesla = Tesla(4, 4, \"Electric\", True)\n",
    "my_tesla.isselfdrive()\n",
    "```\n",
    "- Yahaan **`my_tesla`** ek Tesla car ka object hai.\n",
    "- **`isselfdrive()`** method call karne par output hoga:  \n",
    "  **\"Yes this is a self - drive car\"**.\n",
    "\n",
    "### Summary:\n",
    "- **Inheritance:** `Tesla` class inherits `Car` class.\n",
    "- **Customization:** Ek nayi property **`self_drive`** aur method **`isselfdrive()`** add ki gayi hai.\n",
    "- **Purpose:** Yeh batane ke liye ki Tesla car self-driving hai ya nahi."
   ]
  },
  {
   "cell_type": "code",
   "execution_count": 6,
   "metadata": {},
   "outputs": [],
   "source": [
    "## Multiple inheritance\n",
    "# When a Class Inhertits from more than one base class is called Multiple Inheritance"
   ]
  },
  {
   "cell_type": "code",
   "execution_count": 12,
   "metadata": {},
   "outputs": [
    {
     "name": "stdout",
     "output_type": "stream",
     "text": [
      "The Dogs Name is : Buddy\n",
      "Owner: Pranav\n",
      "Buddy says WOOf\n"
     ]
    }
   ],
   "source": [
    "##Base Class 1\n",
    "\n",
    "class Animal:\n",
    "    def __init__(self,name):\n",
    "        self.name = name\n",
    "    \n",
    "    def speak(self):\n",
    "        print(\"Sub class should inherit this method\")\n",
    "\n",
    "#Base Class 2\n",
    "class Pet:\n",
    "    def __init__(self,owner):\n",
    "        self.owner = owner\n",
    "        \n",
    "\n",
    "class Dog(Animal,Pet):\n",
    "    def __init__(self,name,owner):\n",
    "        Animal.__init__(self,name)\n",
    "        Pet.__init__(self,owner)\n",
    "\n",
    "    def speak(self):\n",
    "        return (f\"{self.name} says WOOf\")\n",
    "\n",
    "dog = Dog(\"Buddy\",\"Pranav\")\n",
    "print(f\"The Dogs Name is : {dog.name}\")\n",
    "print(f\"Owner: {dog.owner}\")\n",
    "print(dog.speak())\n",
    "\n",
    "    "
   ]
  },
  {
   "cell_type": "markdown",
   "metadata": {},
   "source": [
    "Yeh code ek example hai **multiple inheritance** ka Python mein, jahan ek derived class (`Dog`) do base classes (`Animal` aur `Pet`) se inherit kar rahi hai. Hinglish mein ise step-by-step samajhte hain:\n",
    "\n",
    "---\n",
    "\n",
    "### 1. **Base Class 1: `Animal`**\n",
    "```python\n",
    "class Animal:\n",
    "    def __init__(self, name):\n",
    "        self.name = name  # Animal ka name store karta hai\n",
    "\n",
    "    def speak(self):\n",
    "        print(\"Sub class should inherit this method\")  # Yeh method subclasses override karengi\n",
    "```\n",
    "- **`Animal`** ek base class hai jo har animal ka **name** store karti hai.\n",
    "- **`speak`** ek placeholder method hai jo subclasses (jaise `Dog`) ke liye hai. Subclass isse apna behavior define karengi.\n",
    "\n",
    "---\n",
    "\n",
    "### 2. **Base Class 2: `Pet`**\n",
    "```python\n",
    "class Pet:\n",
    "    def __init__(self, owner):\n",
    "        self.owner = owner  # Pet ka owner store karta hai\n",
    "```\n",
    "- **`Pet`** ek base class hai jo pet ka **owner** kaun hai, yeh store karti hai.\n",
    "\n",
    "---\n",
    "\n",
    "### 3. **Derived Class: `Dog`**\n",
    "```python\n",
    "class Dog(Animal, Pet):\n",
    "    def __init__(self, name, owner):\n",
    "        Animal.__init__(self, name)  # Animal ka constructor call karte hain\n",
    "        Pet.__init__(self, owner)   # Pet ka constructor call karte hain\n",
    "\n",
    "    def speak(self):\n",
    "        return f\"{self.name} says WOOF\"  # Dog ka apna implementation of `speak` method\n",
    "```\n",
    "- **`Dog`** class do base classes (`Animal` aur `Pet`) se inherit karti hai.\n",
    "- **`__init__` method**:\n",
    "  - Pehle **`Animal`** ka constructor call hota hai jo **name** initialize karta hai.\n",
    "  - Phir **`Pet`** ka constructor call hota hai jo **owner** initialize karta hai.\n",
    "- **`speak` method**:\n",
    "  - Yeh method **`Animal`** class ke `speak` method ko override karta hai aur specific message return karta hai:  \n",
    "    `\"Buddy says WOOF\"`.\n",
    "\n",
    "---\n",
    "\n",
    "### 4. **Object Creation & Usage**\n",
    "```python\n",
    "dog = Dog(\"Buddy\", \"Pranav\")\n",
    "print(f\"The Dog's Name is: {dog.name}\")  # Dog ka name print karega\n",
    "print(f\"Owner: {dog.owner}\")            # Dog ka owner print karega\n",
    "print(dog.speak())                      # Dog ka custom `speak` method call karega\n",
    "```\n",
    "- **Object Creation**:\n",
    "  - Ek `Dog` class ka object create kiya gaya jiska name `\"Buddy\"` aur owner `\"Pranav\"` hai.\n",
    "- **Output**:\n",
    "  - **`dog.name`**: `\"Buddy\"`.\n",
    "  - **`dog.owner`**: `\"Pranav\"`.\n",
    "  - **`dog.speak()`**: `\"Buddy says WOOF\"`.\n",
    "\n",
    "---\n",
    "\n",
    "### Output:\n",
    "```\n",
    "The Dog's Name is: Buddy\n",
    "Owner: Pranav\n",
    "Buddy says WOOF\n",
    "```\n",
    "\n",
    "---\n",
    "\n",
    "### Summary in Hinglish:\n",
    "- **`Animal`** class ka kaam hai animal ka name store karna aur ek generic `speak` method dena jo subclass customize kare.\n",
    "- **`Pet`** class ka kaam hai pet ka owner store karna.\n",
    "- **`Dog`** class `Animal` aur `Pet` dono se inherit karti hai, apna name aur owner set karti hai, aur apna custom `speak` method implement karti hai.\n",
    "- Multiple inheritance ke through, ek `Dog` ke paas dono base classes ki functionality hai."
   ]
  },
  {
   "cell_type": "markdown",
   "metadata": {},
   "source": []
  }
 ],
 "metadata": {
  "kernelspec": {
   "display_name": "Python 3",
   "language": "python",
   "name": "python3"
  },
  "language_info": {
   "codemirror_mode": {
    "name": "ipython",
    "version": 3
   },
   "file_extension": ".py",
   "mimetype": "text/x-python",
   "name": "python",
   "nbconvert_exporter": "python",
   "pygments_lexer": "ipython3",
   "version": "3.12.0"
  }
 },
 "nbformat": 4,
 "nbformat_minor": 2
}
