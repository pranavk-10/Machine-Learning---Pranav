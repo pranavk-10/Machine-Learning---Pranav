{
 "cells": [
  {
   "cell_type": "code",
   "execution_count": 27,
   "id": "28a56b63",
   "metadata": {},
   "outputs": [],
   "source": [
    "# Step 1: Import Libraries and Load the Model\n",
    "import numpy as np\n",
    "import tensorflow as tf\n",
    "from tensorflow.keras.datasets import imdb\n",
    "from tensorflow.keras.preprocessing import sequence\n",
    "from tensorflow.keras.models import load_model"
   ]
  },
  {
   "cell_type": "code",
   "execution_count": 28,
   "id": "20b4c66c",
   "metadata": {},
   "outputs": [],
   "source": [
    "\n",
    "# Load the IMDB dataset word index\n",
    "word_index = imdb.get_word_index()\n",
    "reverse_word_index = {value: key for key, value in word_index.items()}"
   ]
  },
  {
   "cell_type": "code",
   "execution_count": 29,
   "id": "cf28d6f4",
   "metadata": {},
   "outputs": [],
   "source": [
    "\n",
    "# Load the IMDB dataset word index\n",
    "word_index = imdb.get_word_index()\n",
    "reverse_word_index = {value: key for key, value in word_index.items()}"
   ]
  },
  {
   "cell_type": "code",
   "execution_count": 30,
   "id": "6bb4910b",
   "metadata": {},
   "outputs": [
    {
     "name": "stderr",
     "output_type": "stream",
     "text": [
      "WARNING:absl:Compiled the loaded model, but the compiled metrics have yet to be built. `model.compile_metrics` will be empty until you train or evaluate the model.\n"
     ]
    },
    {
     "data": {
      "text/html": [
       "<pre style=\"white-space:pre;overflow-x:auto;line-height:normal;font-family:Menlo,'DejaVu Sans Mono',consolas,'Courier New',monospace\"><span style=\"font-weight: bold\">Model: \"sequential_2\"</span>\n",
       "</pre>\n"
      ],
      "text/plain": [
       "\u001b[1mModel: \"sequential_2\"\u001b[0m\n"
      ]
     },
     "metadata": {},
     "output_type": "display_data"
    },
    {
     "data": {
      "text/html": [
       "<pre style=\"white-space:pre;overflow-x:auto;line-height:normal;font-family:Menlo,'DejaVu Sans Mono',consolas,'Courier New',monospace\">┏━━━━━━━━━━━━━━━━━━━━━━━━━━━━━━━━━┳━━━━━━━━━━━━━━━━━━━━━━━━┳━━━━━━━━━━━━━━━┓\n",
       "┃<span style=\"font-weight: bold\"> Layer (type)                    </span>┃<span style=\"font-weight: bold\"> Output Shape           </span>┃<span style=\"font-weight: bold\">       Param # </span>┃\n",
       "┡━━━━━━━━━━━━━━━━━━━━━━━━━━━━━━━━━╇━━━━━━━━━━━━━━━━━━━━━━━━╇━━━━━━━━━━━━━━━┩\n",
       "│ embedding_2 (<span style=\"color: #0087ff; text-decoration-color: #0087ff\">Embedding</span>)         │ (<span style=\"color: #00d7ff; text-decoration-color: #00d7ff\">None</span>, <span style=\"color: #00af00; text-decoration-color: #00af00\">500</span>, <span style=\"color: #00af00; text-decoration-color: #00af00\">128</span>)       │     <span style=\"color: #00af00; text-decoration-color: #00af00\">1,280,000</span> │\n",
       "├─────────────────────────────────┼────────────────────────┼───────────────┤\n",
       "│ simple_rnn_2 (<span style=\"color: #0087ff; text-decoration-color: #0087ff\">SimpleRNN</span>)        │ (<span style=\"color: #00d7ff; text-decoration-color: #00d7ff\">None</span>, <span style=\"color: #00af00; text-decoration-color: #00af00\">128</span>)            │        <span style=\"color: #00af00; text-decoration-color: #00af00\">32,896</span> │\n",
       "├─────────────────────────────────┼────────────────────────┼───────────────┤\n",
       "│ dense_2 (<span style=\"color: #0087ff; text-decoration-color: #0087ff\">Dense</span>)                 │ (<span style=\"color: #00d7ff; text-decoration-color: #00d7ff\">None</span>, <span style=\"color: #00af00; text-decoration-color: #00af00\">1</span>)              │           <span style=\"color: #00af00; text-decoration-color: #00af00\">129</span> │\n",
       "└─────────────────────────────────┴────────────────────────┴───────────────┘\n",
       "</pre>\n"
      ],
      "text/plain": [
       "┏━━━━━━━━━━━━━━━━━━━━━━━━━━━━━━━━━┳━━━━━━━━━━━━━━━━━━━━━━━━┳━━━━━━━━━━━━━━━┓\n",
       "┃\u001b[1m \u001b[0m\u001b[1mLayer (type)                   \u001b[0m\u001b[1m \u001b[0m┃\u001b[1m \u001b[0m\u001b[1mOutput Shape          \u001b[0m\u001b[1m \u001b[0m┃\u001b[1m \u001b[0m\u001b[1m      Param #\u001b[0m\u001b[1m \u001b[0m┃\n",
       "┡━━━━━━━━━━━━━━━━━━━━━━━━━━━━━━━━━╇━━━━━━━━━━━━━━━━━━━━━━━━╇━━━━━━━━━━━━━━━┩\n",
       "│ embedding_2 (\u001b[38;5;33mEmbedding\u001b[0m)         │ (\u001b[38;5;45mNone\u001b[0m, \u001b[38;5;34m500\u001b[0m, \u001b[38;5;34m128\u001b[0m)       │     \u001b[38;5;34m1,280,000\u001b[0m │\n",
       "├─────────────────────────────────┼────────────────────────┼───────────────┤\n",
       "│ simple_rnn_2 (\u001b[38;5;33mSimpleRNN\u001b[0m)        │ (\u001b[38;5;45mNone\u001b[0m, \u001b[38;5;34m128\u001b[0m)            │        \u001b[38;5;34m32,896\u001b[0m │\n",
       "├─────────────────────────────────┼────────────────────────┼───────────────┤\n",
       "│ dense_2 (\u001b[38;5;33mDense\u001b[0m)                 │ (\u001b[38;5;45mNone\u001b[0m, \u001b[38;5;34m1\u001b[0m)              │           \u001b[38;5;34m129\u001b[0m │\n",
       "└─────────────────────────────────┴────────────────────────┴───────────────┘\n"
      ]
     },
     "metadata": {},
     "output_type": "display_data"
    },
    {
     "data": {
      "text/html": [
       "<pre style=\"white-space:pre;overflow-x:auto;line-height:normal;font-family:Menlo,'DejaVu Sans Mono',consolas,'Courier New',monospace\"><span style=\"font-weight: bold\"> Total params: </span><span style=\"color: #00af00; text-decoration-color: #00af00\">1,313,027</span> (5.01 MB)\n",
       "</pre>\n"
      ],
      "text/plain": [
       "\u001b[1m Total params: \u001b[0m\u001b[38;5;34m1,313,027\u001b[0m (5.01 MB)\n"
      ]
     },
     "metadata": {},
     "output_type": "display_data"
    },
    {
     "data": {
      "text/html": [
       "<pre style=\"white-space:pre;overflow-x:auto;line-height:normal;font-family:Menlo,'DejaVu Sans Mono',consolas,'Courier New',monospace\"><span style=\"font-weight: bold\"> Trainable params: </span><span style=\"color: #00af00; text-decoration-color: #00af00\">1,313,025</span> (5.01 MB)\n",
       "</pre>\n"
      ],
      "text/plain": [
       "\u001b[1m Trainable params: \u001b[0m\u001b[38;5;34m1,313,025\u001b[0m (5.01 MB)\n"
      ]
     },
     "metadata": {},
     "output_type": "display_data"
    },
    {
     "data": {
      "text/html": [
       "<pre style=\"white-space:pre;overflow-x:auto;line-height:normal;font-family:Menlo,'DejaVu Sans Mono',consolas,'Courier New',monospace\"><span style=\"font-weight: bold\"> Non-trainable params: </span><span style=\"color: #00af00; text-decoration-color: #00af00\">0</span> (0.00 B)\n",
       "</pre>\n"
      ],
      "text/plain": [
       "\u001b[1m Non-trainable params: \u001b[0m\u001b[38;5;34m0\u001b[0m (0.00 B)\n"
      ]
     },
     "metadata": {},
     "output_type": "display_data"
    },
    {
     "data": {
      "text/html": [
       "<pre style=\"white-space:pre;overflow-x:auto;line-height:normal;font-family:Menlo,'DejaVu Sans Mono',consolas,'Courier New',monospace\"><span style=\"font-weight: bold\"> Optimizer params: </span><span style=\"color: #00af00; text-decoration-color: #00af00\">2</span> (12.00 B)\n",
       "</pre>\n"
      ],
      "text/plain": [
       "\u001b[1m Optimizer params: \u001b[0m\u001b[38;5;34m2\u001b[0m (12.00 B)\n"
      ]
     },
     "metadata": {},
     "output_type": "display_data"
    }
   ],
   "source": [
    "# Load the pre-trained model with ReLU activation\n",
    "model = load_model('simple_rnn_imdb.h5')\n",
    "model.summary()"
   ]
  },
  {
   "cell_type": "code",
   "execution_count": 31,
   "id": "1c14fc6d",
   "metadata": {},
   "outputs": [
    {
     "data": {
      "text/plain": [
       "[array([[ 0.07243263,  0.695529  , -0.21363859, ...,  0.09769848,\n",
       "         -0.27102494, -0.04551341],\n",
       "        [-0.02872943,  0.07047661,  0.01530681, ..., -0.05027702,\n",
       "          0.02106998,  0.00509053],\n",
       "        [-0.18141338,  0.15249628,  0.03003034, ..., -0.12805614,\n",
       "          0.15047668, -0.03736756],\n",
       "        ...,\n",
       "        [ 0.02502649,  0.02943217, -0.04413778, ..., -0.08331008,\n",
       "          0.03092222, -0.02919414],\n",
       "        [ 0.02045038, -0.03135797,  0.01728676, ...,  0.02103104,\n",
       "         -0.06307431,  0.04170669],\n",
       "        [-0.12405739, -0.11738366,  0.04828321, ..., -0.1073436 ,\n",
       "          0.0319545 , -0.04642646]], dtype=float32),\n",
       " array([[ 0.05761372,  0.05677788,  0.04627914, ..., -0.13933273,\n",
       "          0.13692194,  0.06177494],\n",
       "        [ 0.07961873, -0.0035744 ,  0.04995602, ..., -0.02174604,\n",
       "         -0.03269584, -0.00271874],\n",
       "        [-0.14348796, -0.17118281,  0.06609619, ...,  0.102474  ,\n",
       "          0.10409244, -0.09560369],\n",
       "        ...,\n",
       "        [-0.02039182, -0.1232539 , -0.09005821, ...,  0.01970137,\n",
       "          0.04417969,  0.00761303],\n",
       "        [-0.08596161,  0.07060388, -0.14148884, ..., -0.03010486,\n",
       "          0.04492567, -0.08803416],\n",
       "        [-0.0800779 ,  0.1580058 ,  0.07128137, ...,  0.15372823,\n",
       "          0.20871472,  0.18557756]], dtype=float32),\n",
       " array([[ 0.02613095, -0.07519805, -0.15929267, ...,  0.08028782,\n",
       "         -0.13271151, -0.01259434],\n",
       "        [-0.10590282, -0.01803604,  0.09488469, ...,  0.03839912,\n",
       "          0.16274281,  0.00292646],\n",
       "        [ 0.00204668,  0.00587408, -0.07010418, ..., -0.07203759,\n",
       "          0.05588565, -0.03817026],\n",
       "        ...,\n",
       "        [-0.13283809,  0.02034633, -0.01686037, ..., -0.10469709,\n",
       "         -0.06782468,  0.04607811],\n",
       "        [ 0.20332515,  0.28838924,  0.11320796, ...,  0.10719146,\n",
       "         -0.0723078 ,  0.08893134],\n",
       "        [-0.05677667, -0.06534424,  0.00296245, ..., -0.02397986,\n",
       "         -0.07294796,  0.10852645]], dtype=float32),\n",
       " array([-0.02144721, -0.00862363, -0.01670887, -0.03209309,  0.02106884,\n",
       "        -0.03748851, -0.02270934, -0.0141174 ,  0.00382784, -0.00533347,\n",
       "         0.03445274, -0.02494167,  0.04835915, -0.00916452, -0.01273906,\n",
       "        -0.00661654, -0.02298549, -0.03521051, -0.04743493, -0.03279005,\n",
       "         0.03420438,  0.01549496, -0.00424482, -0.00047856,  0.01510851,\n",
       "         0.00193495,  0.03216976, -0.02155102,  0.01110618, -0.0317667 ,\n",
       "        -0.04389357, -0.03870662, -0.00016873,  0.00109612,  0.04641645,\n",
       "         0.01733664,  0.04033463,  0.04628843, -0.02490553, -0.02406685,\n",
       "        -0.03492033, -0.05219211, -0.00186681,  0.00936699, -0.02652609,\n",
       "        -0.00422371, -0.01572954, -0.01335271,  0.06008019, -0.03458912,\n",
       "        -0.00536922, -0.03493235,  0.02483613, -0.00547169, -0.00991435,\n",
       "        -0.03164134,  0.02094533, -0.03486609,  0.00690804, -0.00071382,\n",
       "        -0.03747923,  0.02233536,  0.00877338,  0.0234577 , -0.00338614,\n",
       "         0.0607074 ,  0.01246392, -0.00550459, -0.01559722,  0.02513339,\n",
       "        -0.03645952,  0.01194423,  0.05358154,  0.04464126,  0.00305364,\n",
       "        -0.04438975, -0.02182661, -0.01483125, -0.02331015,  0.01420896,\n",
       "        -0.04122712, -0.02394031, -0.0240029 , -0.01978299, -0.00098129,\n",
       "         0.04048912,  0.03848676, -0.01503183, -0.02025743,  0.0205146 ,\n",
       "        -0.03325792,  0.04057043,  0.01539623,  0.0205896 ,  0.04240128,\n",
       "         0.00731664, -0.04230486, -0.00952386,  0.03807077, -0.0485303 ,\n",
       "         0.00684647, -0.01514714,  0.03529935,  0.02289171,  0.00384349,\n",
       "         0.01972949,  0.01263382,  0.01859493,  0.00642402,  0.00497827,\n",
       "        -0.02868531,  0.06808113, -0.03306342,  0.02060651, -0.03930266,\n",
       "         0.02707264,  0.00144507,  0.0011137 ,  0.04335166, -0.01490166,\n",
       "         0.02559096,  0.02505796, -0.04349013,  0.04459181,  0.04851169,\n",
       "         0.00777337, -0.04207138, -0.03162696], dtype=float32),\n",
       " array([[ 0.21942174],\n",
       "        [ 0.35036272],\n",
       "        [-0.09133747],\n",
       "        [-0.0112541 ],\n",
       "        [ 0.08251556],\n",
       "        [ 0.02949053],\n",
       "        [-0.11924402],\n",
       "        [ 0.00536241],\n",
       "        [-0.17204335],\n",
       "        [ 0.06874775],\n",
       "        [-0.11672611],\n",
       "        [ 0.06594564],\n",
       "        [-0.18906486],\n",
       "        [-0.02366645],\n",
       "        [-0.22116445],\n",
       "        [-0.19336483],\n",
       "        [-0.31094623],\n",
       "        [-0.17189544],\n",
       "        [-0.14034131],\n",
       "        [-0.13154876],\n",
       "        [-0.03480084],\n",
       "        [-0.27882007],\n",
       "        [ 0.07697012],\n",
       "        [-0.09674019],\n",
       "        [ 0.11760915],\n",
       "        [-0.01935657],\n",
       "        [-0.28122175],\n",
       "        [ 0.02822458],\n",
       "        [-0.36878848],\n",
       "        [-0.17548987],\n",
       "        [-0.14661989],\n",
       "        [-0.37110955],\n",
       "        [ 0.10308494],\n",
       "        [-0.10946576],\n",
       "        [-0.10389443],\n",
       "        [ 0.00417438],\n",
       "        [ 0.0452111 ],\n",
       "        [-0.3634304 ],\n",
       "        [-0.08144998],\n",
       "        [ 0.01104189],\n",
       "        [-0.22277811],\n",
       "        [-0.21506834],\n",
       "        [-0.14469717],\n",
       "        [ 0.1492459 ],\n",
       "        [ 0.13352914],\n",
       "        [ 0.19887547],\n",
       "        [-0.2679816 ],\n",
       "        [-0.22528929],\n",
       "        [-0.04753806],\n",
       "        [ 0.20394273],\n",
       "        [-0.2572922 ],\n",
       "        [ 0.03889776],\n",
       "        [-0.39051318],\n",
       "        [ 0.37028542],\n",
       "        [ 0.24887356],\n",
       "        [-0.21902913],\n",
       "        [ 0.21495327],\n",
       "        [-0.12630346],\n",
       "        [-0.00644238],\n",
       "        [ 0.16009337],\n",
       "        [ 0.00934267],\n",
       "        [-0.01021419],\n",
       "        [ 0.15276265],\n",
       "        [ 0.14371558],\n",
       "        [-0.33893666],\n",
       "        [ 0.13536866],\n",
       "        [-0.13014187],\n",
       "        [ 0.17253122],\n",
       "        [-0.10982037],\n",
       "        [ 0.10687767],\n",
       "        [-0.2267294 ],\n",
       "        [-0.10223851],\n",
       "        [-0.26993364],\n",
       "        [-0.07481543],\n",
       "        [-0.15219578],\n",
       "        [ 0.20638275],\n",
       "        [-0.07601614],\n",
       "        [ 0.0106752 ],\n",
       "        [ 0.36238655],\n",
       "        [-0.24985546],\n",
       "        [ 0.05611349],\n",
       "        [-0.25863215],\n",
       "        [-0.28033862],\n",
       "        [-0.03477083],\n",
       "        [ 0.58187586],\n",
       "        [ 0.05826187],\n",
       "        [ 0.2887908 ],\n",
       "        [-0.04295841],\n",
       "        [-0.19734928],\n",
       "        [ 0.31527722],\n",
       "        [ 0.06216718],\n",
       "        [ 0.25123072],\n",
       "        [ 0.20121084],\n",
       "        [ 0.1792485 ],\n",
       "        [-0.07350161],\n",
       "        [ 0.1685698 ],\n",
       "        [ 0.07438681],\n",
       "        [-0.02461768],\n",
       "        [-0.11830822],\n",
       "        [-0.07698278],\n",
       "        [-0.46164438],\n",
       "        [-0.3540914 ],\n",
       "        [-0.28165352],\n",
       "        [-0.65897524],\n",
       "        [ 0.3327887 ],\n",
       "        [-0.01365995],\n",
       "        [ 0.05536013],\n",
       "        [ 0.39520615],\n",
       "        [-0.1688488 ],\n",
       "        [-0.25218797],\n",
       "        [ 0.6702756 ],\n",
       "        [ 0.09975205],\n",
       "        [-0.07790729],\n",
       "        [-0.01485086],\n",
       "        [ 0.05884724],\n",
       "        [ 0.05063071],\n",
       "        [-0.04377653],\n",
       "        [ 0.01761112],\n",
       "        [-0.24618232],\n",
       "        [ 0.12578301],\n",
       "        [ 0.10249354],\n",
       "        [-0.11640081],\n",
       "        [ 0.0608983 ],\n",
       "        [ 0.19996864],\n",
       "        [-0.21329139],\n",
       "        [ 0.04993771],\n",
       "        [-0.42228842],\n",
       "        [-0.19179285]], dtype=float32),\n",
       " array([-0.5006847], dtype=float32)]"
      ]
     },
     "execution_count": 31,
     "metadata": {},
     "output_type": "execute_result"
    }
   ],
   "source": [
    "model.get_weights()"
   ]
  },
  {
   "cell_type": "code",
   "execution_count": 32,
   "id": "b0c790c9",
   "metadata": {},
   "outputs": [],
   "source": [
    "# Step 2: Helper Functions\n",
    "# Function to decode reviews\n",
    "def decode_review(encoded_review):\n",
    "    return ' '.join([reverse_word_index.get(i - 3, '?') for i in encoded_review])\n",
    "\n",
    "# Function to preprocess user input\n",
    "def preprocess_text(text):\n",
    "    words = text.lower().split()\n",
    "    encoded_review = [word_index.get(word, 2) + 3 for word in words]\n",
    "    padded_review = sequence.pad_sequences([encoded_review], maxlen=500)\n",
    "    return padded_review"
   ]
  },
  {
   "cell_type": "code",
   "execution_count": 33,
   "id": "6ae59774",
   "metadata": {},
   "outputs": [],
   "source": [
    "### Prediction  function\n",
    "\n",
    "def predict_sentiment(review):\n",
    "    preprocessed_input=preprocess_text(review)\n",
    "\n",
    "    prediction=model.predict(preprocessed_input)\n",
    "\n",
    "    sentiment = 'Positive' if prediction[0][0] > 0.5 else 'Negative'\n",
    "    \n",
    "    return sentiment, prediction[0][0]\n",
    "\n"
   ]
  },
  {
   "cell_type": "code",
   "execution_count": 34,
   "id": "f761837e",
   "metadata": {},
   "outputs": [
    {
     "name": "stdout",
     "output_type": "stream",
     "text": [
      "\u001b[1m1/1\u001b[0m \u001b[32m━━━━━━━━━━━━━━━━━━━━\u001b[0m\u001b[37m\u001b[0m \u001b[1m0s\u001b[0m 203ms/step\n",
      "Review: This movie was fantastic! The acting was great and the plot was thrilling.\n",
      "Sentiment: Negative\n",
      "Prediction Score: 0.4018456041812897\n"
     ]
    }
   ],
   "source": [
    "# Step 4: User Input and Prediction\n",
    "# Example review for prediction\n",
    "example_review = \"This movie was fantastic! The acting was great and the plot was thrilling.\"\n",
    "\n",
    "sentiment,score=predict_sentiment(example_review)\n",
    "\n",
    "print(f'Review: {example_review}')\n",
    "print(f'Sentiment: {sentiment}')\n",
    "print(f'Prediction Score: {score}')"
   ]
  },
  {
   "cell_type": "code",
   "execution_count": null,
   "id": "aa9010d2",
   "metadata": {},
   "outputs": [],
   "source": []
  },
  {
   "cell_type": "code",
   "execution_count": null,
   "id": "fc7929e9",
   "metadata": {},
   "outputs": [],
   "source": []
  },
  {
   "cell_type": "code",
   "execution_count": null,
   "id": "3930ba8e",
   "metadata": {},
   "outputs": [],
   "source": []
  },
  {
   "cell_type": "code",
   "execution_count": null,
   "id": "f9bef44a",
   "metadata": {},
   "outputs": [],
   "source": []
  },
  {
   "cell_type": "code",
   "execution_count": null,
   "id": "86f0d60b",
   "metadata": {},
   "outputs": [],
   "source": []
  }
 ],
 "metadata": {
  "kernelspec": {
   "display_name": "myenv",
   "language": "python",
   "name": "python3"
  },
  "language_info": {
   "codemirror_mode": {
    "name": "ipython",
    "version": 3
   },
   "file_extension": ".py",
   "mimetype": "text/x-python",
   "name": "python",
   "nbconvert_exporter": "python",
   "pygments_lexer": "ipython3",
   "version": "3.12.11"
  }
 },
 "nbformat": 4,
 "nbformat_minor": 5
}
