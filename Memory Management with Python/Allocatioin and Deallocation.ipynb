{
 "cells": [
  {
   "cell_type": "markdown",
   "metadata": {},
   "source": [
    "### Python Memory Management\n",
    "\n",
    "Memory management in Python involves a ombination of automatic garbage collection, refernces and various internal optimizatons to effectively manage memory allocation and deallocation. Here are some key aspects of Python memory management:\n",
    "\n",
    "1 Key Concepts in python memory management\n",
    "2 Memory Allocation and Deallocation\n",
    "3 Refence Counting\n",
    "4 Garbage Collection\n",
    "5 The GC Module\n",
    "6 Memory Management Best Practices"
   ]
  },
  {
   "cell_type": "code",
   "execution_count": 2,
   "metadata": {},
   "outputs": [
    {
     "name": "stdout",
     "output_type": "stream",
     "text": [
      "2\n"
     ]
    }
   ],
   "source": [
    "import sys\n",
    "\n",
    "a=[\n",
    "]\n",
    "\n",
    "print(sys.getrefcount(a))"
   ]
  },
  {
   "cell_type": "code",
   "execution_count": 3,
   "metadata": {},
   "outputs": [
    {
     "name": "stdout",
     "output_type": "stream",
     "text": [
      "3\n"
     ]
    }
   ],
   "source": [
    "b = a\n",
    "print(sys.getrefcount(b))\n"
   ]
  },
  {
   "cell_type": "code",
   "execution_count": 4,
   "metadata": {},
   "outputs": [
    {
     "name": "stdout",
     "output_type": "stream",
     "text": [
      "2\n"
     ]
    }
   ],
   "source": [
    "del b\n",
    "print(sys.getrefcount(a))\n",
    "\n"
   ]
  },
  {
   "cell_type": "code",
   "execution_count": 5,
   "metadata": {},
   "outputs": [],
   "source": [
    "import gc\n",
    "\n",
    "gc.enable()"
   ]
  },
  {
   "cell_type": "code",
   "execution_count": 6,
   "metadata": {},
   "outputs": [],
   "source": [
    "gc.disable()"
   ]
  },
  {
   "cell_type": "code",
   "execution_count": 7,
   "metadata": {},
   "outputs": [
    {
     "data": {
      "text/plain": [
       "571"
      ]
     },
     "execution_count": 7,
     "metadata": {},
     "output_type": "execute_result"
    }
   ],
   "source": [
    "gc.collect()"
   ]
  },
  {
   "cell_type": "code",
   "execution_count": 9,
   "metadata": {},
   "outputs": [
    {
     "name": "stdout",
     "output_type": "stream",
     "text": [
      "[{'collections': 262, 'collected': 1242, 'uncollectable': 0}, {'collections': 23, 'collected': 289, 'uncollectable': 0}, {'collections': 3, 'collected': 645, 'uncollectable': 0}]\n"
     ]
    }
   ],
   "source": [
    "print(gc.get_stats())"
   ]
  },
  {
   "cell_type": "code",
   "execution_count": 11,
   "metadata": {},
   "outputs": [
    {
     "name": "stdout",
     "output_type": "stream",
     "text": [
      "Object obj1 created\n",
      "Object obj2 created\n",
      "Object obj1 deleted\n",
      "Object obj2 deleted\n",
      "Object obj1 deleted\n",
      "Object obj2 deleted\n"
     ]
    },
    {
     "data": {
      "text/plain": [
       "25"
      ]
     },
     "execution_count": 11,
     "metadata": {},
     "output_type": "execute_result"
    }
   ],
   "source": [
    "import gc\n",
    "\n",
    "class MyObject:\n",
    "    def __init__(self, name):\n",
    "        self.name = name\n",
    "        print(f\"Object {self.name} created\")\n",
    "\n",
    "    def __del__(self):\n",
    "        print(f\"Object {self.name} deleted\")\n",
    "\n",
    "obj1 = MyObject(\"obj1\")\n",
    "obj2 = MyObject(\"obj2\")\n",
    "obj1.ref = obj2\n",
    "obj2.ref = obj1  # Uncomment this line to see the cycle detection\n",
    "\n",
    "del obj1\n",
    "del obj2\n",
    "\n",
    "gc.collect()"
   ]
  },
  {
   "cell_type": "markdown",
   "metadata": {},
   "source": [
    "Yeh code Python mein memory management aur garbage collection ka demonstration hai. Chaliye isse step-by-step samjhte hain:\n",
    "\n",
    "Class Definition: MyObject naam ki ek class banayi gayi hai. Is class ka constructor (__init__) ek name parameter leta hai aur jab object create hota hai, tab yeh print karta hai ki object ka naam kya hai.\n",
    "\n",
    "Destructor: __del__ method ko define kiya gaya hai, jo object delete hone par call hota hai. Jab object ko delete kiya jata hai, tab yeh print karta hai ki object ka naam kya hai.\n",
    "\n",
    "Object Creation:\n",
    "\n",
    "obj1 aur obj2 naam ke do objects create kiye gaye hain, jinka naam respectively \"obj1\" aur \"obj2\" hai. Jab yeh objects create hote hain, tab constructor message print karta hai.\n",
    "Circular Reference:\n",
    "\n",
    "obj1 ka reference obj2 ki taraf hai (obj1.ref = obj2), aur obj2 ka reference obj1 ki taraf hai (obj2.ref = obj1). Isse circular reference create hota hai, jo garbage collector ke liye thoda tricky hota hai.\n",
    "Deleting Objects:\n",
    "\n",
    "del obj1 aur del obj2 se dono objects ko delete karne ki koshish ki ja rahi hai. Lekin, kyunki dono objects ek dusre ko reference kar rahe hain, isliye unka reference count zero nahi hota.\n",
    "Garbage Collection:\n",
    "\n",
    "gc.collect() function ko call kiya gaya hai, jo Python ke garbage collector ko manually invoke karta hai. Yeh function circular references ko detect karne aur unhe clean up karne ki koshish karta hai.\n",
    "Output:\n",
    "\n",
    "Agar circular reference uncommented hai, toh jab gc.collect() call hota hai, tab destructor method call hota hai aur print karta hai ki objects delete ho gaye hain.\n",
    "Is code ka main purpose yeh dikhana hai ki kaise Python mein objects create hote hain, unka reference kaise manage hota hai, aur garbage collection kaise kaam karta hai, khaas taur par circular references ke case mein."
   ]
  },
  {
   "cell_type": "markdown",
   "metadata": {},
   "source": [
    "## Generators for memory efficiency\n",
    "\n",
    "def generate_numbers(n):\n",
    "    for i in range(n):\n",
    "        yield i\n",
    "\n",
    "for num in generate_numbers(10000):\n",
    "    print(num)\n",
    "    if num > 10:\n",
    "        break"
   ]
  },
  {
   "cell_type": "code",
   "execution_count": 13,
   "metadata": {},
   "outputs": [],
   "source": [
    "import tracemalloc\n",
    "\n",
    "def create_list():\n",
    "    return [i for i in range(10000)]\n",
    "\n",
    "def main():\n",
    "    tracemalloc.start()\n",
    "\n",
    "    create_list()\n",
    "\n",
    "    snapshot = tracemalloc.take_snapshot()\n",
    "    top_stats = snapshot.statistics('lineno')\n",
    "\n",
    "    print(\"[TOP 10! ]\")\n",
    "    for stat in top_stats[::]:\n",
    "        print(stat)\n"
   ]
  },
  {
   "cell_type": "code",
   "execution_count": 14,
   "metadata": {},
   "outputs": [
    {
     "name": "stdout",
     "output_type": "stream",
     "text": [
      "[TOP 10! ]\n",
      "d:\\programming\\Machine Learning, Data Science by Krish Naik\\myenv\\Lib\\tracemalloc.py:551: size=72 B, count=1, average=72 B\n",
      "C:\\Users\\hp\\AppData\\Local\\Temp\\ipykernel_19004\\3849427694.py:3: size=72 B, count=1, average=72 B\n"
     ]
    }
   ],
   "source": [
    "main()"
   ]
  },
  {
   "cell_type": "markdown",
   "metadata": {},
   "source": [
    "Good morning, bhidu! Chalo, is code ko hinglish mein samjhaata hoon.\n",
    "\n",
    "### Purpose of the Code:\n",
    "Is code ka main purpose **memory usage ko track karna** hai Python mein. Matlab, jab tumhara program chal raha hota hai, to yeh dekhna ki kitni memory use ho rahi hai aur kaha pe zyada memory consumption ho rahi hai.\n",
    "\n",
    "### Code Breakdown:\n",
    "\n",
    "1. **`import tracemalloc`**\n",
    "   - Yeh line **`tracemalloc` module ko import karti hai**, jo memory tracking ke liye use hoti hai Python mein. Iska kaam hai memory ko monitor karna.\n",
    "\n",
    "2. **`def create_list():`**\n",
    "   - Yeh ek function hai **`create_list()`** ka, jo ek list return karta hai. \n",
    "   - **`[i for i in range(10000)]`** yeh list comprehension hai jo 10,000 numbers generate karti hai (0 se lekar 9999 tak). Matlab, list ka size 10,000 elements ka hoga.\n",
    "\n",
    "3. **`def main():`**\n",
    "   - Yeh main function hai, jahan memory tracking start hoti hai.\n",
    "\n",
    "4. **`tracemalloc.start()`**\n",
    "   - Is line se memory tracking start hoti hai. Matlab, jab se yeh line execute hoti hai, Python apni memory usage track karna shuru kar deta hai.\n",
    "\n",
    "5. **`create_list()`**\n",
    "   - Yeh function call karta hai **`create_list()`** ko, jo ek list banaata hai 10,000 numbers ki. Yeh list memory mein store hoti hai, aur hum us memory usage ko track karenge.\n",
    "\n",
    "6. **`snapshot = tracemalloc.take_snapshot()`**\n",
    "   - Yeh line ek snapshot leta hai memory usage ka. Matlab, yeh record kar leta hai ki abhi kis point par kitni memory use ho rahi hai program ke andar.\n",
    "\n",
    "7. **`top_stats = snapshot.statistics('lineno')`**\n",
    "   - Yeh line snapshot se memory statistics fetch karti hai. **`statistics('lineno')`** se humko yeh pata chal sakta hai ki kis line par zyada memory use ho rahi hai.\n",
    "\n",
    "8. **`print(\"[TOP 10!]\")`**\n",
    "   - Yeh ek message print karta hai taaki samajh mein aaye ki jo stats aa rahe hain, wo top 10 hai.\n",
    "\n",
    "9. **`for stat in top_stats[::]:`**\n",
    "   - Yeh loop chalata hai **`top_stats`** ke upar, jo memory usage ka data hai. Yeh poora data print kar raha hai. Agar tumhe top 10 stats chahiye, to **`top_stats[0:10]`** likhna hoga.\n",
    "\n",
    "10. **`print(stat)`**\n",
    "    - Yeh line har ek memory stat ko print karti hai console par. Isme yeh batata hai ki kis line par kitni memory allocate hui hai.\n",
    "\n",
    "### Summary:\n",
    "Is code ka main kaam yeh hai ki yeh tumhare program ke execution ke dauran memory usage ko track karta hai aur tumhe dikhata hai ki kis line pe zyada memory use ho rahi hai. Isse tumhe apne program ko optimize karne mein madad mil sakti hai, jahan zyada memory consumption ho rahi ho.\n",
    "\n",
    "Agar koi aur confusion ho toh bata, bhidu!\n"
   ]
  },
  {
   "cell_type": "code",
   "execution_count": null,
   "metadata": {},
   "outputs": [],
   "source": []
  }
 ],
 "metadata": {
  "kernelspec": {
   "display_name": "Python 3",
   "language": "python",
   "name": "python3"
  },
  "language_info": {
   "codemirror_mode": {
    "name": "ipython",
    "version": 3
   },
   "file_extension": ".py",
   "mimetype": "text/x-python",
   "name": "python",
   "nbconvert_exporter": "python",
   "pygments_lexer": "ipython3",
   "version": "3.12.7"
  }
 },
 "nbformat": 4,
 "nbformat_minor": 2
}
